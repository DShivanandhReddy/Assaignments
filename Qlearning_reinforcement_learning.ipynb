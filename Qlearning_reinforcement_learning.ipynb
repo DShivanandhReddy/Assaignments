{
  "nbformat": 4,
  "nbformat_minor": 0,
  "metadata": {
    "colab": {
      "name": "Qlearning_reinforcement_learning.ipynb",
      "provenance": []
    },
    "kernelspec": {
      "name": "python3",
      "display_name": "Python 3"
    },
    "language_info": {
      "name": "python"
    }
  },
  "cells": [
    {
      "cell_type": "code",
      "execution_count": 1,
      "metadata": {
        "id": "JkSBjsVitqnr"
      },
      "outputs": [],
      "source": [
        "import numpy as np\n",
        "import pandas as pd"
      ]
    },
    {
      "cell_type": "code",
      "source": [
        "R = pd.read_excel(\"R matrix.xlsx\",header=None)"
      ],
      "metadata": {
        "id": "YmOgBbbG5fHl"
      },
      "execution_count": 2,
      "outputs": []
    },
    {
      "cell_type": "code",
      "source": [
        "R = np.matrix(R)\n",
        "R"
      ],
      "metadata": {
        "colab": {
          "base_uri": "https://localhost:8080/"
        },
        "id": "ccejMAN55o1j",
        "outputId": "59900add-e9ce-4e51-e4aa-1131a0ea3f28"
      },
      "execution_count": 3,
      "outputs": [
        {
          "output_type": "execute_result",
          "data": {
            "text/plain": [
              "matrix([[ -1,  -1,  -1,   0,  -1,  -1,  -1,  -1,  -1,  -1],\n",
              "        [ -1,  -1,   0,  -1,  -1,  -1,  -1,  -1,  -1,  -1],\n",
              "        [ -1,   0,  -1,  -1,  -1,   0,  -1,  -1,  -1, 100],\n",
              "        [  0,  -1,  -1,  -1,   0,  -1,   0,  -1,  -1,  -1],\n",
              "        [ -1,  -1,  -1,   0,  -1,   0,  -1,   0,  -1,  -1],\n",
              "        [ -1,  -1,   0,  -1,   0,  -1,  -1,  -1,  -1,  -1],\n",
              "        [ -1,  -1,  -1,   0,  -1,  -1,  -1,  -1,  -1,  -1],\n",
              "        [ -1,  -1,  -1,  -1,   0,  -1,  -1,  -1,   0, 100],\n",
              "        [ -1,  -1,  -1,  -1,  -1,  -1,  -1,   0,  -1,  -1],\n",
              "        [ -1,  -1,   0,  -1,  -1,  -1,  -1,   0,  -1, 100]])"
            ]
          },
          "metadata": {},
          "execution_count": 3
        }
      ]
    },
    {
      "cell_type": "code",
      "source": [
        "# intialize Q matrix\n",
        "Q = np.zeros([10,10])"
      ],
      "metadata": {
        "id": "doHSB8hS5v57"
      },
      "execution_count": 30,
      "outputs": []
    },
    {
      "cell_type": "code",
      "source": [
        "# setting gamma parameter\n",
        "gamma = 0.7"
      ],
      "metadata": {
        "id": "AhIkeXuv58z9"
      },
      "execution_count": 5,
      "outputs": []
    },
    {
      "cell_type": "code",
      "source": [
        "#intialize state for the mouse(We will later make this selection random)\n",
        "intial_state = 2"
      ],
      "metadata": {
        "id": "xzROForZ6Bjk"
      },
      "execution_count": 6,
      "outputs": []
    },
    {
      "cell_type": "code",
      "source": [
        "# find available actions\n",
        "def avl_action(state):\n",
        "  current_state_row=R[state,]\n",
        "  av_act=np.where(current_state_row>=0)[1]\n",
        "  return av_act\n"
      ],
      "metadata": {
        "id": "kMNYXO_j6QFC"
      },
      "execution_count": 9,
      "outputs": []
    },
    {
      "cell_type": "code",
      "source": [
        "# get the available actions in current state = 2\n",
        "available_actions= avl_action(intial_state)\n",
        "available_actions"
      ],
      "metadata": {
        "colab": {
          "base_uri": "https://localhost:8080/"
        },
        "id": "rJ8PtPGN7FJf",
        "outputId": "f98f1622-999a-4cc0-f9a9-042123b7b6f9"
      },
      "execution_count": 15,
      "outputs": [
        {
          "output_type": "execute_result",
          "data": {
            "text/plain": [
              "array([1, 5, 9])"
            ]
          },
          "metadata": {},
          "execution_count": 15
        }
      ]
    },
    {
      "cell_type": "code",
      "source": [
        "# Selecting random choice from available actions\n",
        "def sample_mext_action(available_actions_range):\n",
        "  next_action = int(np.random.choice(available_actions_range,1))\n",
        "  return next_action\n"
      ],
      "metadata": {
        "id": "UklTR4-j7Ubm"
      },
      "execution_count": 16,
      "outputs": []
    },
    {
      "cell_type": "code",
      "source": [
        "action = sample_mext_action(available_actions)\n",
        "action"
      ],
      "metadata": {
        "colab": {
          "base_uri": "https://localhost:8080/"
        },
        "id": "JjFx7yTU8-yU",
        "outputId": "169053ab-5759-4071-8ecf-1fbee12a6cee"
      },
      "execution_count": 20,
      "outputs": [
        {
          "output_type": "execute_result",
          "data": {
            "text/plain": [
              "9"
            ]
          },
          "metadata": {},
          "execution_count": 20
        }
      ]
    },
    {
      "cell_type": "code",
      "source": [
        "# updating the Q matrix Q[s, a] = R[s, a] +  gamma*Max[Q[s, a])\n",
        "def update(current_state,action,gamma):\n",
        "  max_index = np.where(Q[action,] == np.max(Q[action,]))[0]\n",
        "  if max_index.shape[0]>1:\n",
        "    max_index = int(np.random.choice(max_index,1))\n",
        "  else:\n",
        "    max_index = int(max_index)\n",
        "  max_value = Q[action,max_index]\n",
        "  Q[current_state,action] = R[current_state,action] + gamma*max_value"
      ],
      "metadata": {
        "id": "x4e2pAaS-Hv7"
      },
      "execution_count": 25,
      "outputs": []
    },
    {
      "cell_type": "code",
      "source": [
        "update(intial_state,action,gamma)\n",
        "Q"
      ],
      "metadata": {
        "colab": {
          "base_uri": "https://localhost:8080/"
        },
        "id": "5Rg47qhK_DWd",
        "outputId": "a7b52df9-2b1e-4bec-957a-8d36d59922ff"
      },
      "execution_count": 26,
      "outputs": [
        {
          "output_type": "execute_result",
          "data": {
            "text/plain": [
              "array([[  0.,   0.,   0.,   0.,   0.,   0.,   0.,   0.,   0.,   0.],\n",
              "       [  0.,   0.,   0.,   0.,   0.,   0.,   0.,   0.,   0.,   0.],\n",
              "       [  0.,   0.,   0.,   0.,   0.,   0.,   0.,   0.,   0., 100.],\n",
              "       [  0.,   0.,   0.,   0.,   0.,   0.,   0.,   0.,   0.,   0.],\n",
              "       [  0.,   0.,   0.,   0.,   0.,   0.,   0.,   0.,   0.,   0.],\n",
              "       [  0.,   0.,   0.,   0.,   0.,   0.,   0.,   0.,   0.,   0.],\n",
              "       [  0.,   0.,   0.,   0.,   0.,   0.,   0.,   0.,   0.,   0.],\n",
              "       [  0.,   0.,   0.,   0.,   0.,   0.,   0.,   0.,   0.,   0.],\n",
              "       [  0.,   0.,   0.,   0.,   0.,   0.,   0.,   0.,   0.,   0.],\n",
              "       [  0.,   0.,   0.,   0.,   0.,   0.,   0.,   0.,   0.,   0.]])"
            ]
          },
          "metadata": {},
          "execution_count": 26
        }
      ]
    },
    {
      "cell_type": "code",
      "source": [
        "# Training the Q matrix\n",
        "Q = np.zeros([10,10])\n",
        "for i in range(10000):\n",
        "  intial_state = np.random.randint(Q.shape[0])\n",
        "  available_actions = avl_action(intial_state)\n",
        "  action = sample_mext_action(available_actions)\n",
        "  gamma = 0.8\n",
        "  update(intial_state,action,gamma)"
      ],
      "metadata": {
        "id": "a0Kde_tNBllT"
      },
      "execution_count": 40,
      "outputs": []
    },
    {
      "cell_type": "code",
      "source": [
        "Q"
      ],
      "metadata": {
        "colab": {
          "base_uri": "https://localhost:8080/"
        },
        "id": "NitHep4kBpZG",
        "outputId": "01b5369e-f8cc-431c-d1b4-1d7bfa210434"
      },
      "execution_count": 41,
      "outputs": [
        {
          "output_type": "execute_result",
          "data": {
            "text/plain": [
              "array([[  0. ,   0. ,   0. , 256. ,   0. ,   0. ,   0. ,   0. ,   0. ,\n",
              "          0. ],\n",
              "       [  0. ,   0. , 400. ,   0. ,   0. ,   0. ,   0. ,   0. ,   0. ,\n",
              "          0. ],\n",
              "       [  0. , 320. ,   0. ,   0. ,   0. , 320. ,   0. ,   0. ,   0. ,\n",
              "        500. ],\n",
              "       [204.8,   0. ,   0. ,   0. , 320. ,   0. , 204.8,   0. ,   0. ,\n",
              "          0. ],\n",
              "       [  0. ,   0. ,   0. , 256. ,   0. , 320. ,   0. , 400. ,   0. ,\n",
              "          0. ],\n",
              "       [  0. ,   0. , 400. ,   0. , 320. ,   0. ,   0. ,   0. ,   0. ,\n",
              "          0. ],\n",
              "       [  0. ,   0. ,   0. , 256. ,   0. ,   0. ,   0. ,   0. ,   0. ,\n",
              "          0. ],\n",
              "       [  0. ,   0. ,   0. ,   0. , 320. ,   0. ,   0. ,   0. , 320. ,\n",
              "        500. ],\n",
              "       [  0. ,   0. ,   0. ,   0. ,   0. ,   0. ,   0. , 400. ,   0. ,\n",
              "          0. ],\n",
              "       [  0. ,   0. , 400. ,   0. ,   0. ,   0. ,   0. , 400. ,   0. ,\n",
              "        500. ]])"
            ]
          },
          "metadata": {},
          "execution_count": 41
        }
      ]
    },
    {
      "cell_type": "code",
      "source": [
        "current_state = 5\n",
        "steps = [current_state]\n",
        "while current_state != 9:\n",
        "  next_step_index = np.where(Q[current_state,] == np.max(Q[current_state,]))[0]\n",
        "  if next_step_index.shape[0]>1:\n",
        "    next_step_index = int(np.random.choice(next_step_index,1))\n",
        "  else:\n",
        "    next_step_index = int(next_step_index)\n",
        "  steps.append(next_step_index)\n",
        "  current_state = next_step_index\n",
        "\n",
        "print(\"The ideal path is: \", str(steps)[1:-1])\n",
        "   \n",
        "\n",
        "  \n"
      ],
      "metadata": {
        "colab": {
          "base_uri": "https://localhost:8080/"
        },
        "id": "LgOXyPVvFSeX",
        "outputId": "3c3af444-c49b-4dde-a762-3eb5b715057c"
      },
      "execution_count": 52,
      "outputs": [
        {
          "output_type": "stream",
          "name": "stdout",
          "text": [
            "The ideal path is:  5, 2, 9\n"
          ]
        }
      ]
    }
  ]
}