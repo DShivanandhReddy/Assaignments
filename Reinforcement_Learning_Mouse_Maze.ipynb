{
  "nbformat": 4,
  "nbformat_minor": 0,
  "metadata": {
    "colab": {
      "name": "Reinforcement_Learning_Mouse_Maze - GL PGPM BAAI 14 June 2022.ipynb",
      "provenance": [],
      "collapsed_sections": []
    },
    "kernelspec": {
      "name": "python3",
      "display_name": "Python 3"
    },
    "language_info": {
      "name": "python"
    }
  },
  "cells": [
    {
      "cell_type": "code",
      "execution_count": 1,
      "metadata": {
        "id": "JUcAE8P_FyB1"
      },
      "outputs": [],
      "source": [
        "import numpy as np\n",
        "import pandas as pd"
      ]
    },
    {
      "cell_type": "code",
      "source": [
        "# Create the State Action Reward Matrix\n",
        "\n",
        "R = pd.read_excel('Square Matrix.xlsx',header=None)"
      ],
      "metadata": {
        "id": "koB4KavrGIcI"
      },
      "execution_count": 2,
      "outputs": []
    },
    {
      "cell_type": "code",
      "source": [
        "R = np.matrix(R)\n",
        "R"
      ],
      "metadata": {
        "colab": {
          "base_uri": "https://localhost:8080/"
        },
        "id": "E9BAMaejGLKx",
        "outputId": "17649f49-750b-422f-c6c2-5094b4b2b233"
      },
      "execution_count": 3,
      "outputs": [
        {
          "output_type": "execute_result",
          "data": {
            "text/plain": [
              "matrix([[ -1,   0,  -1, ...,  -1,  -1,  -1],\n",
              "        [ -1,  -1,  -1, ...,  -1,  -1,  -1],\n",
              "        [ -1,  -1,  -1, ...,  -1,  -1,  -1],\n",
              "        ...,\n",
              "        [ -1,  -1,  -1, ...,  -1,  -1, 100],\n",
              "        [ -1,  -1,  -1, ...,  -1,  -1,  -1],\n",
              "        [ -1,  -1,  -1, ...,   0,  -1,  -1]])"
            ]
          },
          "metadata": {},
          "execution_count": 3
        }
      ]
    },
    {
      "cell_type": "code",
      "source": [
        "# Initialize the Q matrix with zeros\n",
        "\n",
        "Q = np.zeros([39,39])"
      ],
      "metadata": {
        "id": "uBsP8f4zGObr"
      },
      "execution_count": 4,
      "outputs": []
    },
    {
      "cell_type": "code",
      "source": [
        "Q"
      ],
      "metadata": {
        "colab": {
          "base_uri": "https://localhost:8080/"
        },
        "id": "jPzeUa01GS4T",
        "outputId": "90f5ed84-0f4c-458f-fe80-4021367358fe"
      },
      "execution_count": 5,
      "outputs": [
        {
          "output_type": "execute_result",
          "data": {
            "text/plain": [
              "array([[0., 0., 0., ..., 0., 0., 0.],\n",
              "       [0., 0., 0., ..., 0., 0., 0.],\n",
              "       [0., 0., 0., ..., 0., 0., 0.],\n",
              "       ...,\n",
              "       [0., 0., 0., ..., 0., 0., 0.],\n",
              "       [0., 0., 0., ..., 0., 0., 0.],\n",
              "       [0., 0., 0., ..., 0., 0., 0.]])"
            ]
          },
          "metadata": {},
          "execution_count": 5
        }
      ]
    },
    {
      "cell_type": "code",
      "source": [
        "# Set Gamma parameter\n",
        "\n",
        "gamma = 0.7"
      ],
      "metadata": {
        "id": "_Wh3EZ_sGUP6"
      },
      "execution_count": 6,
      "outputs": []
    },
    {
      "cell_type": "code",
      "source": [
        "# Initialize state for the mouse ( We will later make this selection random)\n",
        "\n",
        "initial_state = 0"
      ],
      "metadata": {
        "id": "M21tqU9LGaC_"
      },
      "execution_count": 10,
      "outputs": []
    },
    {
      "cell_type": "code",
      "source": [
        "# Create a custom function that returns all available actions in the state passed as an argument\n",
        "\n",
        "def avl_actions(state):\n",
        "  current_state_row = R[state,]\n",
        "  av_act = np.where(current_state_row >= 0)[1]\n",
        "  return av_act"
      ],
      "metadata": {
        "id": "jt8La39CGqzS"
      },
      "execution_count": 11,
      "outputs": []
    },
    {
      "cell_type": "code",
      "source": [
        "np.where(R[0,] >= 0)[1]"
      ],
      "metadata": {
        "colab": {
          "base_uri": "https://localhost:8080/"
        },
        "id": "mR5cWP7h6r0w",
        "outputId": "39d935a2-b4d8-4296-957e-f2728ff62dea"
      },
      "execution_count": 13,
      "outputs": [
        {
          "output_type": "execute_result",
          "data": {
            "text/plain": [
              "array([1])"
            ]
          },
          "metadata": {},
          "execution_count": 13
        }
      ]
    },
    {
      "cell_type": "code",
      "source": [
        "# Get the available actions in current state = 2\n",
        "\n",
        "available_act = avl_actions(initial_state)"
      ],
      "metadata": {
        "id": "ytinfHwEHDj6"
      },
      "execution_count": 14,
      "outputs": []
    },
    {
      "cell_type": "code",
      "source": [
        "available_act"
      ],
      "metadata": {
        "colab": {
          "base_uri": "https://localhost:8080/"
        },
        "id": "cDUCZyS3HFvJ",
        "outputId": "7b487158-c302-4ec0-c5d7-ff2dec7a74eb"
      },
      "execution_count": 15,
      "outputs": [
        {
          "output_type": "execute_result",
          "data": {
            "text/plain": [
              "array([1])"
            ]
          },
          "metadata": {},
          "execution_count": 15
        }
      ]
    },
    {
      "cell_type": "code",
      "source": [
        "# Next , we construct a function which chooses a random action to be performed within the range of all avl actions\n",
        "\n",
        "\n",
        "def sample_next_action(available_actions_range):\n",
        "  next_action = int(np.random.choice(available_actions_range,1))\n",
        "  return next_action"
      ],
      "metadata": {
        "id": "_LucU_8jHHqS"
      },
      "execution_count": 16,
      "outputs": []
    },
    {
      "cell_type": "code",
      "source": [
        "action = sample_next_action(available_act)\n",
        "action"
      ],
      "metadata": {
        "colab": {
          "base_uri": "https://localhost:8080/"
        },
        "id": "Lsug8NE1Ilpd",
        "outputId": "f35e9a2f-9ec6-4355-d137-a0d2af761090"
      },
      "execution_count": 17,
      "outputs": [
        {
          "output_type": "execute_result",
          "data": {
            "text/plain": [
              "1"
            ]
          },
          "metadata": {},
          "execution_count": 17
        }
      ]
    },
    {
      "cell_type": "code",
      "source": [
        "# Now, we update the Q matrix according to the path selected using the Q learning algorithm formula\n",
        "\n",
        "def update(current_state,action,gamma):\n",
        "  max_index = np.where(Q[action,] == np.max(Q[action,]))[0]\n",
        "\n",
        "  if max_index.shape[0] > 1:\n",
        "    max_index = int(np.random.choice(max_index,1))\n",
        "\n",
        "  else:\n",
        "    max_index = int(max_index)\n",
        "\n",
        "  max_value = Q[action,max_index]\n",
        "\n",
        "  # Q-learning formula\n",
        "  Q[current_state,action] = R[current_state,action] + gamma*max_value"
      ],
      "metadata": {
        "id": "Gwzf3SBuKxvm"
      },
      "execution_count": 18,
      "outputs": []
    },
    {
      "cell_type": "code",
      "source": [
        "# Update the Q matrix\n",
        "update(initial_state,action,gamma)"
      ],
      "metadata": {
        "id": "ykb1UP2qLJWV"
      },
      "execution_count": 19,
      "outputs": []
    },
    {
      "cell_type": "code",
      "source": [
        "Q"
      ],
      "metadata": {
        "colab": {
          "base_uri": "https://localhost:8080/"
        },
        "id": "dZX733w5NG5X",
        "outputId": "f9912532-8e35-46e0-9e3c-3a309d372cd0"
      },
      "execution_count": null,
      "outputs": [
        {
          "output_type": "execute_result",
          "data": {
            "text/plain": [
              "array([[0., 0., 0., 0., 0., 0., 0., 0., 0., 0.],\n",
              "       [0., 0., 0., 0., 0., 0., 0., 0., 0., 0.],\n",
              "       [0., 0., 0., 0., 0., 0., 0., 0., 0., 0.],\n",
              "       [0., 0., 0., 0., 0., 0., 0., 0., 0., 0.],\n",
              "       [0., 0., 0., 0., 0., 0., 0., 0., 0., 0.],\n",
              "       [0., 0., 0., 0., 0., 0., 0., 0., 0., 0.],\n",
              "       [0., 0., 0., 0., 0., 0., 0., 0., 0., 0.],\n",
              "       [0., 0., 0., 0., 0., 0., 0., 0., 0., 0.],\n",
              "       [0., 0., 0., 0., 0., 0., 0., 0., 0., 0.],\n",
              "       [0., 0., 0., 0., 0., 0., 0., 0., 0., 0.]])"
            ]
          },
          "metadata": {},
          "execution_count": 18
        }
      ]
    },
    {
      "cell_type": "code",
      "source": [
        "# Training Q - Matrix\n",
        "\n",
        "for i in range(100000):\n",
        "  current_state = np.random.randint(0,39)\n",
        "  available_actions = avl_actions(current_state)\n",
        "  action = sample_next_action(available_actions)\n",
        "  update(current_state,action,gamma)"
      ],
      "metadata": {
        "id": "7srT0h6PEYhZ"
      },
      "execution_count": 25,
      "outputs": []
    },
    {
      "cell_type": "code",
      "source": [
        "Q.shape[0]"
      ],
      "metadata": {
        "id": "TB2aB--QImuu",
        "outputId": "8039d83b-bf00-4a63-cdd5-b89a662d44f0",
        "colab": {
          "base_uri": "https://localhost:8080/"
        }
      },
      "execution_count": 22,
      "outputs": [
        {
          "output_type": "execute_result",
          "data": {
            "text/plain": [
              "39"
            ]
          },
          "metadata": {},
          "execution_count": 22
        }
      ]
    },
    {
      "cell_type": "code",
      "source": [
        "current_state = 0\n",
        "steps = [current_state]\n",
        "\n",
        "while current_state != 38:\n",
        "  next_step_index = np.where(Q[current_state,] == np.max(Q[current_state,]))[0]\n",
        "\n",
        "  if next_step_index.shape[0] > 1:\n",
        "    next_step_index = int(np.random.choice(next_step_index, 1))\n",
        "\n",
        "  else:\n",
        "    next_step_index = int(next_step_index)\n",
        "\n",
        "  steps.append(next_step_index)\n",
        "  current_state = next_step_index\n",
        "\n",
        "\n",
        "print(\"The selected path:\")\n",
        "print(steps)"
      ],
      "metadata": {
        "id": "kUhlXHjcGEbt",
        "outputId": "2905042d-3fb4-4145-977c-569a2ab02311",
        "colab": {
          "base_uri": "https://localhost:8080/"
        }
      },
      "execution_count": 32,
      "outputs": [
        {
          "output_type": "stream",
          "name": "stdout",
          "text": [
            "The selected path:\n",
            "[0, 1, 7, 12, 6, 4, 5, 11, 16, 21, 24, 28, 32, 36, 38]\n"
          ]
        }
      ]
    }
  ]
}