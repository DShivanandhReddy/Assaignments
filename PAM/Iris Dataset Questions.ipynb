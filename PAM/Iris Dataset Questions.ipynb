{
 "cells": [
  {
   "cell_type": "code",
   "execution_count": null,
   "id": "7f6e022b",
   "metadata": {},
   "outputs": [],
   "source": [
    "#Descriptive Analytics using Python:Example:Ronald Fisher's Iris Data:Iris\n",
    "#Author: Dr. P.K.Viswanathan\n"
   ]
  },
  {
   "cell_type": "code",
   "execution_count": 28,
   "id": "548b5d75",
   "metadata": {},
   "outputs": [
    {
     "name": "stdout",
     "output_type": "stream",
     "text": [
      "   No  SepalLength  SepalWidth  PetalLength  PetalWidth Species\n",
      "0   1          5.1         3.5          1.4         0.2  setosa\n",
      "1   2          4.9         3.0          1.4         0.2  setosa\n",
      "2   3          4.7         3.2          1.3         0.2  setosa\n",
      "3   4          4.6         3.1          1.5         0.2  setosa\n",
      "4   5          5.0         3.6          1.4         0.2  setosa\n",
      "<class 'pandas.core.frame.DataFrame'>\n",
      "RangeIndex: 150 entries, 0 to 149\n",
      "Data columns (total 6 columns):\n",
      " #   Column       Non-Null Count  Dtype  \n",
      "---  ------       --------------  -----  \n",
      " 0   No           150 non-null    int64  \n",
      " 1   SepalLength  150 non-null    float64\n",
      " 2   SepalWidth   150 non-null    float64\n",
      " 3   PetalLength  150 non-null    float64\n",
      " 4   PetalWidth   150 non-null    float64\n",
      " 5   Species      150 non-null    object \n",
      "dtypes: float64(4), int64(1), object(1)\n",
      "memory usage: 7.2+ KB\n",
      "None\n",
      "               No  SepalLength  SepalWidth  PetalLength  PetalWidth\n",
      "count  150.000000   150.000000  150.000000   150.000000  150.000000\n",
      "mean    75.500000     5.843333    3.057333     3.758000    1.199333\n",
      "std     43.445368     0.828066    0.435866     1.765298    0.762238\n",
      "min      1.000000     4.300000    2.000000     1.000000    0.100000\n",
      "25%     38.250000     5.100000    2.800000     1.600000    0.300000\n",
      "50%     75.500000     5.800000    3.000000     4.350000    1.300000\n",
      "75%    112.750000     6.400000    3.300000     5.100000    1.800000\n",
      "max    150.000000     7.900000    4.400000     6.900000    2.500000\n"
     ]
    }
   ],
   "source": [
    "#Question1 : Read the iris file and print the first five rows\n",
    "#core libraries pandas\n",
    "import warnings\n",
    "warnings.filterwarnings('ignore')\n",
    "import pandas as pd\n",
    "mydata=pd.read_csv(\"iris.csv\")\n",
    "print(mydata.head().round(2))\n",
    "print(mydata.info())\n",
    "print(mydata.describe())"
   ]
  },
  {
   "cell_type": "code",
   "execution_count": 9,
   "id": "500871eb",
   "metadata": {},
   "outputs": [
    {
     "name": "stdout",
     "output_type": "stream",
     "text": [
      "       SepalLength  SepalWidth  PetalLength  PetalWidth\n",
      "count       150.00      150.00       150.00      150.00\n",
      "mean          5.84        3.06         3.76        1.20\n",
      "std           0.83        0.44         1.77        0.76\n",
      "min           4.30        2.00         1.00        0.10\n",
      "25%           5.10        2.80         1.60        0.30\n",
      "50%           5.80        3.00         4.35        1.30\n",
      "75%           6.40        3.30         5.10        1.80\n",
      "max           7.90        4.40         6.90        2.50\n"
     ]
    }
   ],
   "source": [
    "#Question2: make a neat summary of descriptive measures\n",
    "data1=mydata.iloc[:,1:6]\n",
    "print(data1.describe().round(2))"
   ]
  },
  {
   "cell_type": "code",
   "execution_count": null,
   "id": "168eb9b9",
   "metadata": {},
   "outputs": [],
   "source": [
    "#in the above measures, the last five rows represent the famous five number summary used for box plot"
   ]
  },
  {
   "cell_type": "code",
   "execution_count": 13,
   "id": "24b741a9",
   "metadata": {},
   "outputs": [
    {
     "name": "stdout",
     "output_type": "stream",
     "text": [
      "Species            setosa  versicolor  virginica\n",
      "SepalLength count   50.00       50.00      50.00\n",
      "            mean     5.01        5.94       6.59\n",
      "            std      0.35        0.52       0.64\n",
      "            min      4.30        4.90       4.90\n",
      "            25%      4.80        5.60       6.22\n",
      "            50%      5.00        5.90       6.50\n",
      "            75%      5.20        6.30       6.90\n",
      "            max      5.80        7.00       7.90\n",
      "SepalWidth  count   50.00       50.00      50.00\n",
      "            mean     3.43        2.77       2.97\n",
      "            std      0.38        0.31       0.32\n",
      "            min      2.30        2.00       2.20\n",
      "            25%      3.20        2.52       2.80\n",
      "            50%      3.40        2.80       3.00\n",
      "            75%      3.68        3.00       3.18\n",
      "            max      4.40        3.40       3.80\n",
      "PetalLength count   50.00       50.00      50.00\n",
      "            mean     1.46        4.26       5.55\n",
      "            std      0.17        0.47       0.55\n",
      "            min      1.00        3.00       4.50\n",
      "            25%      1.40        4.00       5.10\n",
      "            50%      1.50        4.35       5.55\n",
      "            75%      1.58        4.60       5.88\n",
      "            max      1.90        5.10       6.90\n",
      "PetalWidth  count   50.00       50.00      50.00\n",
      "            mean     0.25        1.33       2.03\n",
      "            std      0.11        0.20       0.27\n",
      "            min      0.10        1.00       1.40\n",
      "            25%      0.20        1.20       1.80\n",
      "            50%      0.20        1.30       2.00\n",
      "            75%      0.30        1.50       2.30\n",
      "            max      0.60        1.80       2.50\n"
     ]
    }
   ],
   "source": [
    "#Question3: Get a neat summary by species type\n",
    "data1=mydata.iloc[:,1:6]\n",
    "summary1 = data1.groupby(\"Species\").describe()\n",
    "summary1 = summary1.transpose()\n",
    "print(summary1.round(2))"
   ]
  },
  {
   "cell_type": "code",
   "execution_count": 14,
   "id": "c3f668d2",
   "metadata": {},
   "outputs": [
    {
     "name": "stdout",
     "output_type": "stream",
     "text": [
      "            PetalLength  PetalWidth  SepalLength  SepalWidth\n",
      "Species                                                     \n",
      "setosa             1.46        0.25         5.01        3.43\n",
      "versicolor         4.26        1.33         5.94        2.77\n",
      "virginica          5.55        2.03         6.59        2.97\n"
     ]
    }
   ],
   "source": [
    "#Question4:Profile using Pivot\n",
    "Table1=pd.pivot_table(mydata,values=[\"SepalLength\",\"SepalWidth\",\"PetalLength\",\"PetalWidth\"],index=[\"Species\"])\n",
    "print(Table1.round(2))"
   ]
  },
  {
   "cell_type": "code",
   "execution_count": 15,
   "id": "b138be33",
   "metadata": {},
   "outputs": [
    {
     "name": "stdout",
     "output_type": "stream",
     "text": [
      "            PetalLength  PetalWidth  SepalLength  SepalWidth\n",
      "Species                                                     \n",
      "setosa             1.50         0.2          5.0         3.4\n",
      "versicolor         4.35         1.3          5.9         2.8\n",
      "virginica          5.55         2.0          6.5         3.0\n"
     ]
    }
   ],
   "source": [
    "#Question5:Profilie using median\n",
    "Table2=pd.pivot_table(mydata,values=[\"SepalLength\",\"SepalWidth\",\"PetalLength\",\"PetalWidth\"],index=[\"Species\"], aggfunc=\"median\")\n",
    "print(Table2.round(2))"
   ]
  },
  {
   "cell_type": "code",
   "execution_count": 16,
   "id": "935248bb",
   "metadata": {},
   "outputs": [],
   "source": [
    "#Data Visualization\n",
    "import seaborn as sn\n",
    "import matplotlib.pyplot as plt"
   ]
  },
  {
   "cell_type": "code",
   "execution_count": 25,
   "id": "9f1469f9",
   "metadata": {},
   "outputs": [
    {
     "data": {
      "text/plain": [
       "<AxesSubplot:ylabel='Species'>"
      ]
     },
     "execution_count": 25,
     "metadata": {},
     "output_type": "execute_result"
    },
    {
     "data": {
      "image/png": "[encoded data removed]",
      "text/plain": [
       "<Figure size 432x288 with 2 Axes>"
      ]
     },
     "metadata": {
      "needs_background": "light"
     },
     "output_type": "display_data"
    }
   ],
   "source": [
    "#Question6: Produce a nice Heatmap for Proifle using Mean\n",
    "sn.heatmap(Table1, annot=True,cmap=\"Blues\",fmt=\"0.2f\" )"
   ]
  },
  {
   "cell_type": "code",
   "execution_count": 26,
   "id": "69022117",
   "metadata": {},
   "outputs": [
    {
     "ename": "NameError",
     "evalue": "name 'Table2' is not defined",
     "output_type": "error",
     "traceback": [
      "\u001b[1;31m---------------------------------------------------------------------------\u001b[0m",
      "\u001b[1;31mNameError\u001b[0m                                 Traceback (most recent call last)",
      "\u001b[1;32m~\\AppData\\Local\\Temp/ipykernel_6944/1210814037.py\u001b[0m in \u001b[0;36m<module>\u001b[1;34m\u001b[0m\n\u001b[0;32m      1\u001b[0m \u001b[1;31m#Question7: Produce a nice Heatmap for Proifle using Median\u001b[0m\u001b[1;33m\u001b[0m\u001b[1;33m\u001b[0m\u001b[0m\n\u001b[1;32m----> 2\u001b[1;33m \u001b[0msn\u001b[0m\u001b[1;33m.\u001b[0m\u001b[0mheatmap\u001b[0m\u001b[1;33m(\u001b[0m\u001b[0mTable2\u001b[0m\u001b[1;33m,\u001b[0m \u001b[0mannot\u001b[0m\u001b[1;33m=\u001b[0m\u001b[1;32mTrue\u001b[0m\u001b[1;33m,\u001b[0m\u001b[0mcmap\u001b[0m\u001b[1;33m=\u001b[0m\u001b[1;34m\"Reds\"\u001b[0m\u001b[1;33m,\u001b[0m\u001b[0mfmt\u001b[0m\u001b[1;33m=\u001b[0m\u001b[1;34m\"0.2f\"\u001b[0m \u001b[1;33m)\u001b[0m\u001b[1;33m\u001b[0m\u001b[1;33m\u001b[0m\u001b[0m\n\u001b[0m",
      "\u001b[1;31mNameError\u001b[0m: name 'Table2' is not defined"
     ]
    }
   ],
   "source": [
    "#Question7: Produce a nice Heatmap for Proifle using Median\n",
    "sn.heatmap(Table2, annot=True,cmap=\"Reds\",fmt=\"0.2f\" )"
   ]
  },
  {
   "cell_type": "code",
   "execution_count": 23,
   "id": "b57f1d0f",
   "metadata": {},
   "outputs": [
    {
     "data": {
      "image/png": "[encoded data removed]",
      "text/plain": [
       "<Figure size 432x288 with 1 Axes>"
      ]
     },
     "metadata": {
      "needs_background": "light"
     },
     "output_type": "display_data"
    }
   ],
   "source": [
    "sn.barplot(x=mydata.Species,y=mydata.SepalLength,ci=False)\n",
    "plt.show()"
   ]
  },
  {
   "cell_type": "code",
   "execution_count": 30,
   "id": "6ba3ed59",
   "metadata": {},
   "outputs": [
    {
     "data": {
      "image/png": "[encoded data removed]",
      "text/plain": [
       "<Figure size 432x288 with 1 Axes>"
      ]
     },
     "metadata": {
      "needs_background": "light"
     },
     "output_type": "display_data"
    }
   ],
   "source": [
    "#Question12:Draw a histogram for SepalLength\n",
    "sn.distplot(mydata.PetalLength,color=\"r\")\n",
    "plt.show()"
   ]
  },
  {
   "cell_type": "code",
   "execution_count": 29,
   "id": "7f4f636f",
   "metadata": {},
   "outputs": [
    {
     "data": {
      "text/plain": [
       "Text(0.5, 1.0, 'Comparative Distribution of Species')"
      ]
     },
     "execution_count": 29,
     "metadata": {},
     "output_type": "execute_result"
    },
    {
     "data": {
      "image/png": "[encoded data removed]",
      "text/plain": [
       "<Figure size 432x288 with 1 Axes>"
      ]
     },
     "metadata": {
      "needs_background": "light"
     },
     "output_type": "display_data"
    }
   ],
   "source": [
    "sn.distplot(mydata.PetalLength[mydata.Species ==\"setosa\"],label=\"setosa\")\n",
    "sn.distplot(mydata.PetalLength[mydata.Species ==\"versicolor\"],label=\"versicolor\")\n",
    "sn.distplot(mydata.PetalLength[mydata.Species ==\"virginica\"],label=\"virginica\")\n",
    "plt.legend()\n",
    "plt.title(\"Comparative Distribution of Species\")"
   ]
  },
  {
   "cell_type": "code",
   "execution_count": 31,
   "id": "ddaee0f3",
   "metadata": {},
   "outputs": [
    {
     "data": {
      "text/plain": [
       "<matplotlib.legend.Legend at 0x2e120ddebe0>"
      ]
     },
     "execution_count": 31,
     "metadata": {},
     "output_type": "execute_result"
    },
    {
     "data": {
      "image/png": "[encoded data removed]",
      "text/plain": [
       "<Figure size 432x288 with 1 Axes>"
      ]
     },
     "metadata": {
      "needs_background": "light"
     },
     "output_type": "display_data"
    }
   ],
   "source": [
    "#Question14:Draw the Comparative Histogram for Species\n",
    "plt.hist(mydata.PetalLength[mydata.Species==\"setosa\"],color=\"g\",label=\"Setosa\")\n",
    "plt.hist(mydata.PetalLength[mydata.Species==\"versicolor\"],color=\"r\",label=\"Versicolor\")\n",
    "plt.hist(mydata.PetalLength[mydata.Species==\"virginica\"],color=\"pink\",label=\"Virginica\")\n",
    "plt.legend()"
   ]
  },
  {
   "cell_type": "code",
   "execution_count": 32,
   "id": "4b5eacff",
   "metadata": {},
   "outputs": [
    {
     "data": {
      "text/plain": [
       "<AxesSubplot:xlabel='PetalLength', ylabel='Species'>"
      ]
     },
     "execution_count": 32,
     "metadata": {},
     "output_type": "execute_result"
    },
    {
     "data": {
      "image/png": "[encoded data removed]",
      "text/plain": [
       "<Figure size 432x288 with 1 Axes>"
      ]
     },
     "metadata": {
      "needs_background": "light"
     },
     "output_type": "display_data"
    }
   ],
   "source": [
    "sn.boxplot(y=mydata.Species, x= mydata.PetalLength)"
   ]
  },
  {
   "cell_type": "code",
   "execution_count": null,
   "id": "6a31e6d8",
   "metadata": {},
   "outputs": [],
   "source": [
    "#The Learning Takeaway form Fisher's Iris Data is the concept of \"Differentiation\" that led to the famous predictive model \n",
    "#called Linear Discriminant Analysis(LDA)"
   ]
  }
 ],
 "metadata": {
  "kernelspec": {
   "display_name": "Python 3 (ipykernel)",
   "language": "python",
   "name": "python3"
  },
  "language_info": {
   "codemirror_mode": {
    "name": "ipython",
    "version": 3
   },
   "file_extension": ".py",
   "mimetype": "text/x-python",
   "name": "python",
   "nbconvert_exporter": "python",
   "pygments_lexer": "ipython3",
   "version": "3.9.7"
  }
 },
 "nbformat": 4,
 "nbformat_minor": 5
}
