{
 "cells": [
  {
   "cell_type": "code",
   "execution_count": 1,
   "id": "75ae4a2d",
   "metadata": {},
   "outputs": [],
   "source": [
    "#Example Problem-Decision Tree-DiscriWinston"
   ]
  },
  {
   "cell_type": "code",
   "execution_count": 2,
   "id": "ad109acb",
   "metadata": {},
   "outputs": [],
   "source": [
    "import pandas as pd\n",
    "import numpy as np\n",
    "from sklearn.preprocessing import StandardScaler\n",
    "from sklearn.model_selection import train_test_split\n",
    "from sklearn.metrics import accuracy_score\n",
    "from sklearn.metrics import confusion_matrix,roc_curve,roc_auc_score\n",
    "from sklearn.metrics import precision_score,recall_score\n",
    "import itertools\n",
    "from sklearn.tree import DecisionTreeClassifier\n",
    "import seaborn as sns\n",
    "import matplotlib.pyplot as plt"
   ]
  },
  {
   "cell_type": "code",
   "execution_count": 4,
   "id": "9d7c9449",
   "metadata": {},
   "outputs": [
    {
     "data": {
      "text/html": [
       "<div>\n",
       "<style scoped>\n",
       "    .dataframe tbody tr th:only-of-type {\n",
       "        vertical-align: middle;\n",
       "    }\n",
       "\n",
       "    .dataframe tbody tr th {\n",
       "        vertical-align: top;\n",
       "    }\n",
       "\n",
       "    .dataframe thead th {\n",
       "        text-align: right;\n",
       "    }\n",
       "</style>\n",
       "<table border=\"1\" class=\"dataframe\">\n",
       "  <thead>\n",
       "    <tr style=\"text-align: right;\">\n",
       "      <th></th>\n",
       "      <th>Person</th>\n",
       "      <th>Income</th>\n",
       "      <th>InvestAmt</th>\n",
       "      <th>WSJSubscriber</th>\n",
       "      <th>Zscore</th>\n",
       "      <th>Prediction</th>\n",
       "      <th>Unnamed: 6</th>\n",
       "      <th>Unnamed: 7</th>\n",
       "      <th>Unnamed: 8</th>\n",
       "      <th>a1</th>\n",
       "      <th>a2</th>\n",
       "      <th>Unnamed: 11</th>\n",
       "      <th>Unnamed: 12</th>\n",
       "    </tr>\n",
       "  </thead>\n",
       "  <tbody>\n",
       "    <tr>\n",
       "      <th>0</th>\n",
       "      <td>1</td>\n",
       "      <td>66.4</td>\n",
       "      <td>26.9</td>\n",
       "      <td>No</td>\n",
       "      <td>1.707565</td>\n",
       "      <td>No</td>\n",
       "      <td>NaN</td>\n",
       "      <td>NaN</td>\n",
       "      <td>Z</td>\n",
       "      <td>-0.022090802</td>\n",
       "      <td>0.118007213</td>\n",
       "      <td>NaN</td>\n",
       "      <td>NaN</td>\n",
       "    </tr>\n",
       "    <tr>\n",
       "      <th>1</th>\n",
       "      <td>2</td>\n",
       "      <td>68.0</td>\n",
       "      <td>7.1</td>\n",
       "      <td>No</td>\n",
       "      <td>-0.664323</td>\n",
       "      <td>No</td>\n",
       "      <td>NaN</td>\n",
       "      <td>NaN</td>\n",
       "      <td>NaN</td>\n",
       "      <td>NaN</td>\n",
       "      <td>NaN</td>\n",
       "      <td>NaN</td>\n",
       "      <td>NaN</td>\n",
       "    </tr>\n",
       "    <tr>\n",
       "      <th>2</th>\n",
       "      <td>3</td>\n",
       "      <td>54.9</td>\n",
       "      <td>21.5</td>\n",
       "      <td>No</td>\n",
       "      <td>1.324370</td>\n",
       "      <td>No</td>\n",
       "      <td>NaN</td>\n",
       "      <td>NaN</td>\n",
       "      <td>NaN</td>\n",
       "      <td>NaN</td>\n",
       "      <td>NaN</td>\n",
       "      <td>NaN</td>\n",
       "      <td>NaN</td>\n",
       "    </tr>\n",
       "    <tr>\n",
       "      <th>3</th>\n",
       "      <td>4</td>\n",
       "      <td>50.6</td>\n",
       "      <td>19.3</td>\n",
       "      <td>No</td>\n",
       "      <td>1.159745</td>\n",
       "      <td>No</td>\n",
       "      <td>NaN</td>\n",
       "      <td>NaN</td>\n",
       "      <td>NaN</td>\n",
       "      <td>NaN</td>\n",
       "      <td>NaN</td>\n",
       "      <td>NaN</td>\n",
       "      <td>NaN</td>\n",
       "    </tr>\n",
       "    <tr>\n",
       "      <th>4</th>\n",
       "      <td>5</td>\n",
       "      <td>54.1</td>\n",
       "      <td>16.7</td>\n",
       "      <td>No</td>\n",
       "      <td>0.775608</td>\n",
       "      <td>No</td>\n",
       "      <td>NaN</td>\n",
       "      <td>NaN</td>\n",
       "      <td>NaN</td>\n",
       "      <td>Income</td>\n",
       "      <td>InvestAmt</td>\n",
       "      <td>NaN</td>\n",
       "      <td>NaN</td>\n",
       "    </tr>\n",
       "  </tbody>\n",
       "</table>\n",
       "</div>"
      ],
      "text/plain": [
       "   Person  Income  InvestAmt WSJSubscriber    Zscore Prediction  Unnamed: 6  \\\n",
       "0       1    66.4       26.9            No  1.707565         No         NaN   \n",
       "1       2    68.0        7.1            No -0.664323         No         NaN   \n",
       "2       3    54.9       21.5            No  1.324370         No         NaN   \n",
       "3       4    50.6       19.3            No  1.159745         No         NaN   \n",
       "4       5    54.1       16.7            No  0.775608         No         NaN   \n",
       "\n",
       "   Unnamed: 7 Unnamed: 8            a1           a2  Unnamed: 11 Unnamed: 12  \n",
       "0         NaN          Z  -0.022090802  0.118007213          NaN         NaN  \n",
       "1         NaN        NaN           NaN          NaN          NaN         NaN  \n",
       "2         NaN        NaN           NaN          NaN          NaN         NaN  \n",
       "3         NaN        NaN           NaN          NaN          NaN         NaN  \n",
       "4         NaN        NaN        Income    InvestAmt          NaN         NaN  "
      ]
     },
     "execution_count": 4,
     "metadata": {},
     "output_type": "execute_result"
    }
   ],
   "source": [
    "#Read the file\n",
    "mydata=pd.read_csv(\"DiscriWinston.csv\")\n",
    "mydata.head()"
   ]
  },
  {
   "cell_type": "code",
   "execution_count": 5,
   "id": "770d4274",
   "metadata": {},
   "outputs": [
    {
     "name": "stdout",
     "output_type": "stream",
     "text": [
      "0    No\n",
      "1    No\n",
      "2    No\n",
      "3    No\n",
      "4    No\n",
      "Name: WSJSubscriber, dtype: object\n",
      "   Income  InvestAmt\n",
      "0    66.4       26.9\n",
      "1    68.0        7.1\n",
      "2    54.9       21.5\n",
      "3    50.6       19.3\n",
      "4    54.1       16.7\n"
     ]
    }
   ],
   "source": [
    "Y=mydata[\"WSJSubscriber\"]\n",
    "X=mydata.iloc[:,1:3]\n",
    "print(Y.head())\n",
    "print(X.head())"
   ]
  },
  {
   "cell_type": "code",
   "execution_count": 6,
   "id": "72d5bda1",
   "metadata": {},
   "outputs": [
    {
     "data": {
      "text/plain": [
       "0.952"
      ]
     },
     "execution_count": 6,
     "metadata": {},
     "output_type": "execute_result"
    }
   ],
   "source": [
    "from sklearn.tree import DecisionTreeClassifier\n",
    "clf_tree=DecisionTreeClassifier(criterion=\"gini\",max_depth=3)\n",
    "clf_tree.fit(X,Y)\n",
    "tree_predict=clf_tree.predict(X)\n",
    "round(accuracy_score(Y,tree_predict),3)"
   ]
  },
  {
   "cell_type": "code",
   "execution_count": 7,
   "id": "1fd162d6",
   "metadata": {},
   "outputs": [
    {
     "data": {
      "text/plain": [
       "[Text(125.55000000000001, 190.26, 'X[1] <= 36.0\\ngini = 0.436\\nsamples = 84\\nvalue = [57, 27]\\nclass = y[0]'),\n",
       " Text(83.7, 135.9, 'gini = 0.0\\nsamples = 50\\nvalue = [50, 0]\\nclass = y[0]'),\n",
       " Text(167.4, 135.9, 'X[1] <= 46.4\\ngini = 0.327\\nsamples = 34\\nvalue = [7, 27]\\nclass = y[1]'),\n",
       " Text(83.7, 81.53999999999999, 'X[0] <= 85.65\\ngini = 0.5\\nsamples = 12\\nvalue = [6, 6]\\nclass = y[0]'),\n",
       " Text(41.85, 27.180000000000007, 'gini = 0.444\\nsamples = 9\\nvalue = [3, 6]\\nclass = y[1]'),\n",
       " Text(125.55000000000001, 27.180000000000007, 'gini = 0.0\\nsamples = 3\\nvalue = [3, 0]\\nclass = y[0]'),\n",
       " Text(251.10000000000002, 81.53999999999999, 'X[1] <= 51.05\\ngini = 0.087\\nsamples = 22\\nvalue = [1, 21]\\nclass = y[1]'),\n",
       " Text(209.25, 27.180000000000007, 'gini = 0.278\\nsamples = 6\\nvalue = [1, 5]\\nclass = y[1]'),\n",
       " Text(292.95, 27.180000000000007, 'gini = 0.0\\nsamples = 16\\nvalue = [0, 16]\\nclass = y[1]')]"
      ]
     },
     "execution_count": 7,
     "metadata": {},
     "output_type": "execute_result"
    },
    {
     "data": {
      "image/png": "[encoded data removed]",
      "text/plain": [
       "<Figure size 432x288 with 1 Axes>"
      ]
     },
     "metadata": {
      "needs_background": "light"
     },
     "output_type": "display_data"
    }
   ],
   "source": [
    "from sklearn import tree\n",
    "tree.plot_tree(clf_tree, filled=True, class_names=True, fontsize=8)"
   ]
  },
  {
   "cell_type": "code",
   "execution_count": 8,
   "id": "7ddbac1b",
   "metadata": {},
   "outputs": [
    {
     "data": {
      "text/plain": [
       "array([[53,  4],\n",
       "       [ 0, 27]], dtype=int64)"
      ]
     },
     "execution_count": 8,
     "metadata": {},
     "output_type": "execute_result"
    }
   ],
   "source": [
    "confusion_matrix(Y,tree_predict)"
   ]
  },
  {
   "cell_type": "code",
   "execution_count": 9,
   "id": "3ac3a6d5",
   "metadata": {},
   "outputs": [
    {
     "data": {
      "text/plain": [
       "<AxesSubplot:>"
      ]
     },
     "execution_count": 9,
     "metadata": {},
     "output_type": "execute_result"
    },
    {
     "data": {
      "image/png": "[encoded data removed]",
      "text/plain": [
       "<Figure size 432x288 with 2 Axes>"
      ]
     },
     "metadata": {
      "needs_background": "light"
     },
     "output_type": "display_data"
    }
   ],
   "source": [
    "cm=confusion_matrix(Y,tree_predict)\n",
    "sns.heatmap(cm,annot=True,cmap=\"Oranges\")"
   ]
  },
  {
   "cell_type": "code",
   "execution_count": 10,
   "id": "5da5e847",
   "metadata": {},
   "outputs": [
    {
     "name": "stdout",
     "output_type": "stream",
     "text": [
      "              precision    recall  f1-score   support\n",
      "\n",
      "          No       1.00      0.93      0.96        57\n",
      "         Yes       0.87      1.00      0.93        27\n",
      "\n",
      "    accuracy                           0.95        84\n",
      "   macro avg       0.94      0.96      0.95        84\n",
      "weighted avg       0.96      0.95      0.95        84\n",
      "\n"
     ]
    }
   ],
   "source": [
    "from sklearn.metrics import classification_report\n",
    "Report=classification_report(Y,tree_predict)\n",
    "print((Report))"
   ]
  },
  {
   "cell_type": "code",
   "execution_count": 11,
   "id": "254fe146",
   "metadata": {},
   "outputs": [
    {
     "data": {
      "text/html": [
       "<div>\n",
       "<style scoped>\n",
       "    .dataframe tbody tr th:only-of-type {\n",
       "        vertical-align: middle;\n",
       "    }\n",
       "\n",
       "    .dataframe tbody tr th {\n",
       "        vertical-align: top;\n",
       "    }\n",
       "\n",
       "    .dataframe thead th {\n",
       "        text-align: right;\n",
       "    }\n",
       "</style>\n",
       "<table border=\"1\" class=\"dataframe\">\n",
       "  <thead>\n",
       "    <tr style=\"text-align: right;\">\n",
       "      <th></th>\n",
       "      <th>Income</th>\n",
       "      <th>InvestAmt</th>\n",
       "    </tr>\n",
       "  </thead>\n",
       "  <tbody>\n",
       "    <tr>\n",
       "      <th>0</th>\n",
       "      <td>0.064566</td>\n",
       "      <td>0.935434</td>\n",
       "    </tr>\n",
       "  </tbody>\n",
       "</table>\n",
       "</div>"
      ],
      "text/plain": [
       "     Income  InvestAmt\n",
       "0  0.064566   0.935434"
      ]
     },
     "execution_count": 11,
     "metadata": {},
     "output_type": "execute_result"
    }
   ],
   "source": [
    "importances=clf_tree.feature_importances_\n",
    "importances\n",
    "importances=pd.DataFrame(importances)\n",
    "Importance=importances.transpose()\n",
    "Importance.columns=[\"Income\",\"InvestAmt\"]\n",
    "Importance"
   ]
  },
  {
   "cell_type": "code",
   "execution_count": 12,
   "id": "0d59f2bd",
   "metadata": {},
   "outputs": [
    {
     "data": {
      "text/plain": [
       "GridSearchCV(cv=10, estimator=DecisionTreeClassifier(),\n",
       "             param_grid=[{'criterion': ['gini', 'entropy'],\n",
       "                          'max_depth': range(2, 10)}],\n",
       "             scoring='roc_auc')"
      ]
     },
     "execution_count": 12,
     "metadata": {},
     "output_type": "execute_result"
    }
   ],
   "source": [
    "from sklearn.model_selection import GridSearchCV\n",
    "tuned_parameters=[{\"criterion\":[\"gini\",\"entropy\"],\n",
    "                  \"max_depth\":range(2,10)}]\n",
    "clf_tree=DecisionTreeClassifier()\n",
    "clf=GridSearchCV(clf_tree,\n",
    "                tuned_parameters,\n",
    "                cv=10,\n",
    "                scoring=\"roc_auc\")\n",
    "clf.fit(X,Y)"
   ]
  },
  {
   "cell_type": "code",
   "execution_count": 13,
   "id": "fd4b8ed7",
   "metadata": {},
   "outputs": [
    {
     "data": {
      "text/plain": [
       "0.9883333333333333"
      ]
     },
     "execution_count": 13,
     "metadata": {},
     "output_type": "execute_result"
    }
   ],
   "source": [
    "clf.best_score_"
   ]
  },
  {
   "cell_type": "code",
   "execution_count": 14,
   "id": "41f19b00",
   "metadata": {},
   "outputs": [
    {
     "data": {
      "text/plain": [
       "{'criterion': 'entropy', 'max_depth': 3}"
      ]
     },
     "execution_count": 14,
     "metadata": {},
     "output_type": "execute_result"
    }
   ],
   "source": [
    "clf.best_params_"
   ]
  },
  {
   "cell_type": "code",
   "execution_count": 16,
   "id": "e91f1ebd",
   "metadata": {},
   "outputs": [
    {
     "data": {
      "text/plain": [
       "0.964"
      ]
     },
     "execution_count": 16,
     "metadata": {},
     "output_type": "execute_result"
    }
   ],
   "source": [
    "from sklearn.tree import DecisionTreeClassifier\n",
    "clf_tree=DecisionTreeClassifier(criterion=\"entropy\",max_depth=3)\n",
    "clf_tree.fit(X,Y)\n",
    "tree_predict=clf_tree.predict(X)\n",
    "round(accuracy_score(Y,tree_predict),3)"
   ]
  },
  {
   "cell_type": "code",
   "execution_count": 17,
   "id": "86bb9784",
   "metadata": {},
   "outputs": [
    {
     "data": {
      "text/plain": [
       "0.9883333333333333"
      ]
     },
     "execution_count": 17,
     "metadata": {},
     "output_type": "execute_result"
    }
   ],
   "source": [
    "clf.best_score_"
   ]
  },
  {
   "cell_type": "code",
   "execution_count": null,
   "id": "8ebdd37c",
   "metadata": {},
   "outputs": [],
   "source": []
  }
 ],
 "metadata": {
  "kernelspec": {
   "display_name": "Python 3 (ipykernel)",
   "language": "python",
   "name": "python3"
  },
  "language_info": {
   "codemirror_mode": {
    "name": "ipython",
    "version": 3
   },
   "file_extension": ".py",
   "mimetype": "text/x-python",
   "name": "python",
   "nbconvert_exporter": "python",
   "pygments_lexer": "ipython3",
   "version": "3.9.7"
  }
 },
 "nbformat": 4,
 "nbformat_minor": 5
}
