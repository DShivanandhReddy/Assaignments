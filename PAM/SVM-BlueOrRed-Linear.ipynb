{
 "cells": [
  {
   "cell_type": "code",
   "execution_count": null,
   "id": "7004656c",
   "metadata": {},
   "outputs": [],
   "source": [
    "#SUPPORT VECTOR MACHINE "
   ]
  },
  {
   "cell_type": "code",
   "execution_count": 1,
   "id": "aeb966da",
   "metadata": {},
   "outputs": [],
   "source": [
    "#Import Core Libraries\n",
    "import pandas as pd\n",
    "import numpy as np\n",
    "import seaborn as sns\n",
    "from matplotlib import pyplot as plt\n",
    "from sklearn.svm import SVC\n",
    "from sklearn.metrics import confusion_matrix \n",
    "from sklearn.metrics import accuracy_score, recall_score,precision_score\n",
    "from sklearn.metrics import roc_auc_score,roc_curve\n",
    "from sklearn.model_selection import train_test_split\n",
    "import warnings\n",
    "warnings.filterwarnings(\"ignore\")"
   ]
  },
  {
   "cell_type": "code",
   "execution_count": 2,
   "id": "09aec698",
   "metadata": {},
   "outputs": [
    {
     "data": {
      "text/html": [
       "<div>\n",
       "<style scoped>\n",
       "    .dataframe tbody tr th:only-of-type {\n",
       "        vertical-align: middle;\n",
       "    }\n",
       "\n",
       "    .dataframe tbody tr th {\n",
       "        vertical-align: top;\n",
       "    }\n",
       "\n",
       "    .dataframe thead th {\n",
       "        text-align: right;\n",
       "    }\n",
       "</style>\n",
       "<table border=\"1\" class=\"dataframe\">\n",
       "  <thead>\n",
       "    <tr style=\"text-align: right;\">\n",
       "      <th></th>\n",
       "      <th>VARWAVELET</th>\n",
       "      <th>SKEWWAVELET</th>\n",
       "      <th>KURTWAVELET</th>\n",
       "      <th>ENTROPYIMAGE</th>\n",
       "      <th>CLASS</th>\n",
       "    </tr>\n",
       "  </thead>\n",
       "  <tbody>\n",
       "    <tr>\n",
       "      <th>0</th>\n",
       "      <td>3.62160</td>\n",
       "      <td>8.6661</td>\n",
       "      <td>-2.8073</td>\n",
       "      <td>-0.44699</td>\n",
       "      <td>0</td>\n",
       "    </tr>\n",
       "    <tr>\n",
       "      <th>1</th>\n",
       "      <td>4.54590</td>\n",
       "      <td>8.1674</td>\n",
       "      <td>-2.4586</td>\n",
       "      <td>-1.46210</td>\n",
       "      <td>0</td>\n",
       "    </tr>\n",
       "    <tr>\n",
       "      <th>2</th>\n",
       "      <td>3.86600</td>\n",
       "      <td>-2.6383</td>\n",
       "      <td>1.9242</td>\n",
       "      <td>0.10645</td>\n",
       "      <td>0</td>\n",
       "    </tr>\n",
       "    <tr>\n",
       "      <th>3</th>\n",
       "      <td>3.45660</td>\n",
       "      <td>9.5228</td>\n",
       "      <td>-4.0112</td>\n",
       "      <td>-3.59440</td>\n",
       "      <td>0</td>\n",
       "    </tr>\n",
       "    <tr>\n",
       "      <th>4</th>\n",
       "      <td>0.32924</td>\n",
       "      <td>-4.4552</td>\n",
       "      <td>4.5718</td>\n",
       "      <td>-0.98880</td>\n",
       "      <td>0</td>\n",
       "    </tr>\n",
       "  </tbody>\n",
       "</table>\n",
       "</div>"
      ],
      "text/plain": [
       "   VARWAVELET  SKEWWAVELET  KURTWAVELET  ENTROPYIMAGE  CLASS\n",
       "0     3.62160       8.6661      -2.8073      -0.44699      0\n",
       "1     4.54590       8.1674      -2.4586      -1.46210      0\n",
       "2     3.86600      -2.6383       1.9242       0.10645      0\n",
       "3     3.45660       9.5228      -4.0112      -3.59440      0\n",
       "4     0.32924      -4.4552       4.5718      -0.98880      0"
      ]
     },
     "execution_count": 2,
     "metadata": {},
     "output_type": "execute_result"
    }
   ],
   "source": [
    "#Read the file\n",
    "mydata=pd.read_csv(\"banknote.csv\")\n",
    "mydata.head()"
   ]
  },
  {
   "cell_type": "code",
   "execution_count": 5,
   "id": "629bff54",
   "metadata": {},
   "outputs": [
    {
     "data": {
      "text/plain": [
       "(960, 4)"
      ]
     },
     "execution_count": 5,
     "metadata": {},
     "output_type": "execute_result"
    }
   ],
   "source": [
    "#Define X and Y\n",
    "X=mydata.iloc[:,0:4]\n",
    "#print(X)\n",
    "Y=mydata[\"CLASS\"]\n",
    "X_train,X_test,Y_train,Y_test=train_test_split(X,Y,test_size=0.3,random_state=1)\n",
    "X_train.shape"
   ]
  },
  {
   "cell_type": "code",
   "execution_count": 6,
   "id": "d0adbfba",
   "metadata": {},
   "outputs": [
    {
     "data": {
      "text/plain": [
       "array([ -3.60160655,   3.56632892,   4.0083389 ,   6.71561424,\n",
       "         6.25873635,   7.01082728,  -5.67488631, -13.76081634,\n",
       "       -10.86900202, -10.8190919 , -11.90451834, -13.0461181 ,\n",
       "        -8.4985688 ,   3.9058267 ,  -9.78922618,   8.92829328,\n",
       "        -9.51380207,   4.78663705, -10.2321903 ,   3.50013475,\n",
       "         7.28842757, -13.1298681 ,   1.59768383,  -7.89741533,\n",
       "        -7.03388704,   4.71144256, -12.46572404,  -7.58434997,\n",
       "        -8.41383265,   9.55631982,   5.05045327,   3.35090868,\n",
       "        -9.16939899,  -8.03398915,   4.61732014,  -9.51867467,\n",
       "         2.31250977,  -8.37826502, -10.28517907,  -8.37858734,\n",
       "        -3.13479663,  -9.83671594,  -8.53598167, -10.51714047,\n",
       "       -17.01988097, -12.28925091,  -7.6474554 , -12.38590207,\n",
       "         3.10716507,  -7.19178615,   5.47739765, -12.25768405,\n",
       "       -12.36782495,  -7.72958936,   7.23154051,  -6.2279014 ,\n",
       "         3.92028667,  -2.19174547,  -9.59814854,   8.23669696,\n",
       "         5.45491909,  -7.7452371 ,   5.20148962,  -8.63475934,\n",
       "        -0.99949174,  -7.99642888,   3.71677096,  -5.95443617,\n",
       "       -13.13060145, -10.60726395,  -4.33164815, -10.51902385,\n",
       "         4.01692213,   4.70892889,  -8.77001668,   1.43287806,\n",
       "       -10.01273162, -11.11539556,   6.40265977,   2.59065225,\n",
       "         4.16930918,   1.39346529,   0.4481939 ,   2.4855413 ,\n",
       "         4.28649599,  -8.45108106, -10.36904719,  -9.49666833,\n",
       "        -9.0472134 ,   6.36114302,   6.11885061,   6.05083152,\n",
       "         4.55682481,   1.35519899,  -9.97274029,  -8.68259946,\n",
       "         1.24563304,   1.85280488,  -9.09080842, -10.94382989,\n",
       "        -0.45467558,  -0.57514003,   3.79811953, -10.42684096,\n",
       "       -16.05593822,   5.03123585, -10.2730866 ,  -6.89784435,\n",
       "         8.60385417,  -7.28642572,   3.35784432,   6.66998955,\n",
       "         3.67491283,   5.8013835 ,  -5.97906851,   7.58906668,\n",
       "         3.97137329,  -7.36779273, -10.05681904,   2.89324241,\n",
       "        -2.04297037,  -4.05492568,   4.93960014,   3.73016898,\n",
       "         9.09278521,  -8.79982559, -11.54691175,   2.09889708,\n",
       "         7.42296883,   5.76717473, -11.86077288,   5.38908908,\n",
       "         8.11490959,  -8.68637885, -10.05723823,   1.49671809,\n",
       "         3.51643577,  -4.9934409 ,   2.93294313,   3.4122206 ,\n",
       "       -11.15398426, -15.11932668, -11.78731306,   7.52776464,\n",
       "        -6.71157534,   7.08637706,   2.26955217, -10.4841902 ,\n",
       "       -14.48963431, -11.10764167,  -9.07049218,   6.34903764,\n",
       "       -16.6931051 , -11.42238299,  -0.07805063, -13.93610434,\n",
       "         6.55884431,   4.9143584 ,   2.32894303,   7.95743012,\n",
       "         2.68095141,  -5.38184825, -14.55333551,  -7.7916409 ,\n",
       "         5.79949237, -10.32657181, -13.92445337,  -8.40267256,\n",
       "         6.22757341,   3.66362647, -12.6771668 ,   4.04380325,\n",
       "        -9.85080676, -13.2616793 ,   5.85549304, -13.1725434 ,\n",
       "       -10.34628134, -11.57261049, -12.63941403,   0.97932944,\n",
       "         6.77766309, -10.82992592, -16.09969349,  -9.24452258,\n",
       "       -15.16786236,   5.31804884, -11.24666353,   2.21509761,\n",
       "       -12.97109997,   6.05356362,   5.55068049,  -5.06555165,\n",
       "         2.44245383, -12.78452292,  -7.18905837,   3.86575973,\n",
       "         6.94949628, -13.97263756, -10.67265403,   8.42453774,\n",
       "       -11.32780406, -11.83133052, -11.34003591,  -4.92629246,\n",
       "         5.10967739,  -6.60688976,  -9.49015024,   3.9560062 ,\n",
       "       -11.03544488,   2.90299711, -11.72612847,   1.73049954,\n",
       "         0.44826911,   6.12173358,   5.227024  ,  -6.98250772,\n",
       "         5.09946071,  -8.9717005 ,   5.12863794,   0.87846986,\n",
       "       -10.01401632, -14.56359618,  -8.54982036,   4.15828965,\n",
       "         7.03684205, -10.17904954, -10.43818694,   1.99416208,\n",
       "         6.93874885,   3.1051055 ,   5.73679822,  -5.43273896,\n",
       "       -15.1230299 , -10.95568907, -11.22480951, -12.87309345,\n",
       "        -7.31227665,   7.00165379, -11.00421071,  -5.1299286 ,\n",
       "        -9.45955145,  -8.12531332, -11.43120348, -10.55596512,\n",
       "         2.50715341,   5.09980282,   6.44918789,   4.95651921,\n",
       "         6.61433791,   6.41759621,   9.14755881, -13.56477923,\n",
       "         2.47482847,   4.33475585,  -8.83321618,   7.73150874,\n",
       "        -8.87113511,   8.15878328,   4.33047765,   1.44901626,\n",
       "        -9.99195374,  -9.51265111,   1.15297183, -10.71111858,\n",
       "        -8.55747877,  -7.79397135,   5.25916341,  -8.41680889,\n",
       "         6.77160509,   6.00302554,  -6.10140873,  -9.02545827,\n",
       "         7.69269533,   3.27860162,   3.50336623,   4.83489699,\n",
       "       -14.43396572, -12.74452658,   4.46513923,  -8.53642686,\n",
       "         2.96571022,   4.84592209,  -9.87424803,   6.84473097,\n",
       "         8.35976276, -16.84953964,  -7.47643389,   0.44819712,\n",
       "       -14.15310548,   3.33064498,  -8.08827648, -10.95325515,\n",
       "         5.87094522, -10.35045978, -11.16245859,   4.75643105,\n",
       "         5.97583513,   6.08789387,  -8.85084344,  -9.92166493,\n",
       "       -12.04685494,   7.4096005 , -10.15284603,  -6.67282013,\n",
       "         8.66770994,  -8.80155289,   6.15869653,   5.90515646,\n",
       "        -8.58754415, -14.5354831 , -11.1509665 ,  -6.57125771,\n",
       "        -9.55000438,   5.06568955,   3.59829492, -14.69550886,\n",
       "         5.55433444, -12.25393051,  -1.00045145,  -0.29798223,\n",
       "         5.94814202, -13.7025155 ,  -9.34268989,  -7.77813467,\n",
       "        -6.74313789, -11.72980938,  -7.90720251,   4.08079633,\n",
       "       -10.52650087,  -7.10851405,   4.21590717,   4.71138452,\n",
       "       -15.01781318,   6.7629418 , -11.57182923, -13.13053471,\n",
       "        -7.9834493 ,   0.4997648 , -11.35720958, -11.53485421,\n",
       "         6.04704704,   4.33754346, -11.52653678,   4.40343273,\n",
       "       -14.79333227,  -7.56071657,  -8.46786355, -12.02108813,\n",
       "        -8.27956226, -10.40454303,   2.65044645,   0.03416151,\n",
       "         0.99953632,   7.56609535, -15.08267087,  -9.64584815,\n",
       "         6.17022187, -11.52523292,   5.35754303,   6.63490235,\n",
       "         7.7211354 , -14.05206949, -16.77814106,  -8.70552581,\n",
       "         3.25265853, -13.74837706,  -7.53007062,  -2.30827498,\n",
       "        -8.4327613 ,   1.58762058, -12.92042848, -11.23725588,\n",
       "         3.50012227,   4.9579286 ,  -9.78073972, -13.54390161,\n",
       "       -10.07686849,   3.00984162,   5.63361634, -12.19866826,\n",
       "       -11.45518426,  -7.88875776,   2.65508873,   5.54942916,\n",
       "        -0.7425434 ,   4.08025959,   5.95707195,  -8.39404798,\n",
       "         1.65833392, -10.07753375,  -9.58223175,   7.5913843 ,\n",
       "         5.76097491,   7.78048831,   3.5357801 ,   7.95374898,\n",
       "         3.06560007,   1.66996444,  -4.42630932,  -7.01810309,\n",
       "       -12.37416855, -13.00421481, -16.04219432,   2.07151061,\n",
       "         3.43178231,   2.69305723, -11.39137998, -12.45550357,\n",
       "       -10.16093481,   4.86624736,  -8.18028492,   4.81804095,\n",
       "         6.08000491, -10.27676131, -12.5709586 ,  -7.1902689 ,\n",
       "        -9.94749744,   5.1791127 , -17.01066876,  -8.64881679,\n",
       "        -8.18328027,   8.06352273,  -4.30417519, -10.24841037,\n",
       "       -13.58433077,   5.99583344, -10.17732341,   9.29314661,\n",
       "         6.00281844, -10.7046519 , -12.67987461,   1.65948033,\n",
       "         4.35952774,   4.54786675,  -9.35925382,   2.95033227,\n",
       "       -11.3220516 ,   8.35036948, -11.38857826,   6.26467212,\n",
       "       -10.85465062, -10.39337205,  -8.14478949,   3.63351704,\n",
       "         2.96901862,  -7.81799934,  -6.49302037, -10.77234163,\n",
       "         6.03148919, -13.60757572,   5.52973033, -13.8313659 ,\n",
       "         2.8312874 ,  -9.54108647, -11.59807167,  -3.06443739,\n",
       "         3.30740034, -10.1599636 ,   4.30569451,   6.27860646,\n",
       "         4.02073818, -10.88707428, -10.57764636,  -8.96648833,\n",
       "         0.4481939 , -14.89477282, -13.08057296, -11.70963702,\n",
       "       -11.27653805, -11.49936323, -10.37395988,   4.56762355,\n",
       "         6.78379951,   7.39624807, -11.00460633,   4.55677621,\n",
       "         4.67810431, -10.76953414,   5.99898343,   0.9996154 ,\n",
       "       -12.12769043, -11.49967748,  -6.94773244,  -4.24238641,\n",
       "        -6.91328642,  -3.40208653,   6.26400401,   4.91368794,\n",
       "        -7.16772247, -11.77763385,   3.4806166 ,  -9.0739147 ,\n",
       "         4.05209633, -12.47664928,  -9.00692605, -14.26446947,\n",
       "        -3.54160502,  -2.27135032, -10.36727239,  -1.50838324,\n",
       "       -10.02337603,   6.34383442,   3.85070569,   4.74405926,\n",
       "        -9.59335033,   6.00633397,  -4.76251709,   4.3534408 ,\n",
       "        -0.99949174,   3.28541851,   2.46384988, -12.03700076,\n",
       "         6.97190271,   7.98025643, -15.57645816,  -7.31356404,\n",
       "       -11.16130274, -10.26691897,  -3.23753967,  -9.67630544,\n",
       "         3.09255473,   1.5435732 ,   4.39149129,   3.77417164,\n",
       "         5.35607761, -12.57343045,   3.78762848,  -7.97280132,\n",
       "       -11.38478625,  -9.73713798,  -9.56989411,   8.5532942 ,\n",
       "         6.6250534 ,   5.49402459,   3.39078365,   1.83584584,\n",
       "        -8.15370548, -10.55987447,  -9.47800726, -12.37910377,\n",
       "         0.09599049,   5.49234343,   7.49864349,   4.88857058,\n",
       "        -8.1288873 ,   4.00269707,   8.51580514,   0.09608629,\n",
       "       -10.93417689,  -8.10907131, -10.62917216, -10.21890323,\n",
       "        -2.27135032,   4.31252087, -12.38323877,   4.54823883,\n",
       "         1.03478921,   4.77136768,   5.04936857,  -3.10943064,\n",
       "         0.43121723,   5.94314065,   7.21359411, -13.01169892,\n",
       "       -10.62449916, -12.40253   ,   4.51708542,   2.85529731,\n",
       "         0.09608629,   5.30442032,   6.48240659,   4.75140769,\n",
       "        -9.19683341, -10.26646154,   6.76517143,   2.34117948,\n",
       "        -9.25373166,   2.49635525,   6.72462373, -13.3094472 ,\n",
       "         5.56922901,  -8.83804316, -12.90801418,  -8.89403734,\n",
       "         7.94816155,  -7.38175833,   4.20729949,   6.40791855,\n",
       "         5.35627567,  -6.09823386,  -9.98692185,   7.53294872,\n",
       "        -9.45338635,  -9.72310282,   4.66558884,   3.63542909,\n",
       "       -10.18641517,  -8.78617398,   2.38839233, -12.32151192,\n",
       "         6.97001575,   4.84720845,   4.37305298,   9.52758746,\n",
       "       -18.65851734,  -6.49803958,   4.78628328,   3.80946144,\n",
       "         5.05020249, -11.43037177,   4.41211391, -12.73317602,\n",
       "         4.94582012,   2.77590378,   4.04717763, -11.16187562,\n",
       "        -5.54122552,   3.20927521,   3.67920707, -11.64252959,\n",
       "       -11.67920036, -13.16579645,   2.49746705,   2.06664324,\n",
       "       -10.20126769,   5.60295291,   5.82347772,   6.00682254,\n",
       "         6.68096227, -11.07291486,   1.62643358,   3.69447019,\n",
       "       -10.72133479, -12.08635469, -14.210819  ,  -9.90147963,\n",
       "         5.69292916,   7.36352894,  -7.40783409, -11.97801667,\n",
       "         2.26056885,   0.31658016, -10.61203087,   6.88312219,\n",
       "         8.52209453, -10.04277886,   6.93467503, -13.02544177,\n",
       "       -12.47727405,   2.5540244 , -11.18758298,  -9.2255439 ,\n",
       "         3.2200486 ,   5.33414181, -12.20047123,   4.88504753,\n",
       "         5.12246297,   5.83457783,  -6.56096256, -11.68575486,\n",
       "       -13.8704097 ,   3.4118555 ,   9.18428422,   3.9426368 ,\n",
       "        -8.14596903, -10.2875325 ,   1.6549044 , -11.18913684,\n",
       "         2.41421895,  -8.26999926,  -6.08785835, -11.14414477,\n",
       "       -11.40236647, -11.58032232,   2.6974627 , -13.58372438,\n",
       "        -9.76961317, -12.06769016,   3.88429275,   5.58095953,\n",
       "         1.5155745 , -11.85564325,  -8.13500254,  -0.7425434 ,\n",
       "         6.78600646, -10.45164452,   2.71426925,  -7.9705868 ,\n",
       "        -8.76757088,  -8.06890061, -11.89578268,   2.81910323,\n",
       "         7.9507818 ,   5.57155294, -10.57887149,   8.146688  ,\n",
       "       -10.83255384,   5.04205908, -11.32734379,  -9.27197813,\n",
       "       -10.30099479,   3.24752551,   8.38573516,  -8.11636678,\n",
       "       -10.61452461,   8.99369056,   0.90338981,   6.4619844 ,\n",
       "         3.98800887,   2.03521219, -12.77350467,  -9.65377237,\n",
       "        -1.50838324,   6.65578143,  -9.84485222,  -7.71156195,\n",
       "       -11.71520934,   5.88157013, -15.20269546,   4.69487083,\n",
       "         3.2099826 ,   6.48458658,   4.03406159,   4.99159054,\n",
       "        -8.61388475, -13.29791495, -10.048171  ,  -7.89409746,\n",
       "         4.55815536, -13.17677457, -10.52448456,  -9.49335617,\n",
       "         3.59131836,  -8.12582834, -16.71129959,   4.18514895,\n",
       "         1.00031167,  -8.74644753, -14.75781274,   6.13346874,\n",
       "        -9.43569496,  -2.30832288, -14.9488901 ,   7.14537069,\n",
       "       -12.95490855,  -9.35904409,  -6.03621347,  -6.70822893,\n",
       "         0.4481939 , -12.63608173,   6.10796288, -11.24556032,\n",
       "        -2.30832288,   5.69526267, -11.51263886,   5.45303502,\n",
       "         5.34405482, -11.13983815,   5.15842998,  -6.44919053,\n",
       "        -9.8013792 , -13.33871582,   6.96616728,   6.55161055,\n",
       "        -8.10317548,  -4.82070796,  -9.38071885,  -9.70542632,\n",
       "         5.8898807 ,   3.50384565,  -6.47623161, -12.09824437,\n",
       "        -9.63774318,   2.15563012, -10.97977882,   5.88649596,\n",
       "       -10.77591316, -12.38448565,   5.68043738,   2.57050169,\n",
       "         5.29771123, -13.13419512,   5.33541052,   5.53138969,\n",
       "        -7.6549845 ,   5.93078028,   2.55059961,   6.70921407,\n",
       "       -12.76934864,   7.11687388, -10.63265733,   7.13743903,\n",
       "       -14.94572357, -13.17925633,   1.82667209, -12.68130223,\n",
       "         3.54311371, -10.74764112,  -6.63811581, -12.81146931,\n",
       "         4.11413286,   4.44040047,  -3.05012066, -10.33823395,\n",
       "        -9.35207266,   6.04203064,   2.87772561, -17.05261569,\n",
       "       -10.5405341 ,  -6.80502498,  -4.73157269,  -2.27135032,\n",
       "         7.58746186,   0.09608629,  -8.50380052,   9.18387473,\n",
       "       -11.37406795, -14.96196115,  -8.63095669,   3.06404899,\n",
       "         6.18790316,  -0.27910183,  -9.89401519,   5.71755547,\n",
       "         5.21915957,   2.46683009,   7.71169706, -10.11713937,\n",
       "         7.07126675, -10.24839461, -12.39795325, -12.7064295 ,\n",
       "         0.92665603,   6.57812346,  -8.78805158, -10.97181925,\n",
       "       -12.16252722,  -5.29905364,  -9.89943827, -17.60530273,\n",
       "        -0.99949174,   3.98998226,   1.88406477,  -3.15813442,\n",
       "       -11.41932091, -10.08771054,   3.95756584, -10.26461423,\n",
       "         5.87097313, -10.30696761,  -2.19174547,  -5.81071463,\n",
       "         5.6196647 ,   3.30343166,   7.67262688,  -8.65327614,\n",
       "        -9.18953986,   3.92575909,   6.51654968, -15.36018293,\n",
       "       -10.73234314,   3.50654572,   5.80698106, -11.63291918,\n",
       "         3.19207735, -12.7150343 ,  -7.42910175, -11.89740851,\n",
       "        -6.60554418,   3.52900536,   5.78581872, -11.16610601,\n",
       "         2.4672959 ,   5.06945951, -15.07584395,  -8.53988934,\n",
       "       -13.64276967,   1.88288588, -13.59393415,  -9.67423542,\n",
       "       -11.27040381, -11.71938768,   3.1668298 ,   2.27384829,\n",
       "        -9.76394821,   7.77622364,   6.28418512,   9.08451566,\n",
       "       -12.82305431, -11.61012369,   6.98979555, -12.70220652,\n",
       "         3.04048545,  -9.20075386,   4.10108576, -12.61996023,\n",
       "        -6.54822862,   3.70982716, -10.89081167,   3.65464298,\n",
       "         7.83872687,   3.66870991,   2.08928236,   5.46427294,\n",
       "        -5.10464324, -13.90950606,   3.5690926 , -10.39127112,\n",
       "         7.20101235, -11.14372008,   6.02082925,   2.64650817,\n",
       "        -9.15243564,   4.26973872,   5.76844231, -14.91696759,\n",
       "         2.22805238, -12.90916822,  -9.26351409,  -8.2195716 ,\n",
       "       -10.48474057, -10.39073772,  -0.74250968,   8.45991434,\n",
       "       -10.57548891, -14.77884089, -15.80825868,   3.87441869,\n",
       "         7.84467125,  -9.88478093,   6.89674693,  -7.95939752,\n",
       "         7.74837567,  -9.21731695,   2.68387647,   7.6134365 ,\n",
       "       -15.46848217,  -8.49875556, -12.21108992,  -0.99944218,\n",
       "        -9.27652245,   3.6702619 , -12.60104942,   3.95677549,\n",
       "       -11.9543056 ,   4.24273291,   7.44201727,   6.29420701,\n",
       "         7.16843266, -10.32889309, -10.20043981, -10.51156095,\n",
       "       -13.29979499,   5.20592469,   6.85110089, -12.31538899,\n",
       "         3.39740962,   4.84457283,  -8.74494646,   4.331747  ])"
      ]
     },
     "execution_count": 6,
     "metadata": {},
     "output_type": "execute_result"
    }
   ],
   "source": [
    "#Build the SVM Model for linear kernel\n",
    "svc_model=SVC(kernel=\"linear\",probability=True) #rbf\n",
    "SVM1=svc_model.fit(X_train,Y_train)\n",
    "SVM1\n",
    "SVM1.decision_function(X_train)\n",
    "\n",
    "#LINEAR KERNEL IS USED WE CAN ALSO USE DIFFERENT KERNELS LIKE rbf, POLYNOMIAL ETC"
   ]
  },
  {
   "cell_type": "code",
   "execution_count": 8,
   "id": "14e6cf8d",
   "metadata": {},
   "outputs": [
    {
     "name": "stdout",
     "output_type": "stream",
     "text": [
      "Accuracy= 0.9875\n",
      "Recall= 0.9908\n",
      "Precision 0.9817\n"
     ]
    }
   ],
   "source": [
    "#Overall Accuracy,recall,precision\n",
    "Prediction=SVM1.predict(X_train)\n",
    "print(\"Accuracy=\",\"{:.4f}\".format(accuracy_score(Y_train,Prediction)))\n",
    "print(\"Recall=\",\"{:.4f}\".format(recall_score(Y_train,Prediction)))\n",
    "print(\"Precision\",\"{:.4f}\".format(precision_score(Y_train,Prediction)))"
   ]
  },
  {
   "cell_type": "code",
   "execution_count": null,
   "id": "6ce7b08b",
   "metadata": {},
   "outputs": [],
   "source": [
    "#ACCURACY ID 99% RECALL 99% PRECISION IS 98%"
   ]
  },
  {
   "cell_type": "code",
   "execution_count": 9,
   "id": "41c6174c",
   "metadata": {},
   "outputs": [
    {
     "data": {
      "image/png": "[encoded data removed]",
      "text/plain": [
       "<Figure size 432x288 with 2 Axes>"
      ]
     },
     "metadata": {
      "needs_background": "light"
     },
     "output_type": "display_data"
    }
   ],
   "source": [
    "#Getting Confusion Matrix\n",
    "confusion=confusion_matrix(Y_train,Prediction)\n",
    "sns.heatmap(confusion,annot=True,cmap=\"Oranges\",annot_kws={\"size\":20},fmt=\"0.0f\",\n",
    "           xticklabels=[\"Not Decided\",\"Decided\"],\n",
    "           yticklabels=[\"Not Decided\",\"Decided\"])\n",
    "plt.ylabel(\"Actual\")\n",
    "plt.xlabel(\"Predicted\")\n",
    "plt.show()"
   ]
  },
  {
   "cell_type": "code",
   "execution_count": 10,
   "id": "09b1665d",
   "metadata": {},
   "outputs": [
    {
     "data": {
      "text/html": [
       "<div>\n",
       "<style scoped>\n",
       "    .dataframe tbody tr th:only-of-type {\n",
       "        vertical-align: middle;\n",
       "    }\n",
       "\n",
       "    .dataframe tbody tr th {\n",
       "        vertical-align: top;\n",
       "    }\n",
       "\n",
       "    .dataframe thead th {\n",
       "        text-align: right;\n",
       "    }\n",
       "</style>\n",
       "<table border=\"1\" class=\"dataframe\">\n",
       "  <thead>\n",
       "    <tr style=\"text-align: right;\">\n",
       "      <th></th>\n",
       "      <th>0</th>\n",
       "      <th>1</th>\n",
       "    </tr>\n",
       "  </thead>\n",
       "  <tbody>\n",
       "    <tr>\n",
       "      <th>0</th>\n",
       "      <td>9.833372e-01</td>\n",
       "      <td>1.666275e-02</td>\n",
       "    </tr>\n",
       "    <tr>\n",
       "      <th>1</th>\n",
       "      <td>6.109606e-03</td>\n",
       "      <td>9.938904e-01</td>\n",
       "    </tr>\n",
       "    <tr>\n",
       "      <th>2</th>\n",
       "      <td>3.476899e-03</td>\n",
       "      <td>9.965231e-01</td>\n",
       "    </tr>\n",
       "    <tr>\n",
       "      <th>3</th>\n",
       "      <td>3.543004e-08</td>\n",
       "      <td>1.000000e+00</td>\n",
       "    </tr>\n",
       "    <tr>\n",
       "      <th>4</th>\n",
       "      <td>1.142661e-07</td>\n",
       "      <td>9.999999e-01</td>\n",
       "    </tr>\n",
       "    <tr>\n",
       "      <th>...</th>\n",
       "      <td>...</td>\n",
       "      <td>...</td>\n",
       "    </tr>\n",
       "    <tr>\n",
       "      <th>955</th>\n",
       "      <td>9.999998e-01</td>\n",
       "      <td>2.360909e-07</td>\n",
       "    </tr>\n",
       "    <tr>\n",
       "      <th>956</th>\n",
       "      <td>7.574763e-03</td>\n",
       "      <td>9.924252e-01</td>\n",
       "    </tr>\n",
       "    <tr>\n",
       "      <th>957</th>\n",
       "      <td>4.288654e-06</td>\n",
       "      <td>9.999957e-01</td>\n",
       "    </tr>\n",
       "    <tr>\n",
       "      <th>958</th>\n",
       "      <td>9.999771e-01</td>\n",
       "      <td>2.291094e-05</td>\n",
       "    </tr>\n",
       "    <tr>\n",
       "      <th>959</th>\n",
       "      <td>1.597974e-05</td>\n",
       "      <td>9.999840e-01</td>\n",
       "    </tr>\n",
       "  </tbody>\n",
       "</table>\n",
       "<p>960 rows × 2 columns</p>\n",
       "</div>"
      ],
      "text/plain": [
       "                0             1\n",
       "0    9.833372e-01  1.666275e-02\n",
       "1    6.109606e-03  9.938904e-01\n",
       "2    3.476899e-03  9.965231e-01\n",
       "3    3.543004e-08  1.000000e+00\n",
       "4    1.142661e-07  9.999999e-01\n",
       "..            ...           ...\n",
       "955  9.999998e-01  2.360909e-07\n",
       "956  7.574763e-03  9.924252e-01\n",
       "957  4.288654e-06  9.999957e-01\n",
       "958  9.999771e-01  2.291094e-05\n",
       "959  1.597974e-05  9.999840e-01\n",
       "\n",
       "[960 rows x 2 columns]"
      ]
     },
     "execution_count": 10,
     "metadata": {},
     "output_type": "execute_result"
    }
   ],
   "source": [
    "#Getting Probabilities\n",
    "Probability=SVM1.predict_proba(X_train)\n",
    "Probability=pd.DataFrame(Probability)\n",
    "Probability"
   ]
  },
  {
   "cell_type": "code",
   "execution_count": 11,
   "id": "e51bb68a",
   "metadata": {},
   "outputs": [
    {
     "data": {
      "image/png": "[encoded data removed]",
      "text/plain": [
       "<Figure size 432x288 with 1 Axes>"
      ]
     },
     "metadata": {
      "needs_background": "light"
     },
     "output_type": "display_data"
    }
   ],
   "source": [
    "#ROC Curve\n",
    "svmroc=roc_auc_score(Y_train,Prediction)\n",
    "fpr,tpr,thresholds=roc_curve(Y_train,Probability[1])\n",
    "plt.figure()\n",
    "plt.plot(fpr,tpr,color=\"red\",lw=3,label=\"SVM ROC Linear Kernel(area=%0.3f)\" %svmroc)\n",
    "plt.plot([0,1],[0,1],\"r--\")\n",
    "plt.xlim([0,1])\n",
    "plt.ylim([0,1.05])\n",
    "plt.xlabel(\"False Positive\")\n",
    "plt.ylabel(\"True Positive\")\n",
    "plt.title(\"Receiver Operating Characteristics Curve\")\n",
    "plt.legend(loc=\"lower right\")\n",
    "plt.show()"
   ]
  },
  {
   "cell_type": "code",
   "execution_count": 12,
   "id": "1cab4c42",
   "metadata": {},
   "outputs": [
    {
     "name": "stdout",
     "output_type": "stream",
     "text": [
      "Accuracy= 0.9903\n",
      "Recall= 0.9887\n",
      "Precision 0.9887\n"
     ]
    }
   ],
   "source": [
    "#Overall Accuracy,recall,precision\n",
    "Prediction=SVM1.predict(X_test)\n",
    "print(\"Accuracy=\",\"{:.4f}\".format(accuracy_score(Y_test,Prediction)))\n",
    "print(\"Recall=\",\"{:.4f}\".format(recall_score(Y_test,Prediction)))\n",
    "print(\"Precision\",\"{:.4f}\".format(precision_score(Y_test,Prediction)))"
   ]
  },
  {
   "cell_type": "code",
   "execution_count": null,
   "id": "b2368756",
   "metadata": {},
   "outputs": [],
   "source": [
    "#ACCURACY ID 99% RECALL 98% PRECISION IS 98% WHICH MATCHES WITH THE MODEL"
   ]
  },
  {
   "cell_type": "code",
   "execution_count": 13,
   "id": "50927720",
   "metadata": {},
   "outputs": [
    {
     "data": {
      "image/png": "[encoded data removed]",
      "text/plain": [
       "<Figure size 432x288 with 2 Axes>"
      ]
     },
     "metadata": {
      "needs_background": "light"
     },
     "output_type": "display_data"
    }
   ],
   "source": [
    "#Getting Confusion Matrix-test Data\n",
    "confusion=confusion_matrix(Y_test,Prediction)\n",
    "sns.heatmap(confusion,annot=True,cmap=\"Oranges\",annot_kws={\"size\":20},fmt=\"0.0f\",\n",
    "           xticklabels=[\"Class0\",\"Class1\"],\n",
    "           yticklabels=[\"Class0\",\"Class1\"])\n",
    "plt.ylabel(\"Actual\")\n",
    "plt.xlabel(\"Predicted\")\n",
    "plt.show()"
   ]
  },
  {
   "cell_type": "code",
   "execution_count": null,
   "id": "8b2515a6",
   "metadata": {},
   "outputs": [],
   "source": [
    "#LINEAR DISCRIMINENT ANALYSIS"
   ]
  },
  {
   "cell_type": "code",
   "execution_count": 15,
   "id": "2e555647",
   "metadata": {},
   "outputs": [
    {
     "name": "stdout",
     "output_type": "stream",
     "text": [
      "[1.]\n"
     ]
    }
   ],
   "source": [
    "from sklearn.discriminant_analysis import LinearDiscriminantAnalysis\n",
    "from sklearn.metrics import confusion_matrix\n",
    "\n",
    "lda=LinearDiscriminantAnalysis()\n",
    "X_lda=lda.fit_transform(X_train,Y_train)\n",
    "VarExplained=lda.explained_variance_ratio_\n",
    "print(VarExplained)\n",
    "Model=lda.fit(X_train,Y_train)"
   ]
  },
  {
   "cell_type": "code",
   "execution_count": 16,
   "id": "df4e83f4",
   "metadata": {},
   "outputs": [
    {
     "data": {
      "text/plain": [
       "{'covariance_estimator': None,\n",
       " 'n_components': None,\n",
       " 'priors': None,\n",
       " 'shrinkage': None,\n",
       " 'solver': 'svd',\n",
       " 'store_covariance': False,\n",
       " 'tol': 0.0001}"
      ]
     },
     "execution_count": 16,
     "metadata": {},
     "output_type": "execute_result"
    }
   ],
   "source": [
    "Model.get_params(deep=True)"
   ]
  },
  {
   "cell_type": "code",
   "execution_count": 17,
   "id": "42fcd8f7",
   "metadata": {},
   "outputs": [
    {
     "name": "stdout",
     "output_type": "stream",
     "text": [
      "           VARWAVELET  SKEWWAVELET  KURTWAVELET  ENTROPYIMAGE\n",
      "Fisher Z=   -4.536382    -2.446516    -3.292128      0.117149\n"
     ]
    }
   ],
   "source": [
    "Coef=Model.coef_\n",
    "Coef=pd.DataFrame(Coef).transpose()\n",
    "Coef.columns=[\"Fisher Z=\"]\n",
    "Result=Coef.transpose()\n",
    "Result.columns=[\"VARWAVELET\",\"SKEWWAVELET\",\"KURTWAVELET\",\"ENTROPYIMAGE\"]\n",
    "print(Result)"
   ]
  },
  {
   "cell_type": "code",
   "execution_count": 18,
   "id": "d154700c",
   "metadata": {},
   "outputs": [
    {
     "name": "stdout",
     "output_type": "stream",
     "text": [
      "         ZScore\n",
      "0    -18.809560\n",
      "1    -23.049344\n",
      "2     -7.773731\n",
      "3    -16.562310\n",
      "4      3.870890\n",
      "...         ...\n",
      "1367   9.196648\n",
      "1368   6.579193\n",
      "1369   1.326581\n",
      "1370   5.356664\n",
      "1371  14.075741\n",
      "\n",
      "[1372 rows x 1 columns]\n"
     ]
    }
   ],
   "source": [
    "Scores=Model.decision_function(X)\n",
    "Scores=pd.DataFrame(Scores)\n",
    "Scores.columns=[\"ZScore\"]\n",
    "print(Scores)\n",
    "Scores.to_csv(\"Zscores.csv\",index=False)"
   ]
  },
  {
   "cell_type": "code",
   "execution_count": 25,
   "id": "cee57a47",
   "metadata": {},
   "outputs": [
    {
     "name": "stdout",
     "output_type": "stream",
     "text": [
      "              0         1\n",
      "0  8.590270e-01  0.140973\n",
      "1  3.576598e-05  0.999964\n",
      "2  2.503379e-06  0.999997\n",
      "3  1.810487e-08  1.000000\n",
      "4  5.621628e-08  1.000000\n"
     ]
    },
    {
     "data": {
      "image/png": "[encoded data removed]",
      "text/plain": [
       "<Figure size 432x288 with 2 Axes>"
      ]
     },
     "metadata": {
      "needs_background": "light"
     },
     "output_type": "display_data"
    }
   ],
   "source": [
    "Posterior=Model.predict_proba(X_train)\n",
    "Posterior=pd.DataFrame(Posterior)\n",
    "print(Posterior.head())\n",
    "pred_class=(Posterior[1]>0.5).astype(np.int) \n",
    "confusion=confusion_matrix(Y_train.astype(float),pred_class) \n",
    "sns.heatmap(confusion, annot=True,cmap=\"Oranges\",annot_kws={\"size\":20},\n",
    "           xticklabels=[\"Not Loyal\",\"Loyal\"],\n",
    "           yticklabels=[\"Not Loyal\",\"Loyal\"])\n",
    "plt.ylabel(\"Actual\")\n",
    "plt.xlabel(\"Predicted\")\n",
    "plt.show()\n"
   ]
  },
  {
   "cell_type": "code",
   "execution_count": 27,
   "id": "549a4302",
   "metadata": {},
   "outputs": [
    {
     "name": "stdout",
     "output_type": "stream",
     "text": [
      "Accuracy= 0.9760\n",
      "Recall= 0.9977\n",
      "Precision= 0.9515\n"
     ]
    }
   ],
   "source": [
    "#Getting Accuracy,Recall, and Precision\n",
    "print(\"Accuracy=\",\"{0:.4f}\".format(accuracy_score(Y_train.astype(np.int),pred_class)))\n",
    "print(\"Recall=\",\"{0:.4f}\".format(recall_score(Y_train.astype(np.int),pred_class)))\n",
    "print(\"Precision=\",\"{0:.4f}\".format(precision_score(Y_train.astype(np.int),pred_class)))"
   ]
  },
  {
   "cell_type": "code",
   "execution_count": null,
   "id": "d627d81c",
   "metadata": {},
   "outputs": [],
   "source": [
    "# THESE VALUES ALMOST MATCHES WITH THE SVM "
   ]
  },
  {
   "cell_type": "code",
   "execution_count": 28,
   "id": "65be997d",
   "metadata": {},
   "outputs": [
    {
     "data": {
      "image/png": "[encoded data removed]",
      "text/plain": [
       "<Figure size 432x288 with 1 Axes>"
      ]
     },
     "metadata": {
      "needs_background": "light"
     },
     "output_type": "display_data"
    }
   ],
   "source": [
    "#Getting the ROC Curve\n",
    "disroc=roc_auc_score(Y_train.astype(float),pred_class)\n",
    "fpr,tpr,thresholds=roc_curve(Y_train.astype(float),Posterior[1])\n",
    "plt.figure()\n",
    "plt.plot(fpr,tpr,color=\"red\",lw=3,label=\"Fisher's Discriminant Model(area=%0.3f)\" %disroc)\n",
    "plt.plot([0,1],[0,1],\"r--\")\n",
    "plt.xlim([0,1])\n",
    "plt.ylim([0,1.05])\n",
    "plt.xlabel(\"False Positive\")\n",
    "plt.ylabel(\"True Positive\")\n",
    "plt.title(\"Receiver Operating Characteristic Curve\")\n",
    "plt.legend(loc=\"lower right\")\n",
    "plt.show()"
   ]
  },
  {
   "cell_type": "code",
   "execution_count": 30,
   "id": "ca892286",
   "metadata": {},
   "outputs": [
    {
     "name": "stdout",
     "output_type": "stream",
     "text": [
      "Accuracy= 0.9757\n",
      "Recall= 1.0000\n",
      "Precision 0.9465\n"
     ]
    }
   ],
   "source": [
    "Prediction_LDA=lda.predict(X_test)\n",
    "print(\"Accuracy=\",\"{:.4f}\".format(accuracy_score(Y_test,Prediction_LDA)))\n",
    "print(\"Recall=\",\"{:.4f}\".format(recall_score(Y_test,Prediction_LDA)))\n",
    "print(\"Precision\",\"{:.4f}\".format(precision_score(Y_test,Prediction_LDA)))"
   ]
  },
  {
   "cell_type": "code",
   "execution_count": 31,
   "id": "609b6c02",
   "metadata": {},
   "outputs": [
    {
     "data": {
      "image/png": "[encoded data removed]",
      "text/plain": [
       "<Figure size 432x288 with 2 Axes>"
      ]
     },
     "metadata": {
      "needs_background": "light"
     },
     "output_type": "display_data"
    }
   ],
   "source": [
    "#PREDICTION MATCHES TRAINING WE CAN SAY THAT THIS MODEL IS WORKING WELL\n",
    "confusion=confusion_matrix(Y_test,Prediction_LDA)\n",
    "sns.heatmap(confusion,annot=True,cmap=\"Oranges\",annot_kws={\"size\":20},fmt=\"0.0f\",\n",
    "           xticklabels=[\"Class0\",\"Class1\"],\n",
    "           yticklabels=[\"Class0\",\"Class1\"])\n",
    "plt.ylabel(\"Actual\")\n",
    "plt.xlabel(\"Predicted\")\n",
    "plt.show()"
   ]
  },
  {
   "cell_type": "code",
   "execution_count": null,
   "id": "f4635c53",
   "metadata": {},
   "outputs": [],
   "source": [
    "#DECITION TREE"
   ]
  },
  {
   "cell_type": "code",
   "execution_count": 55,
   "id": "8416b9df",
   "metadata": {},
   "outputs": [],
   "source": [
    "from sklearn.tree import DecisionTreeClassifier\n",
    "clf_tree=DecisionTreeClassifier()\n",
    "clf_tree=DecisionTreeClassifier(criterion=\"entropy\",max_depth=7)\n",
    "clf_tree.fit(X_train,Y_train)\n",
    "tree_predict=clf_tree.predict(X_train)\n",
    "round(accuracy_score(Y_train,tree_predict),3)\n",
    "pred_prob=clf_tree.predict_proba(X_train)\n",
    "#MAX DEPTH IS THE NUMBER OF DIVITIONS THAT HAVE TO BE MADE\n",
    "#ENTROPY IS BETTER THAN GINI SO WE HAVE USED IT "
   ]
  },
  {
   "cell_type": "code",
   "execution_count": 56,
   "id": "c611cc98",
   "metadata": {},
   "outputs": [
    {
     "data": {
      "text/plain": [
       "[Text(225.525, 203.85, 'X[0] <= 0.765\\nentropy = 0.993\\nsamples = 960\\nvalue = [527, 433]'),\n",
       " Text(153.45000000000002, 176.67000000000002, 'X[1] <= 5.365\\nentropy = 0.774\\nsamples = 522\\nvalue = [119, 403]'),\n",
       " Text(102.30000000000001, 149.49, 'X[0] <= 0.315\\nentropy = 0.452\\nsamples = 412\\nvalue = [39, 373]'),\n",
       " Text(55.800000000000004, 122.31, 'X[2] <= 3.064\\nentropy = 0.274\\nsamples = 361\\nvalue = [17, 344]'),\n",
       " Text(37.2, 95.13, 'entropy = 0.0\\nsamples = 217\\nvalue = [0, 217]'),\n",
       " Text(74.4, 95.13, 'X[1] <= -4.675\\nentropy = 0.524\\nsamples = 144\\nvalue = [17, 127]'),\n",
       " Text(37.2, 67.94999999999999, 'X[0] <= -0.266\\nentropy = 0.068\\nsamples = 124\\nvalue = [1, 123]'),\n",
       " Text(18.6, 40.77000000000001, 'entropy = 0.0\\nsamples = 123\\nvalue = [0, 123]'),\n",
       " Text(55.800000000000004, 40.77000000000001, 'entropy = 0.0\\nsamples = 1\\nvalue = [1, 0]'),\n",
       " Text(111.60000000000001, 67.94999999999999, 'X[2] <= 4.466\\nentropy = 0.722\\nsamples = 20\\nvalue = [16, 4]'),\n",
       " Text(93.0, 40.77000000000001, 'X[3] <= -0.185\\nentropy = 0.722\\nsamples = 5\\nvalue = [1, 4]'),\n",
       " Text(74.4, 13.590000000000003, 'entropy = 0.0\\nsamples = 1\\nvalue = [1, 0]'),\n",
       " Text(111.60000000000001, 13.590000000000003, 'entropy = 0.0\\nsamples = 4\\nvalue = [0, 4]'),\n",
       " Text(130.20000000000002, 40.77000000000001, 'entropy = 0.0\\nsamples = 15\\nvalue = [15, 0]'),\n",
       " Text(148.8, 122.31, 'X[2] <= 0.47\\nentropy = 0.986\\nsamples = 51\\nvalue = [22, 29]'),\n",
       " Text(130.20000000000002, 95.13, 'entropy = 0.0\\nsamples = 26\\nvalue = [0, 26]'),\n",
       " Text(167.4, 95.13, 'X[3] <= 0.696\\nentropy = 0.529\\nsamples = 25\\nvalue = [22, 3]'),\n",
       " Text(148.8, 67.94999999999999, 'entropy = 0.0\\nsamples = 22\\nvalue = [22, 0]'),\n",
       " Text(186.0, 67.94999999999999, 'entropy = 0.0\\nsamples = 3\\nvalue = [0, 3]'),\n",
       " Text(204.60000000000002, 149.49, 'X[0] <= -3.431\\nentropy = 0.845\\nsamples = 110\\nvalue = [80, 30]'),\n",
       " Text(186.0, 122.31, 'entropy = 0.0\\nsamples = 30\\nvalue = [0, 30]'),\n",
       " Text(223.20000000000002, 122.31, 'entropy = 0.0\\nsamples = 80\\nvalue = [80, 0]'),\n",
       " Text(297.6, 176.67000000000002, 'X[2] <= -1.865\\nentropy = 0.36\\nsamples = 438\\nvalue = [408, 30]'),\n",
       " Text(279.0, 149.49, 'X[1] <= 4.941\\nentropy = 0.744\\nsamples = 142\\nvalue = [112, 30]'),\n",
       " Text(260.40000000000003, 122.31, 'X[0] <= 3.398\\nentropy = 0.206\\nsamples = 31\\nvalue = [1, 30]'),\n",
       " Text(241.8, 95.13, 'entropy = 0.0\\nsamples = 30\\nvalue = [0, 30]'),\n",
       " Text(279.0, 95.13, 'entropy = 0.0\\nsamples = 1\\nvalue = [1, 0]'),\n",
       " Text(297.6, 122.31, 'entropy = 0.0\\nsamples = 111\\nvalue = [111, 0]'),\n",
       " Text(316.20000000000005, 149.49, 'entropy = 0.0\\nsamples = 296\\nvalue = [296, 0]')]"
      ]
     },
     "execution_count": 56,
     "metadata": {},
     "output_type": "execute_result"
    },
    {
     "data": {
      "image/png": "[encoded data removed]",
      "text/plain": [
       "<Figure size 432x288 with 1 Axes>"
      ]
     },
     "metadata": {
      "needs_background": "light"
     },
     "output_type": "display_data"
    }
   ],
   "source": [
    "from sklearn import tree\n",
    "tree.plot_tree(clf_tree,filled=True, fontsize=8)\n",
    "#FONT REPRESENTS THE FONT OF THE TREE"
   ]
  },
  {
   "cell_type": "code",
   "execution_count": 57,
   "id": "dccc3ffb",
   "metadata": {},
   "outputs": [
    {
     "data": {
      "text/plain": [
       "array([[527,   0],\n",
       "       [  0, 433]])"
      ]
     },
     "execution_count": 57,
     "metadata": {},
     "output_type": "execute_result"
    }
   ],
   "source": [
    "confusion_matrix(Y_train,tree_predict)\n",
    "#THIS IS USED TO GET CONFUSION MATRIX"
   ]
  },
  {
   "cell_type": "code",
   "execution_count": 58,
   "id": "4aeb231c",
   "metadata": {},
   "outputs": [
    {
     "data": {
      "text/plain": [
       "<AxesSubplot:>"
      ]
     },
     "execution_count": 58,
     "metadata": {},
     "output_type": "execute_result"
    },
    {
     "data": {
      "image/png": "[encoded data removed]",
      "text/plain": [
       "<Figure size 432x288 with 2 Axes>"
      ]
     },
     "metadata": {
      "needs_background": "light"
     },
     "output_type": "display_data"
    }
   ],
   "source": [
    "cm=confusion_matrix(Y_train,tree_predict)\n",
    "sns.heatmap(cm,annot=True,cmap=\"Blues\",fmt=\".0f\")"
   ]
  },
  {
   "cell_type": "code",
   "execution_count": 59,
   "id": "a77d774d",
   "metadata": {},
   "outputs": [
    {
     "name": "stdout",
     "output_type": "stream",
     "text": [
      "              precision    recall  f1-score   support\n",
      "\n",
      "           0       1.00      1.00      1.00       527\n",
      "           1       1.00      1.00      1.00       433\n",
      "\n",
      "    accuracy                           1.00       960\n",
      "   macro avg       1.00      1.00      1.00       960\n",
      "weighted avg       1.00      1.00      1.00       960\n",
      "\n"
     ]
    }
   ],
   "source": [
    "from sklearn.metrics import classification_report\n",
    "Report=classification_report(Y_train,tree_predict)\n",
    "print((Report))"
   ]
  },
  {
   "cell_type": "code",
   "execution_count": 60,
   "id": "85bb1f24",
   "metadata": {},
   "outputs": [
    {
     "data": {
      "text/html": [
       "<div>\n",
       "<style scoped>\n",
       "    .dataframe tbody tr th:only-of-type {\n",
       "        vertical-align: middle;\n",
       "    }\n",
       "\n",
       "    .dataframe tbody tr th {\n",
       "        vertical-align: top;\n",
       "    }\n",
       "\n",
       "    .dataframe thead th {\n",
       "        text-align: right;\n",
       "    }\n",
       "</style>\n",
       "<table border=\"1\" class=\"dataframe\">\n",
       "  <thead>\n",
       "    <tr style=\"text-align: right;\">\n",
       "      <th></th>\n",
       "      <th>VARWAVELET</th>\n",
       "      <th>SKEWWAVELET</th>\n",
       "      <th>KURTWAVELET</th>\n",
       "      <th>ENTROPYIMAGE</th>\n",
       "    </tr>\n",
       "  </thead>\n",
       "  <tbody>\n",
       "    <tr>\n",
       "      <th>0</th>\n",
       "      <td>0.562236</td>\n",
       "      <td>0.290523</td>\n",
       "      <td>0.129573</td>\n",
       "      <td>0.017668</td>\n",
       "    </tr>\n",
       "  </tbody>\n",
       "</table>\n",
       "</div>"
      ],
      "text/plain": [
       "   VARWAVELET  SKEWWAVELET  KURTWAVELET  ENTROPYIMAGE\n",
       "0    0.562236     0.290523     0.129573      0.017668"
      ]
     },
     "execution_count": 60,
     "metadata": {},
     "output_type": "execute_result"
    }
   ],
   "source": [
    "importances=clf_tree.feature_importances_\n",
    "importances\n",
    "importances=pd.DataFrame(importances)\n",
    "Importance=importances.transpose()\n",
    "Importance.columns=[\"VARWAVELET\",\"SKEWWAVELET\",\"KURTWAVELET\",\"ENTROPYIMAGE\"]\n",
    "Importance\n",
    "\n",
    "#THIS IMPORTANCE MATCHES WITH MODEL SO IT IS GOOD TO GO"
   ]
  },
  {
   "cell_type": "code",
   "execution_count": 61,
   "id": "d8e00450",
   "metadata": {},
   "outputs": [
    {
     "data": {
      "text/plain": [
       "GridSearchCV(cv=10, estimator=DecisionTreeClassifier(),\n",
       "             param_grid=[{'criterion': ['gini', 'entropy'],\n",
       "                          'max_depth': range(2, 10)}],\n",
       "             scoring='roc_auc')"
      ]
     },
     "execution_count": 61,
     "metadata": {},
     "output_type": "execute_result"
    }
   ],
   "source": [
    "from sklearn.model_selection import GridSearchCV\n",
    "tuned_parameters=[{\"criterion\":[\"gini\",\"entropy\"],\n",
    "                  \"max_depth\":range(2,10)}]\n",
    "clf_tree=DecisionTreeClassifier()\n",
    "clf=GridSearchCV(clf_tree,\n",
    "                tuned_parameters,\n",
    "                cv=10,\n",
    "                scoring=\"roc_auc\")\n",
    "clf.fit(X,Y)"
   ]
  },
  {
   "cell_type": "code",
   "execution_count": 62,
   "id": "0ca858c4",
   "metadata": {},
   "outputs": [
    {
     "data": {
      "text/plain": [
       "0.9890162253622133"
      ]
     },
     "execution_count": 62,
     "metadata": {},
     "output_type": "execute_result"
    }
   ],
   "source": [
    "clf.best_score_"
   ]
  },
  {
   "cell_type": "code",
   "execution_count": 63,
   "id": "645910c0",
   "metadata": {},
   "outputs": [
    {
     "data": {
      "text/plain": [
       "{'criterion': 'entropy', 'max_depth': 9}"
      ]
     },
     "execution_count": 63,
     "metadata": {},
     "output_type": "execute_result"
    }
   ],
   "source": [
    "clf.best_params_"
   ]
  },
  {
   "cell_type": "code",
   "execution_count": 92,
   "id": "e174f2b0",
   "metadata": {},
   "outputs": [],
   "source": [
    "prediction=tree_predict\n",
    "Prediction=pd.DataFrame(prediction)\n",
    "Prediction\n",
    "Prediction=Prediction.iloc[:,1:9]"
   ]
  },
  {
   "cell_type": "code",
   "execution_count": 86,
   "id": "23d105a5",
   "metadata": {},
   "outputs": [],
   "source": [
    "pred_prob=pd.DataFrame(pred_prob)\n",
    "pred_prob\n",
    "pred_class=(pred_prob[1]>=0.5).astype(np.int)"
   ]
  },
  {
   "cell_type": "code",
   "execution_count": 89,
   "id": "e2e1929a",
   "metadata": {},
   "outputs": [
    {
     "data": {
      "image/png": "[encoded data removed]",
      "text/plain": [
       "<Figure size 432x288 with 1 Axes>"
      ]
     },
     "metadata": {
      "needs_background": "light"
     },
     "output_type": "display_data"
    }
   ],
   "source": [
    "from sklearn.metrics import(roc_auc_score,roc_curve)\n",
    "Y_test.head()\n",
    "pred_class\n",
    "dt_auc=roc_auc_score(Y_test.astype(int),pred_class)\n",
    "fpr,tpr,thresholds=roc_curve(Y_test.astype(int),pred_prob[1])\n",
    "plt.figure()\n",
    "plt.plot(fpr,tpr, label=\"Decision Tree(area=%0.3f)\" % dt_auc,lw=4,color=\"red\")\n",
    "plt.plot([0,1],[0,1],\"r--\")\n",
    "plt.xlim([0,1])\n",
    "plt.ylim([0,1.05])\n",
    "plt.xlabel(\"False Positive\")\n",
    "plt.ylabel(\"True Positive\")\n",
    "plt.title(\"Receiver Operative Characteristics Curve\")\n",
    "plt.legend(loc=\"lower right\")\n",
    "plt.show()"
   ]
  },
  {
   "cell_type": "code",
   "execution_count": 90,
   "id": "7a7a5d8e",
   "metadata": {},
   "outputs": [
    {
     "data": {
      "text/plain": [
       "<AxesSubplot:>"
      ]
     },
     "execution_count": 90,
     "metadata": {},
     "output_type": "execute_result"
    },
    {
     "data": {
      "image/png": "[encoded data removed]",
      "text/plain": [
       "<Figure size 432x288 with 2 Axes>"
      ]
     },
     "metadata": {
      "needs_background": "light"
     },
     "output_type": "display_data"
    }
   ],
   "source": [
    "#THE ROC CURVE AND HEATMAP SHOWS IT IS WORKING EXCELLENTLY\n",
    "cm=confusion_matrix(Y_test,tree_predict_test)\n",
    "sns.heatmap(cm,annot=True,cmap=\"Blues\",fmt=\".0f\")"
   ]
  },
  {
   "cell_type": "code",
   "execution_count": null,
   "id": "5faec6c2",
   "metadata": {},
   "outputs": [],
   "source": [
    "#RANDOM FOREST"
   ]
  },
  {
   "cell_type": "code",
   "execution_count": 94,
   "id": "7f70a604",
   "metadata": {},
   "outputs": [
    {
     "data": {
      "text/plain": [
       "RandomForestClassifier(max_depth=20, n_estimators=10, random_state=2)"
      ]
     },
     "execution_count": 94,
     "metadata": {},
     "output_type": "execute_result"
    }
   ],
   "source": [
    "import pandas as pd\n",
    "import numpy as np\n",
    "from sklearn.preprocessing import StandardScaler\n",
    "from sklearn.model_selection import train_test_split\n",
    "from sklearn.metrics import accuracy_score\n",
    "from sklearn.metrics import confusion_matrix,roc_curve,roc_auc_score\n",
    "from sklearn.metrics import precision_score,recall_score\n",
    "import itertools\n",
    "from sklearn.tree import DecisionTreeClassifier\n",
    "from sklearn.ensemble import RandomForestClassifier\n",
    "import seaborn as sns\n",
    "import matplotlib.pyplot as plt\n",
    "import warnings\n",
    "warnings.filterwarnings(\"ignore\")\n",
    "\n",
    "radom_clf=RandomForestClassifier(max_depth=20,n_estimators=10,random_state=2)\n",
    "radom_clf.fit(X_train,Y_train)"
   ]
  },
  {
   "cell_type": "code",
   "execution_count": 96,
   "id": "66406a10",
   "metadata": {},
   "outputs": [
    {
     "name": "stdout",
     "output_type": "stream",
     "text": [
      "[0 1 1 1 1 1 0 0 0 0 0 0 0 1 0 1 0 1 0 1 1 0 1 0 0 1 0 0 0 1 1 1 0 0 1 0 1\n",
      " 0 0 0 0 0 0 0 0 0 0 0 1 0 1 0 0 0 1 0 1 0 0 1 1 0 1 0 0 0 1 0 0 0 0 0 1 1\n",
      " 0 1 0 0 1 1 1 1 0 1 1 0 0 0 0 1 1 1 1 1 0 0 1 1 0 0 1 0 1 0 0 1 0 0 1 0 1\n",
      " 1 1 1 0 1 1 0 0 1 0 0 1 1 1 0 0 1 1 1 0 1 1 0 0 1 1 0 1 1 0 0 0 1 0 1 1 0\n",
      " 0 0 0 1 0 0 1 0 1 1 1 1 1 0 0 0 1 0 0 0 1 1 0 1 0 0 1 0 0 0 0 1 1 0 0 0 0\n",
      " 1 0 1 0 1 1 0 1 0 0 1 1 0 0 1 0 0 0 0 1 0 0 1 0 1 0 1 0 1 1 0 1 0 1 1 0 0\n",
      " 0 1 1 0 0 1 1 1 1 0 0 0 0 0 0 1 0 0 0 0 0 0 1 1 1 1 1 1 1 0 1 1 0 1 0 1 1\n",
      " 1 0 0 1 0 0 0 1 0 1 1 0 0 1 1 1 1 0 0 1 0 1 1 0 1 1 0 0 1 0 1 0 0 1 0 0 1\n",
      " 1 1 0 0 0 1 0 0 1 0 1 1 0 0 0 0 0 1 1 0 1 0 0 1 1 0 0 0 0 0 0 1 0 0 1 1 0\n",
      " 1 0 0 0 1 0 0 1 1 0 1 0 0 0 0 0 0 1 1 1 1 0 0 1 0 1 1 1 0 0 0 1 0 0 0 0 1\n",
      " 0 0 1 1 0 0 0 1 1 0 0 0 1 1 0 1 1 0 1 0 0 1 1 1 1 1 1 1 0 0 0 0 0 1 1 1 0\n",
      " 0 0 1 0 1 1 0 0 0 0 1 0 0 0 1 0 0 0 1 0 1 1 0 0 1 1 1 0 1 0 1 0 1 0 0 0 1\n",
      " 1 0 0 0 1 0 1 0 1 0 0 0 1 0 1 1 1 0 0 0 0 0 0 0 0 0 0 1 1 1 0 1 1 0 1 1 0\n",
      " 0 0 0 0 0 1 1 0 0 1 0 1 0 0 0 0 0 0 0 0 1 1 1 0 1 0 1 0 1 1 0 1 1 0 0 0 0\n",
      " 0 0 1 1 1 1 1 0 1 0 0 0 0 1 1 1 1 1 0 0 0 0 0 1 1 1 0 1 1 0 0 0 0 0 0 1 0\n",
      " 1 1 1 1 0 1 1 1 0 0 0 1 1 0 1 1 1 0 0 1 1 0 1 1 0 1 0 0 0 1 0 1 1 1 0 0 1\n",
      " 0 0 1 1 0 0 1 0 1 1 1 1 0 0 1 1 1 0 1 0 1 1 1 0 0 1 1 0 0 0 1 1 0 1 1 1 1\n",
      " 0 1 1 0 0 0 0 1 1 0 0 1 1 0 1 1 0 1 0 0 1 0 0 1 1 0 1 1 1 0 0 0 1 1 1 0 0\n",
      " 1 0 1 0 0 0 0 0 1 0 0 0 1 1 1 0 0 0 1 0 1 0 0 0 0 1 1 1 0 1 0 1 0 0 0 1 1\n",
      " 0 0 1 1 1 1 1 0 0 0 1 0 0 0 1 0 1 1 1 1 1 0 0 0 0 1 0 0 0 1 0 0 1 1 0 0 1\n",
      " 0 0 0 1 0 0 0 0 0 0 1 0 0 1 0 1 1 0 1 0 0 0 1 1 0 0 0 0 1 1 0 0 0 1 0 1 0\n",
      " 0 1 1 1 0 1 1 0 1 1 1 0 1 0 1 0 0 1 0 1 0 0 0 1 1 0 0 0 1 1 0 0 0 0 0 1 0\n",
      " 0 1 0 0 0 1 1 1 0 1 1 1 1 0 1 0 0 0 1 1 0 0 0 0 0 0 0 1 1 0 0 0 1 0 1 0 0\n",
      " 0 1 1 1 0 0 1 1 0 0 1 1 0 1 0 0 0 0 1 1 0 1 1 0 0 0 1 0 0 0 0 1 1 0 1 1 1\n",
      " 0 0 1 0 1 0 1 0 0 1 0 1 1 1 1 1 0 0 1 0 1 0 1 1 0 1 1 0 1 0 0 0 0 0 0 1 0\n",
      " 0 0 1 1 0 1 0 1 0 1 1 0 0 0 0 0 1 0 1 0 1 1 1 1 0 0 0 0 1 1 0 1 1 0 1]\n"
     ]
    }
   ],
   "source": [
    "prediction=radom_clf.predict(X_train)\n",
    "prediction\n",
    "print(prediction)\n",
    "Prediction=pd.DataFrame(prediction)\n",
    "Prediction=Prediction.iloc[:,0:4]"
   ]
  },
  {
   "cell_type": "code",
   "execution_count": 97,
   "id": "aae9bd70",
   "metadata": {},
   "outputs": [
    {
     "name": "stdout",
     "output_type": "stream",
     "text": [
      "       0    1\n",
      "0    0.9  0.1\n",
      "1    0.0  1.0\n",
      "2    0.0  1.0\n",
      "3    0.0  1.0\n",
      "4    0.0  1.0\n",
      "..   ...  ...\n",
      "955  1.0  0.0\n",
      "956  0.0  1.0\n",
      "957  0.1  0.9\n",
      "958  1.0  0.0\n",
      "959  0.0  1.0\n",
      "\n",
      "[960 rows x 2 columns]\n"
     ]
    }
   ],
   "source": [
    "pred_prob=radom_clf.predict_proba(X_train)\n",
    "pred_prob=pd.DataFrame(pred_prob)\n",
    "print(pred_prob)\n",
    "pred_class=(pred_prob[1]>=0.5).astype(np.int)"
   ]
  },
  {
   "cell_type": "code",
   "execution_count": 98,
   "id": "d79cd306",
   "metadata": {},
   "outputs": [
    {
     "data": {
      "text/plain": [
       "<AxesSubplot:>"
      ]
     },
     "execution_count": 98,
     "metadata": {},
     "output_type": "execute_result"
    },
    {
     "data": {
      "image/png": "[encoded data removed]",
      "text/plain": [
       "<Figure size 432x288 with 2 Axes>"
      ]
     },
     "metadata": {
      "needs_background": "light"
     },
     "output_type": "display_data"
    }
   ],
   "source": [
    "cm=confusion_matrix(Y_train,prediction)\n",
    "sns.heatmap(cm,annot=True,cmap=\"Oranges\",fmt=\".0f\")"
   ]
  },
  {
   "cell_type": "code",
   "execution_count": 99,
   "id": "8f7d6f39",
   "metadata": {},
   "outputs": [
    {
     "name": "stdout",
     "output_type": "stream",
     "text": [
      "              precision    recall  f1-score   support\n",
      "\n",
      "           0       1.00      1.00      1.00       527\n",
      "           1       1.00      1.00      1.00       433\n",
      "\n",
      "    accuracy                           1.00       960\n",
      "   macro avg       1.00      1.00      1.00       960\n",
      "weighted avg       1.00      1.00      1.00       960\n",
      "\n"
     ]
    }
   ],
   "source": [
    "from sklearn.metrics import classification_report\n",
    "Report=classification_report(Y_train,prediction)\n",
    "print((Report))"
   ]
  },
  {
   "cell_type": "code",
   "execution_count": 100,
   "id": "ea664a1e",
   "metadata": {},
   "outputs": [
    {
     "data": {
      "text/html": [
       "<div>\n",
       "<style scoped>\n",
       "    .dataframe tbody tr th:only-of-type {\n",
       "        vertical-align: middle;\n",
       "    }\n",
       "\n",
       "    .dataframe tbody tr th {\n",
       "        vertical-align: top;\n",
       "    }\n",
       "\n",
       "    .dataframe thead th {\n",
       "        text-align: right;\n",
       "    }\n",
       "</style>\n",
       "<table border=\"1\" class=\"dataframe\">\n",
       "  <thead>\n",
       "    <tr style=\"text-align: right;\">\n",
       "      <th></th>\n",
       "      <th>VARWAVELET</th>\n",
       "      <th>SKEWWAVELET</th>\n",
       "      <th>KURTWAVELET</th>\n",
       "      <th>ENTROPYIMAGE</th>\n",
       "    </tr>\n",
       "  </thead>\n",
       "  <tbody>\n",
       "    <tr>\n",
       "      <th>0</th>\n",
       "      <td>0.55555</td>\n",
       "      <td>0.221931</td>\n",
       "      <td>0.179693</td>\n",
       "      <td>0.042825</td>\n",
       "    </tr>\n",
       "  </tbody>\n",
       "</table>\n",
       "</div>"
      ],
      "text/plain": [
       "   VARWAVELET  SKEWWAVELET  KURTWAVELET  ENTROPYIMAGE\n",
       "0     0.55555     0.221931     0.179693      0.042825"
      ]
     },
     "execution_count": 100,
     "metadata": {},
     "output_type": "execute_result"
    }
   ],
   "source": [
    "importances=radom_clf.feature_importances_\n",
    "importances\n",
    "importances=pd.DataFrame(importances)\n",
    "Importance=importances.transpose()\n",
    "Importance.columns=[\"VARWAVELET\",\"SKEWWAVELET\",\"KURTWAVELET\",\"ENTROPYIMAGE\"]\n",
    "Importance"
   ]
  },
  {
   "cell_type": "code",
   "execution_count": 101,
   "id": "eac384c9",
   "metadata": {},
   "outputs": [
    {
     "data": {
      "text/plain": [
       "GridSearchCV(cv=10, estimator=RandomForestClassifier(),\n",
       "             param_grid=[{'max_depth': range(10, 20),\n",
       "                          'max_features': ['sqrt', 0.2],\n",
       "                          'n_estimators': [10, 20]}],\n",
       "             scoring='roc_auc')"
      ]
     },
     "execution_count": 101,
     "metadata": {},
     "output_type": "execute_result"
    }
   ],
   "source": [
    "from sklearn.model_selection import GridSearchCV\n",
    "tuned_parameters=[{\"n_estimators\":[10,20],\n",
    "                  \"max_depth\":range(10,20),\n",
    "                   \"max_features\":[\"sqrt\",0.2]}]\n",
    "radom_clf=RandomForestClassifier()\n",
    "clf=GridSearchCV(radom_clf,\n",
    "                tuned_parameters,\n",
    "                cv=10,\n",
    "                scoring=\"roc_auc\")\n",
    "clf.fit(X_train,Y_train)"
   ]
  },
  {
   "cell_type": "code",
   "execution_count": 102,
   "id": "b0211a26",
   "metadata": {},
   "outputs": [
    {
     "data": {
      "text/plain": [
       "0.9999561211057483"
      ]
     },
     "execution_count": 102,
     "metadata": {},
     "output_type": "execute_result"
    }
   ],
   "source": [
    "clf.best_score_"
   ]
  },
  {
   "cell_type": "code",
   "execution_count": 103,
   "id": "463035ee",
   "metadata": {},
   "outputs": [
    {
     "data": {
      "text/plain": [
       "{'max_depth': 19, 'max_features': 0.2, 'n_estimators': 20}"
      ]
     },
     "execution_count": 103,
     "metadata": {},
     "output_type": "execute_result"
    }
   ],
   "source": [
    "clf.best_params_"
   ]
  },
  {
   "cell_type": "code",
   "execution_count": 104,
   "id": "4b65ed00",
   "metadata": {},
   "outputs": [
    {
     "data": {
      "image/png": "[encoded data removed]",
      "text/plain": [
       "<Figure size 432x288 with 1 Axes>"
      ]
     },
     "metadata": {
      "needs_background": "light"
     },
     "output_type": "display_data"
    }
   ],
   "source": [
    "from sklearn.metrics import(roc_auc_score,roc_curve)\n",
    "Y_train.head()\n",
    "pred_class\n",
    "rf_auc=roc_auc_score(Y_train.astype(int),pred_class)\n",
    "fpr,tpr,thresholds=roc_curve(Y_train.astype(int),pred_prob[1])\n",
    "plt.figure()\n",
    "plt.plot(fpr,tpr,label=\"Random Forest(area=%0.3f)\" % rf_auc,lw=4,color=\"red\")\n",
    "plt.plot([0,1],[0,1],\"r--\")\n",
    "plt.xlim([0,1])\n",
    "plt.ylim([0,1.05])\n",
    "plt.xlabel(\"False Positive\")\n",
    "plt.ylabel(\"True Positive\")\n",
    "plt.title(\"Receiver Operating Characteristics Curve\")\n",
    "plt.legend(loc=\"lower right\")\n",
    "plt.show()"
   ]
  },
  {
   "cell_type": "code",
   "execution_count": 105,
   "id": "15cb8e1c",
   "metadata": {},
   "outputs": [
    {
     "data": {
      "text/plain": [
       "RandomForestClassifier()"
      ]
     },
     "execution_count": 105,
     "metadata": {},
     "output_type": "execute_result"
    }
   ],
   "source": [
    "radom_clf.fit(X_test,Y_test)"
   ]
  },
  {
   "cell_type": "code",
   "execution_count": 106,
   "id": "98b92965",
   "metadata": {},
   "outputs": [
    {
     "name": "stdout",
     "output_type": "stream",
     "text": [
      "[1 0 1 1 0 0 0 0 0 0 0 1 0 1 1 0 0 0 0 0 1 0 0 1 1 1 0 0 1 0 0 0 1 1 0 1 1\n",
      " 0 1 0 0 0 0 0 1 1 0 0 0 1 0 0 1 0 0 1 1 0 0 1 1 1 1 1 1 1 0 1 1 0 0 1 1 0\n",
      " 1 0 0 1 1 0 0 0 1 1 0 0 0 1 0 0 0 0 1 1 1 1 1 1 0 1 1 1 0 1 0 0 0 0 0 0 0\n",
      " 1 1 0 1 0 0 0 0 0 1 0 1 1 0 1 1 1 1 1 1 0 0 1 0 0 0 1 0 0 1 0 0 0 0 0 1 0\n",
      " 0 1 0 0 0 1 0 0 1 1 1 0 0 1 0 0 0 1 1 0 0 1 0 1 0 0 0 0 1 0 0 0 1 0 0 1 0\n",
      " 0 0 1 1 1 0 1 1 0 1 1 1 0 0 1 0 1 0 0 1 1 0 1 1 0 0 0 0 0 1 0 0 1 1 1 1 0\n",
      " 1 1 1 1 0 0 0 0 1 1 0 0 0 0 1 1 1 1 0 0 0 0 0 1 1 1 0 0 1 0 0 1 1 1 0 0 0\n",
      " 0 0 1 0 0 0 0 0 1 0 0 0 1 0 1 0 1 1 0 1 0 0 0 1 0 1 1 0 0 1 0 1 1 1 0 1 1\n",
      " 0 0 1 0 1 1 0 0 1 0 0 1 0 0 1 1 0 1 1 1 0 0 0 0 1 1 0 0 0 1 0 0 0 0 0 0 0\n",
      " 1 1 1 0 1 1 0 1 0 1 1 1 1 1 0 0 0 0 0 0 0 0 1 0 1 1 1 1 1 1 1 1 0 1 0 0 1\n",
      " 1 0 0 0 1 1 1 0 1 1 0 0 1 0 0 0 1 0 1 0 1 0 0 0 0 1 1 0 0 0 0 0 0 0 0 0 0\n",
      " 0 0 0 0 0]\n"
     ]
    }
   ],
   "source": [
    "prediction=radom_clf.predict(X_test)\n",
    "prediction\n",
    "print(prediction)\n",
    "Prediction=pd.DataFrame(prediction)\n",
    "Prediction=Prediction.iloc[:,0:4]"
   ]
  },
  {
   "cell_type": "code",
   "execution_count": 107,
   "id": "4b15b9ac",
   "metadata": {},
   "outputs": [
    {
     "name": "stdout",
     "output_type": "stream",
     "text": [
      "        0     1\n",
      "0    0.00  1.00\n",
      "1    1.00  0.00\n",
      "2    0.00  1.00\n",
      "3    0.00  1.00\n",
      "4    1.00  0.00\n",
      "..    ...   ...\n",
      "407  0.99  0.01\n",
      "408  1.00  0.00\n",
      "409  0.99  0.01\n",
      "410  0.98  0.02\n",
      "411  1.00  0.00\n",
      "\n",
      "[412 rows x 2 columns]\n"
     ]
    }
   ],
   "source": [
    "pred_prob=radom_clf.predict_proba(X_test)\n",
    "pred_prob=pd.DataFrame(pred_prob)\n",
    "print(pred_prob)\n",
    "pred_class=(pred_prob[1]>=0.5).astype(np.int)"
   ]
  },
  {
   "cell_type": "code",
   "execution_count": 108,
   "id": "d1161239",
   "metadata": {},
   "outputs": [
    {
     "data": {
      "text/plain": [
       "<AxesSubplot:>"
      ]
     },
     "execution_count": 108,
     "metadata": {},
     "output_type": "execute_result"
    },
    {
     "data": {
      "image/png": "[encoded data removed]",
      "text/plain": [
       "<Figure size 432x288 with 2 Axes>"
      ]
     },
     "metadata": {
      "needs_background": "light"
     },
     "output_type": "display_data"
    }
   ],
   "source": [
    "cm=confusion_matrix(Y_test,prediction)\n",
    "sns.heatmap(cm,annot=True,cmap=\"Greens\",fmt=\".0f\")"
   ]
  },
  {
   "cell_type": "code",
   "execution_count": 109,
   "id": "5fcc9706",
   "metadata": {},
   "outputs": [
    {
     "name": "stdout",
     "output_type": "stream",
     "text": [
      "              precision    recall  f1-score   support\n",
      "\n",
      "           0       1.00      1.00      1.00       235\n",
      "           1       1.00      1.00      1.00       177\n",
      "\n",
      "    accuracy                           1.00       412\n",
      "   macro avg       1.00      1.00      1.00       412\n",
      "weighted avg       1.00      1.00      1.00       412\n",
      "\n"
     ]
    }
   ],
   "source": [
    "from sklearn.metrics import classification_report\n",
    "Report=classification_report(Y_test,prediction)\n",
    "print((Report))"
   ]
  },
  {
   "cell_type": "code",
   "execution_count": 110,
   "id": "07292b15",
   "metadata": {},
   "outputs": [
    {
     "data": {
      "text/html": [
       "<div>\n",
       "<style scoped>\n",
       "    .dataframe tbody tr th:only-of-type {\n",
       "        vertical-align: middle;\n",
       "    }\n",
       "\n",
       "    .dataframe tbody tr th {\n",
       "        vertical-align: top;\n",
       "    }\n",
       "\n",
       "    .dataframe thead th {\n",
       "        text-align: right;\n",
       "    }\n",
       "</style>\n",
       "<table border=\"1\" class=\"dataframe\">\n",
       "  <thead>\n",
       "    <tr style=\"text-align: right;\">\n",
       "      <th></th>\n",
       "      <th>VARWAVELET</th>\n",
       "      <th>SKEWWAVELET</th>\n",
       "      <th>KURTWAVELET</th>\n",
       "      <th>ENTROPYIMAGE</th>\n",
       "    </tr>\n",
       "  </thead>\n",
       "  <tbody>\n",
       "    <tr>\n",
       "      <th>0</th>\n",
       "      <td>0.519609</td>\n",
       "      <td>0.266553</td>\n",
       "      <td>0.136678</td>\n",
       "      <td>0.07716</td>\n",
       "    </tr>\n",
       "  </tbody>\n",
       "</table>\n",
       "</div>"
      ],
      "text/plain": [
       "   VARWAVELET  SKEWWAVELET  KURTWAVELET  ENTROPYIMAGE\n",
       "0    0.519609     0.266553     0.136678       0.07716"
      ]
     },
     "execution_count": 110,
     "metadata": {},
     "output_type": "execute_result"
    }
   ],
   "source": [
    "importances=radom_clf.feature_importances_\n",
    "importances\n",
    "importances=pd.DataFrame(importances)\n",
    "Importance=importances.transpose()\n",
    "Importance.columns=[\"VARWAVELET\",\"SKEWWAVELET\",\"KURTWAVELET\",\"ENTROPYIMAGE\"]\n",
    "Importance"
   ]
  },
  {
   "cell_type": "code",
   "execution_count": 111,
   "id": "a95969ab",
   "metadata": {},
   "outputs": [
    {
     "data": {
      "text/plain": [
       "GridSearchCV(cv=10, estimator=RandomForestClassifier(),\n",
       "             param_grid=[{'max_depth': range(10, 20),\n",
       "                          'max_features': ['sqrt', 0.2],\n",
       "                          'n_estimators': [10, 20]}],\n",
       "             scoring='roc_auc')"
      ]
     },
     "execution_count": 111,
     "metadata": {},
     "output_type": "execute_result"
    }
   ],
   "source": [
    "from sklearn.model_selection import GridSearchCV\n",
    "tuned_parameters=[{\"n_estimators\":[10,20],\n",
    "                  \"max_depth\":range(10,20),\n",
    "                   \"max_features\":[\"sqrt\",0.2]}]\n",
    "radom_clf=RandomForestClassifier()\n",
    "clf=GridSearchCV(radom_clf,\n",
    "                tuned_parameters,\n",
    "                cv=10,\n",
    "                scoring=\"roc_auc\")\n",
    "clf.fit(X_test,Y_test)"
   ]
  },
  {
   "cell_type": "code",
   "execution_count": 112,
   "id": "d3cefd9a",
   "metadata": {},
   "outputs": [
    {
     "data": {
      "text/plain": [
       "0.999537037037037"
      ]
     },
     "execution_count": 112,
     "metadata": {},
     "output_type": "execute_result"
    }
   ],
   "source": [
    "clf.best_score_"
   ]
  },
  {
   "cell_type": "code",
   "execution_count": 113,
   "id": "e028b3a2",
   "metadata": {},
   "outputs": [
    {
     "data": {
      "text/plain": [
       "{'max_depth': 17, 'max_features': 0.2, 'n_estimators': 20}"
      ]
     },
     "execution_count": 113,
     "metadata": {},
     "output_type": "execute_result"
    }
   ],
   "source": [
    "clf.best_params_"
   ]
  },
  {
   "cell_type": "code",
   "execution_count": 114,
   "id": "ba3f71f0",
   "metadata": {},
   "outputs": [
    {
     "data": {
      "image/png": "[encoded data removed]",
      "text/plain": [
       "<Figure size 432x288 with 1 Axes>"
      ]
     },
     "metadata": {
      "needs_background": "light"
     },
     "output_type": "display_data"
    }
   ],
   "source": [
    "from sklearn.metrics import(roc_auc_score,roc_curve)\n",
    "Y_test.head()\n",
    "pred_class\n",
    "rf_auc=roc_auc_score(Y_test.astype(int),pred_class)\n",
    "fpr,tpr,thresholds=roc_curve(Y_test.astype(int),pred_prob[1])\n",
    "plt.figure()\n",
    "plt.plot(fpr,tpr,label=\"Random Forest(area=%0.3f)\" % rf_auc,lw=4,color=\"green\")\n",
    "plt.plot([0,1],[0,1],\"r--\")\n",
    "plt.xlim([0,1])\n",
    "plt.ylim([0,1.05])\n",
    "plt.xlabel(\"False Positive\")\n",
    "plt.ylabel(\"True Positive\")\n",
    "plt.title(\"Receiver Operating Characteristics Curve\")\n",
    "plt.legend(loc=\"lower right\")\n",
    "plt.show()"
   ]
  },
  {
   "cell_type": "code",
   "execution_count": null,
   "id": "a310f983",
   "metadata": {},
   "outputs": [],
   "source": [
    "#FOR RANDOM FOREST THE PREDICTED VALUE MATCHES THE MODEL SO IT IS WORKING EXCELLENTLY\n",
    "#IN ALL THE MODELS THE ACCURACY IS VERY GOOD SO WE CAN USE ANY OF THE MODEL\n",
    "#ONLY THE TIME CONSTRAINTS ARE CHANGED REMAINING EVERYTHING IS ALMOST THE SAME\n",
    "#THE ACCURACY PRECESSION AND RECALL HAS THE VARIENCE OF 1% SO ALL THE MODELS WORKED WELL"
   ]
  }
 ],
 "metadata": {
  "kernelspec": {
   "display_name": "Python 3 (ipykernel)",
   "language": "python",
   "name": "python3"
  },
  "language_info": {
   "codemirror_mode": {
    "name": "ipython",
    "version": 3
   },
   "file_extension": ".py",
   "mimetype": "text/x-python",
   "name": "python",
   "nbconvert_exporter": "python",
   "pygments_lexer": "ipython3",
   "version": "3.9.7"
  }
 },
 "nbformat": 4,
 "nbformat_minor": 5
}
