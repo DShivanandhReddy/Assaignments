{
 "cells": [
  {
   "cell_type": "code",
   "execution_count": null,
   "id": "e21cd11c",
   "metadata": {},
   "outputs": [],
   "source": [
    "#SVM-Example-DiscriWinston"
   ]
  },
  {
   "cell_type": "code",
   "execution_count": 12,
   "id": "3b4b6940",
   "metadata": {},
   "outputs": [],
   "source": [
    "#Import Core Libraries\n",
    "import pandas as pd\n",
    "import numpy as np\n",
    "import seaborn as sns\n",
    "from matplotlib import pyplot as plt\n",
    "from sklearn.svm import SVC\n",
    "from sklearn.metrics import confusion_matrix \n",
    "from sklearn.metrics import accuracy_score, recall_score,precision_score\n",
    "from sklearn.metrics import roc_auc_score,roc_curve\n",
    "from sklearn.model_selection import train_test_split\n",
    "import warnings\n",
    "warnings.filterwarnings(\"ignore\")"
   ]
  },
  {
   "cell_type": "code",
   "execution_count": 16,
   "id": "5eba4ea2",
   "metadata": {},
   "outputs": [
    {
     "data": {
      "text/html": [
       "<div>\n",
       "<style scoped>\n",
       "    .dataframe tbody tr th:only-of-type {\n",
       "        vertical-align: middle;\n",
       "    }\n",
       "\n",
       "    .dataframe tbody tr th {\n",
       "        vertical-align: top;\n",
       "    }\n",
       "\n",
       "    .dataframe thead th {\n",
       "        text-align: right;\n",
       "    }\n",
       "</style>\n",
       "<table border=\"1\" class=\"dataframe\">\n",
       "  <thead>\n",
       "    <tr style=\"text-align: right;\">\n",
       "      <th></th>\n",
       "      <th>Person</th>\n",
       "      <th>Income</th>\n",
       "      <th>InvestAmt</th>\n",
       "      <th>WSJSubscriber</th>\n",
       "      <th>Zscore</th>\n",
       "      <th>Prediction</th>\n",
       "      <th>Unnamed: 6</th>\n",
       "      <th>Unnamed: 7</th>\n",
       "      <th>Unnamed: 8</th>\n",
       "      <th>a1</th>\n",
       "      <th>a2</th>\n",
       "      <th>Unnamed: 11</th>\n",
       "      <th>Unnamed: 12</th>\n",
       "    </tr>\n",
       "  </thead>\n",
       "  <tbody>\n",
       "    <tr>\n",
       "      <th>0</th>\n",
       "      <td>1</td>\n",
       "      <td>66.4</td>\n",
       "      <td>26.9</td>\n",
       "      <td>No</td>\n",
       "      <td>1.707565</td>\n",
       "      <td>No</td>\n",
       "      <td>NaN</td>\n",
       "      <td>NaN</td>\n",
       "      <td>Z</td>\n",
       "      <td>-0.022090802</td>\n",
       "      <td>0.118007213</td>\n",
       "      <td>NaN</td>\n",
       "      <td>NaN</td>\n",
       "    </tr>\n",
       "    <tr>\n",
       "      <th>1</th>\n",
       "      <td>2</td>\n",
       "      <td>68.0</td>\n",
       "      <td>7.1</td>\n",
       "      <td>No</td>\n",
       "      <td>-0.664323</td>\n",
       "      <td>No</td>\n",
       "      <td>NaN</td>\n",
       "      <td>NaN</td>\n",
       "      <td>NaN</td>\n",
       "      <td>NaN</td>\n",
       "      <td>NaN</td>\n",
       "      <td>NaN</td>\n",
       "      <td>NaN</td>\n",
       "    </tr>\n",
       "    <tr>\n",
       "      <th>2</th>\n",
       "      <td>3</td>\n",
       "      <td>54.9</td>\n",
       "      <td>21.5</td>\n",
       "      <td>No</td>\n",
       "      <td>1.324370</td>\n",
       "      <td>No</td>\n",
       "      <td>NaN</td>\n",
       "      <td>NaN</td>\n",
       "      <td>NaN</td>\n",
       "      <td>NaN</td>\n",
       "      <td>NaN</td>\n",
       "      <td>NaN</td>\n",
       "      <td>NaN</td>\n",
       "    </tr>\n",
       "    <tr>\n",
       "      <th>3</th>\n",
       "      <td>4</td>\n",
       "      <td>50.6</td>\n",
       "      <td>19.3</td>\n",
       "      <td>No</td>\n",
       "      <td>1.159745</td>\n",
       "      <td>No</td>\n",
       "      <td>NaN</td>\n",
       "      <td>NaN</td>\n",
       "      <td>NaN</td>\n",
       "      <td>NaN</td>\n",
       "      <td>NaN</td>\n",
       "      <td>NaN</td>\n",
       "      <td>NaN</td>\n",
       "    </tr>\n",
       "    <tr>\n",
       "      <th>4</th>\n",
       "      <td>5</td>\n",
       "      <td>54.1</td>\n",
       "      <td>16.7</td>\n",
       "      <td>No</td>\n",
       "      <td>0.775608</td>\n",
       "      <td>No</td>\n",
       "      <td>NaN</td>\n",
       "      <td>NaN</td>\n",
       "      <td>NaN</td>\n",
       "      <td>Income</td>\n",
       "      <td>InvestAmt</td>\n",
       "      <td>NaN</td>\n",
       "      <td>NaN</td>\n",
       "    </tr>\n",
       "  </tbody>\n",
       "</table>\n",
       "</div>"
      ],
      "text/plain": [
       "   Person  Income  InvestAmt WSJSubscriber    Zscore Prediction  Unnamed: 6  \\\n",
       "0       1    66.4       26.9            No  1.707565         No         NaN   \n",
       "1       2    68.0        7.1            No -0.664323         No         NaN   \n",
       "2       3    54.9       21.5            No  1.324370         No         NaN   \n",
       "3       4    50.6       19.3            No  1.159745         No         NaN   \n",
       "4       5    54.1       16.7            No  0.775608         No         NaN   \n",
       "\n",
       "   Unnamed: 7 Unnamed: 8            a1           a2  Unnamed: 11 Unnamed: 12  \n",
       "0         NaN          Z  -0.022090802  0.118007213          NaN         NaN  \n",
       "1         NaN        NaN           NaN          NaN          NaN         NaN  \n",
       "2         NaN        NaN           NaN          NaN          NaN         NaN  \n",
       "3         NaN        NaN           NaN          NaN          NaN         NaN  \n",
       "4         NaN        NaN        Income    InvestAmt          NaN         NaN  "
      ]
     },
     "execution_count": 16,
     "metadata": {},
     "output_type": "execute_result"
    }
   ],
   "source": [
    "#Read the file\n",
    "mydata=pd.read_csv(\"DiscriWinston.csv\")\n",
    "mydata.head()"
   ]
  },
  {
   "cell_type": "code",
   "execution_count": 17,
   "id": "d278545d",
   "metadata": {},
   "outputs": [],
   "source": [
    "#Convert Target Group Variable into 0/1 format\n",
    "mydata[\"WSJSubscriber\"]=(mydata[\"WSJSubscriber\"]==\"Yes\").astype(int)"
   ]
  },
  {
   "cell_type": "code",
   "execution_count": 18,
   "id": "35cc691d",
   "metadata": {},
   "outputs": [],
   "source": [
    "#Define X and Y\n",
    "X=mydata.iloc[:,1:3]\n",
    "Y=mydata[\"WSJSubscriber\"]"
   ]
  },
  {
   "cell_type": "code",
   "execution_count": 48,
   "id": "9f360a78",
   "metadata": {},
   "outputs": [
    {
     "data": {
      "text/plain": [
       "array([-0.99996732, -0.9998329 , -0.9999523 , -0.99995149, -0.99983757,\n",
       "       -1.00020562, -0.99983197, -0.99979139, -0.99984069, -1.00023688,\n",
       "       -1.00011586, -0.99968673, -1.00026085, -0.99983271, -1.00018725,\n",
       "       -0.99998654, -1.00045693, -1.00018725, -1.00036911, -1.00035338,\n",
       "       -0.99992306, -0.99983271, -1.0001839 , -0.99981704, -1.00023968,\n",
       "       -0.9998195 , -0.99977066, -0.9998249 , -1.00019325, -0.99981704,\n",
       "       -1.00007775, -0.99984069, -0.99998999, -1.00042894, -0.99983271,\n",
       "       -0.99995303, -0.99981884, -1.00019325, -0.99998999, -1.00025974,\n",
       "       -0.99977678, -1.00043502, -1.00012263, -1.00014362, -0.99974273,\n",
       "       -0.99983757, -0.99982494, -0.99985785, -1.00018389, -0.99981884,\n",
       "       -0.99981405, -1.00067145, -1.00049024, -0.99985188, -0.99977036,\n",
       "       -0.99977679, -1.00011586,  1.00014642,  1.00003369,  0.999791  ,\n",
       "        0.99990202,  0.99979438,  1.0001608 ,  1.0001437 ,  1.00019514,\n",
       "        1.00016276,  1.00010356,  1.00001794,  1.00001794,  1.00004269,\n",
       "        0.99979099,  0.99973996,  1.00014383,  1.00002451,  0.99990228,\n",
       "        0.99973996,  1.0000288 ,  1.00016261,  1.0001431 ,  1.00001346,\n",
       "        1.00019153,  1.00019142,  1.00018063,  1.0001608 ])"
      ]
     },
     "execution_count": 48,
     "metadata": {},
     "output_type": "execute_result"
    }
   ],
   "source": [
    "#Build the SVM Model for linear kernel\n",
    "svc_model=SVC(kernel=\"rbf\",C=10, gamma=1,probability=True)\n",
    "SVM1=svc_model.fit(X,Y)\n",
    "SVM1\n",
    "SVM1.decision_function(X)"
   ]
  },
  {
   "cell_type": "code",
   "execution_count": 49,
   "id": "1ccdbf26",
   "metadata": {},
   "outputs": [
    {
     "name": "stdout",
     "output_type": "stream",
     "text": [
      "Accuracy= 1.0000\n",
      "Recall= 1.0000\n",
      "Precision 1.0000\n"
     ]
    }
   ],
   "source": [
    "#Overall Accuracy,recall,precision\n",
    "Prediction=SVM1.predict(X)\n",
    "print(\"Accuracy=\",\"{:.4f}\".format(accuracy_score(Y,Prediction)))\n",
    "print(\"Recall=\",\"{:.4f}\".format(recall_score(Y,Prediction)))\n",
    "print(\"Precision\",\"{:.4f}\".format(precision_score(Y,Prediction)))"
   ]
  },
  {
   "cell_type": "code",
   "execution_count": 47,
   "id": "9f77e7c1",
   "metadata": {},
   "outputs": [
    {
     "data": {
      "image/png": "[encoded data removed]",
      "text/plain": [
       "<Figure size 432x288 with 2 Axes>"
      ]
     },
     "metadata": {
      "needs_background": "light"
     },
     "output_type": "display_data"
    }
   ],
   "source": [
    "#Getting Confusion Matrix\n",
    "confusion=confusion_matrix(Y,Prediction)\n",
    "sns.heatmap(confusion,annot=True,cmap=\"Oranges\",annot_kws={\"size\":20},\n",
    "           xticklabels=[\"Not a Subscriber\",\"Subscriber\"],\n",
    "           yticklabels=[\"Not a Subscriber\",\"Subscriber\"])\n",
    "plt.ylabel(\"Actual\")\n",
    "plt.xlabel(\"Predicted\")\n",
    "plt.show()"
   ]
  },
  {
   "cell_type": "code",
   "execution_count": 50,
   "id": "259ab99f",
   "metadata": {},
   "outputs": [
    {
     "data": {
      "text/html": [
       "<div>\n",
       "<style scoped>\n",
       "    .dataframe tbody tr th:only-of-type {\n",
       "        vertical-align: middle;\n",
       "    }\n",
       "\n",
       "    .dataframe tbody tr th {\n",
       "        vertical-align: top;\n",
       "    }\n",
       "\n",
       "    .dataframe thead th {\n",
       "        text-align: right;\n",
       "    }\n",
       "</style>\n",
       "<table border=\"1\" class=\"dataframe\">\n",
       "  <thead>\n",
       "    <tr style=\"text-align: right;\">\n",
       "      <th></th>\n",
       "      <th>0</th>\n",
       "      <th>1</th>\n",
       "    </tr>\n",
       "  </thead>\n",
       "  <tbody>\n",
       "    <tr>\n",
       "      <th>0</th>\n",
       "      <td>0.930027</td>\n",
       "      <td>0.069973</td>\n",
       "    </tr>\n",
       "    <tr>\n",
       "      <th>1</th>\n",
       "      <td>0.930001</td>\n",
       "      <td>0.069999</td>\n",
       "    </tr>\n",
       "    <tr>\n",
       "      <th>2</th>\n",
       "      <td>0.930024</td>\n",
       "      <td>0.069976</td>\n",
       "    </tr>\n",
       "    <tr>\n",
       "      <th>3</th>\n",
       "      <td>0.930024</td>\n",
       "      <td>0.069976</td>\n",
       "    </tr>\n",
       "    <tr>\n",
       "      <th>4</th>\n",
       "      <td>0.930002</td>\n",
       "      <td>0.069998</td>\n",
       "    </tr>\n",
       "    <tr>\n",
       "      <th>...</th>\n",
       "      <td>...</td>\n",
       "      <td>...</td>\n",
       "    </tr>\n",
       "    <tr>\n",
       "      <th>79</th>\n",
       "      <td>0.040816</td>\n",
       "      <td>0.959184</td>\n",
       "    </tr>\n",
       "    <tr>\n",
       "      <th>80</th>\n",
       "      <td>0.040796</td>\n",
       "      <td>0.959204</td>\n",
       "    </tr>\n",
       "    <tr>\n",
       "      <th>81</th>\n",
       "      <td>0.040796</td>\n",
       "      <td>0.959204</td>\n",
       "    </tr>\n",
       "    <tr>\n",
       "      <th>82</th>\n",
       "      <td>0.040797</td>\n",
       "      <td>0.959203</td>\n",
       "    </tr>\n",
       "    <tr>\n",
       "      <th>83</th>\n",
       "      <td>0.040799</td>\n",
       "      <td>0.959201</td>\n",
       "    </tr>\n",
       "  </tbody>\n",
       "</table>\n",
       "<p>84 rows × 2 columns</p>\n",
       "</div>"
      ],
      "text/plain": [
       "           0         1\n",
       "0   0.930027  0.069973\n",
       "1   0.930001  0.069999\n",
       "2   0.930024  0.069976\n",
       "3   0.930024  0.069976\n",
       "4   0.930002  0.069998\n",
       "..       ...       ...\n",
       "79  0.040816  0.959184\n",
       "80  0.040796  0.959204\n",
       "81  0.040796  0.959204\n",
       "82  0.040797  0.959203\n",
       "83  0.040799  0.959201\n",
       "\n",
       "[84 rows x 2 columns]"
      ]
     },
     "execution_count": 50,
     "metadata": {},
     "output_type": "execute_result"
    }
   ],
   "source": [
    "#Getting Probabilities\n",
    "Probability=SVM1.predict_proba(X)\n",
    "Probability=pd.DataFrame(Probability)\n",
    "Probability"
   ]
  },
  {
   "cell_type": "code",
   "execution_count": 51,
   "id": "e7b1a2df",
   "metadata": {},
   "outputs": [
    {
     "data": {
      "image/png": "[encoded data removed]",
      "text/plain": [
       "<Figure size 432x288 with 1 Axes>"
      ]
     },
     "metadata": {
      "needs_background": "light"
     },
     "output_type": "display_data"
    }
   ],
   "source": [
    "#ROC Curve\n",
    "svmroc=roc_auc_score(Y,Prediction)\n",
    "fpr,tpr,thresholds=roc_curve(Y,Probability[1])\n",
    "plt.figure()\n",
    "plt.plot(fpr,tpr,color=\"red\",lw=3,label=\"SVM ROC Linear Kernel(area=%0.3f)\" %svmroc)\n",
    "plt.plot([0,1],[0,1],\"r--\")\n",
    "plt.xlim([0,1])\n",
    "plt.ylim([0,1.05])\n",
    "plt.xlabel(\"False Positive\")\n",
    "plt.ylabel(\"True Positive\")\n",
    "plt.title(\"Receiver Operating Characteristics Curve\")\n",
    "plt.legend(loc=\"lower right\")\n",
    "plt.show()"
   ]
  },
  {
   "cell_type": "code",
   "execution_count": null,
   "id": "61a0ab9b",
   "metadata": {},
   "outputs": [],
   "source": []
  }
 ],
 "metadata": {
  "kernelspec": {
   "display_name": "Python 3 (ipykernel)",
   "language": "python",
   "name": "python3"
  },
  "language_info": {
   "codemirror_mode": {
    "name": "ipython",
    "version": 3
   },
   "file_extension": ".py",
   "mimetype": "text/x-python",
   "name": "python",
   "nbconvert_exporter": "python",
   "pygments_lexer": "ipython3",
   "version": "3.9.7"
  }
 },
 "nbformat": 4,
 "nbformat_minor": 5
}
