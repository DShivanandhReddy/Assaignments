{
 "cells": [
  {
   "cell_type": "code",
   "execution_count": 5,
   "id": "57f5ff7b",
   "metadata": {},
   "outputs": [],
   "source": [
    "#Example Problem-Decision Tree-Blue or Red"
   ]
  },
  {
   "cell_type": "code",
   "execution_count": 6,
   "id": "13beb24f",
   "metadata": {},
   "outputs": [],
   "source": [
    "import pandas as pd\n",
    "import numpy as np\n",
    "from sklearn.preprocessing import StandardScaler\n",
    "from sklearn.model_selection import train_test_split\n",
    "from sklearn.metrics import accuracy_score\n",
    "from sklearn.metrics import confusion_matrix,roc_curve,roc_auc_score\n",
    "from sklearn.metrics import precision_score,recall_score\n",
    "import itertools\n",
    "from sklearn.tree import DecisionTreeClassifier\n",
    "import seaborn as sns\n",
    "import matplotlib.pyplot as plt\n",
    "import warnings\n",
    "warnings.filterwarnings(\"ignore\")"
   ]
  },
  {
   "cell_type": "code",
   "execution_count": 7,
   "id": "b132eeb2",
   "metadata": {},
   "outputs": [
    {
     "data": {
      "text/html": [
       "<div>\n",
       "<style scoped>\n",
       "    .dataframe tbody tr th:only-of-type {\n",
       "        vertical-align: middle;\n",
       "    }\n",
       "\n",
       "    .dataframe tbody tr th {\n",
       "        vertical-align: top;\n",
       "    }\n",
       "\n",
       "    .dataframe thead th {\n",
       "        text-align: right;\n",
       "    }\n",
       "</style>\n",
       "<table border=\"1\" class=\"dataframe\">\n",
       "  <thead>\n",
       "    <tr style=\"text-align: right;\">\n",
       "      <th></th>\n",
       "      <th>Undecided</th>\n",
       "      <th>Age</th>\n",
       "      <th>HomeOwner</th>\n",
       "      <th>Female</th>\n",
       "      <th>Married</th>\n",
       "      <th>HouseholdSize</th>\n",
       "      <th>Income</th>\n",
       "      <th>Education</th>\n",
       "      <th>Church</th>\n",
       "    </tr>\n",
       "  </thead>\n",
       "  <tbody>\n",
       "    <tr>\n",
       "      <th>0</th>\n",
       "      <td>1</td>\n",
       "      <td>51</td>\n",
       "      <td>1</td>\n",
       "      <td>1</td>\n",
       "      <td>1</td>\n",
       "      <td>4</td>\n",
       "      <td>171.0</td>\n",
       "      <td>15</td>\n",
       "      <td>0</td>\n",
       "    </tr>\n",
       "    <tr>\n",
       "      <th>1</th>\n",
       "      <td>1</td>\n",
       "      <td>37</td>\n",
       "      <td>1</td>\n",
       "      <td>1</td>\n",
       "      <td>1</td>\n",
       "      <td>3</td>\n",
       "      <td>96.0</td>\n",
       "      <td>18</td>\n",
       "      <td>0</td>\n",
       "    </tr>\n",
       "    <tr>\n",
       "      <th>2</th>\n",
       "      <td>1</td>\n",
       "      <td>53</td>\n",
       "      <td>1</td>\n",
       "      <td>1</td>\n",
       "      <td>1</td>\n",
       "      <td>6</td>\n",
       "      <td>86.0</td>\n",
       "      <td>20</td>\n",
       "      <td>0</td>\n",
       "    </tr>\n",
       "    <tr>\n",
       "      <th>3</th>\n",
       "      <td>0</td>\n",
       "      <td>33</td>\n",
       "      <td>1</td>\n",
       "      <td>1</td>\n",
       "      <td>1</td>\n",
       "      <td>2</td>\n",
       "      <td>176.0</td>\n",
       "      <td>18</td>\n",
       "      <td>1</td>\n",
       "    </tr>\n",
       "    <tr>\n",
       "      <th>4</th>\n",
       "      <td>0</td>\n",
       "      <td>46</td>\n",
       "      <td>1</td>\n",
       "      <td>1</td>\n",
       "      <td>1</td>\n",
       "      <td>6</td>\n",
       "      <td>420.0</td>\n",
       "      <td>15</td>\n",
       "      <td>1</td>\n",
       "    </tr>\n",
       "  </tbody>\n",
       "</table>\n",
       "</div>"
      ],
      "text/plain": [
       "   Undecided  Age  HomeOwner  Female  Married  HouseholdSize  Income  \\\n",
       "0          1   51          1       1        1              4   171.0   \n",
       "1          1   37          1       1        1              3    96.0   \n",
       "2          1   53          1       1        1              6    86.0   \n",
       "3          0   33          1       1        1              2   176.0   \n",
       "4          0   46          1       1        1              6   420.0   \n",
       "\n",
       "   Education  Church  \n",
       "0         15       0  \n",
       "1         18       0  \n",
       "2         20       0  \n",
       "3         18       1  \n",
       "4         15       1  "
      ]
     },
     "execution_count": 7,
     "metadata": {},
     "output_type": "execute_result"
    }
   ],
   "source": [
    "#Reading the file\n",
    "mydata=pd.read_csv(\"BlueorRed1.csv\")\n",
    "mydata.head()"
   ]
  },
  {
   "cell_type": "code",
   "execution_count": 8,
   "id": "03e89e16",
   "metadata": {},
   "outputs": [
    {
     "name": "stdout",
     "output_type": "stream",
     "text": [
      "0    1\n",
      "1    1\n",
      "2    1\n",
      "3    0\n",
      "4    0\n",
      "Name: Undecided, dtype: int64\n",
      "   Age  HomeOwner  Female  Married  HouseholdSize  Income  Education  Church\n",
      "0   51          1       1        1              4   171.0         15       0\n",
      "1   37          1       1        1              3    96.0         18       0\n",
      "2   53          1       1        1              6    86.0         20       0\n",
      "3   33          1       1        1              2   176.0         18       1\n",
      "4   46          1       1        1              6   420.0         15       1\n"
     ]
    }
   ],
   "source": [
    "Y=mydata[\"Undecided\"]\n",
    "X=mydata.iloc[:,1:9]\n",
    "print(Y.head())\n",
    "print(X.head())"
   ]
  },
  {
   "cell_type": "code",
   "execution_count": 9,
   "id": "b6ba5f61",
   "metadata": {},
   "outputs": [
    {
     "data": {
      "text/plain": [
       "(7000, 8)"
      ]
     },
     "execution_count": 9,
     "metadata": {},
     "output_type": "execute_result"
    }
   ],
   "source": [
    "X_train,X_test,Y_train,Y_test=train_test_split(X,Y,test_size=0.3,random_state=2)\n",
    "X_train.shape"
   ]
  },
  {
   "cell_type": "code",
   "execution_count": 10,
   "id": "062316d9",
   "metadata": {},
   "outputs": [],
   "source": [
    "from sklearn.tree import DecisionTreeClassifier\n",
    "clf_tree=DecisionTreeClassifier()\n",
    "clf_tree=DecisionTreeClassifier(criterion=\"entropy\",max_depth=7)\n",
    "clf_tree.fit(X_train,Y_train)\n",
    "tree_predict=clf_tree.predict(X_train)\n",
    "round(accuracy_score(Y_train,tree_predict),3)\n",
    "pred_prob=clf_tree.predict_proba(X_train)"
   ]
  },
  {
   "cell_type": "code",
   "execution_count": 11,
   "id": "0af582fb",
   "metadata": {},
   "outputs": [
    {
     "data": {
      "text/plain": [
       "[Text(141.557625, 203.85, 'X[6] <= 12.5\\nentropy = 0.97\\nsamples = 7000\\nvalue = [4211, 2789]'),\n",
       " Text(59.42700000000001, 176.67000000000002, 'X[0] <= 35.5\\nentropy = 0.15\\nsamples = 2092\\nvalue = [2047, 45]'),\n",
       " Text(32.643, 149.49, 'X[5] <= 247.0\\nentropy = 0.082\\nsamples = 488\\nvalue = [483, 5]'),\n",
       " Text(21.762, 122.31, 'X[5] <= 67.25\\nentropy = 0.056\\nsamples = 471\\nvalue = [468, 3]'),\n",
       " Text(18.414, 95.13, 'X[0] <= 21.5\\nentropy = 0.126\\nsamples = 173\\nvalue = [170, 3]'),\n",
       " Text(6.696000000000001, 67.94999999999999, 'X[7] <= 0.5\\nentropy = 0.811\\nsamples = 4\\nvalue = [3, 1]'),\n",
       " Text(3.3480000000000003, 40.77000000000001, 'entropy = 0.0\\nsamples = 2\\nvalue = [2, 0]'),\n",
       " Text(10.044, 40.77000000000001, 'X[4] <= 4.5\\nentropy = 1.0\\nsamples = 2\\nvalue = [1, 1]'),\n",
       " Text(6.696000000000001, 13.590000000000003, 'entropy = 0.0\\nsamples = 1\\nvalue = [0, 1]'),\n",
       " Text(13.392000000000001, 13.590000000000003, 'entropy = 0.0\\nsamples = 1\\nvalue = [1, 0]'),\n",
       " Text(30.132, 67.94999999999999, 'X[5] <= 66.75\\nentropy = 0.093\\nsamples = 169\\nvalue = [167, 2]'),\n",
       " Text(23.436000000000003, 40.77000000000001, 'X[5] <= 18.5\\nentropy = 0.053\\nsamples = 165\\nvalue = [164, 1]'),\n",
       " Text(20.088, 13.590000000000003, 'entropy = 0.176\\nsamples = 38\\nvalue = [37, 1]'),\n",
       " Text(26.784000000000002, 13.590000000000003, 'entropy = 0.0\\nsamples = 127\\nvalue = [127, 0]'),\n",
       " Text(36.828, 40.77000000000001, 'X[4] <= 5.5\\nentropy = 0.811\\nsamples = 4\\nvalue = [3, 1]'),\n",
       " Text(33.480000000000004, 13.590000000000003, 'entropy = 0.0\\nsamples = 2\\nvalue = [2, 0]'),\n",
       " Text(40.176, 13.590000000000003, 'entropy = 1.0\\nsamples = 2\\nvalue = [1, 1]'),\n",
       " Text(25.110000000000003, 95.13, 'entropy = 0.0\\nsamples = 298\\nvalue = [298, 0]'),\n",
       " Text(43.524, 122.31, 'X[5] <= 256.5\\nentropy = 0.523\\nsamples = 17\\nvalue = [15, 2]'),\n",
       " Text(40.176, 95.13, 'X[2] <= 0.5\\nentropy = 0.918\\nsamples = 3\\nvalue = [1, 2]'),\n",
       " Text(36.828, 67.94999999999999, 'entropy = 0.0\\nsamples = 1\\nvalue = [1, 0]'),\n",
       " Text(43.524, 67.94999999999999, 'entropy = 0.0\\nsamples = 2\\nvalue = [0, 2]'),\n",
       " Text(46.87200000000001, 95.13, 'entropy = 0.0\\nsamples = 14\\nvalue = [14, 0]'),\n",
       " Text(86.21100000000001, 149.49, 'X[1] <= 0.5\\nentropy = 0.168\\nsamples = 1604\\nvalue = [1564, 40]'),\n",
       " Text(56.916000000000004, 122.31, 'X[0] <= 44.5\\nentropy = 0.087\\nsamples = 456\\nvalue = [451, 5]'),\n",
       " Text(53.568000000000005, 95.13, 'entropy = 0.0\\nsamples = 157\\nvalue = [157, 0]'),\n",
       " Text(60.264, 95.13, 'X[2] <= 0.5\\nentropy = 0.123\\nsamples = 299\\nvalue = [294, 5]'),\n",
       " Text(56.916000000000004, 67.94999999999999, 'entropy = 0.0\\nsamples = 70\\nvalue = [70, 0]'),\n",
       " Text(63.61200000000001, 67.94999999999999, 'X[5] <= 14.75\\nentropy = 0.152\\nsamples = 229\\nvalue = [224, 5]'),\n",
       " Text(56.916000000000004, 40.77000000000001, 'X[5] <= 9.5\\nentropy = 0.337\\nsamples = 32\\nvalue = [30, 2]'),\n",
       " Text(53.568000000000005, 13.590000000000003, 'entropy = 0.0\\nsamples = 18\\nvalue = [18, 0]'),\n",
       " Text(60.264, 13.590000000000003, 'entropy = 0.592\\nsamples = 14\\nvalue = [12, 2]'),\n",
       " Text(70.308, 40.77000000000001, 'X[7] <= 0.5\\nentropy = 0.114\\nsamples = 197\\nvalue = [194, 3]'),\n",
       " Text(66.96000000000001, 13.590000000000003, 'entropy = 0.191\\nsamples = 102\\nvalue = [99, 3]'),\n",
       " Text(73.656, 13.590000000000003, 'entropy = 0.0\\nsamples = 95\\nvalue = [95, 0]'),\n",
       " Text(115.50600000000001, 122.31, 'X[6] <= 8.5\\nentropy = 0.197\\nsamples = 1148\\nvalue = [1113, 35]'),\n",
       " Text(98.766, 95.13, 'X[5] <= 43.5\\nentropy = 0.241\\nsamples = 529\\nvalue = [508, 21]'),\n",
       " Text(90.39600000000002, 67.94999999999999, 'X[4] <= 1.5\\nentropy = 0.12\\nsamples = 184\\nvalue = [181, 3]'),\n",
       " Text(83.7, 40.77000000000001, 'X[5] <= 15.5\\nentropy = 0.31\\nsamples = 36\\nvalue = [34, 2]'),\n",
       " Text(80.352, 13.590000000000003, 'entropy = 0.544\\nsamples = 16\\nvalue = [14, 2]'),\n",
       " Text(87.048, 13.590000000000003, 'entropy = 0.0\\nsamples = 20\\nvalue = [20, 0]'),\n",
       " Text(97.09200000000001, 40.77000000000001, 'X[0] <= 39.5\\nentropy = 0.058\\nsamples = 148\\nvalue = [147, 1]'),\n",
       " Text(93.74400000000001, 13.590000000000003, 'entropy = 0.242\\nsamples = 25\\nvalue = [24, 1]'),\n",
       " Text(100.44000000000001, 13.590000000000003, 'entropy = 0.0\\nsamples = 123\\nvalue = [123, 0]'),\n",
       " Text(107.13600000000001, 67.94999999999999, 'X[5] <= 44.25\\nentropy = 0.296\\nsamples = 345\\nvalue = [327, 18]'),\n",
       " Text(103.78800000000001, 40.77000000000001, 'entropy = 0.0\\nsamples = 1\\nvalue = [0, 1]'),\n",
       " Text(110.48400000000001, 40.77000000000001, 'X[4] <= 5.5\\nentropy = 0.284\\nsamples = 344\\nvalue = [327, 17]'),\n",
       " Text(107.13600000000001, 13.590000000000003, 'entropy = 0.306\\nsamples = 311\\nvalue = [294, 17]'),\n",
       " Text(113.83200000000001, 13.590000000000003, 'entropy = 0.0\\nsamples = 33\\nvalue = [33, 0]'),\n",
       " Text(132.246, 95.13, 'X[7] <= 0.5\\nentropy = 0.156\\nsamples = 619\\nvalue = [605, 14]'),\n",
       " Text(120.528, 67.94999999999999, 'X[4] <= 3.5\\nentropy = 0.08\\nsamples = 304\\nvalue = [301, 3]'),\n",
       " Text(117.18, 40.77000000000001, 'entropy = 0.0\\nsamples = 148\\nvalue = [148, 0]'),\n",
       " Text(123.876, 40.77000000000001, 'X[0] <= 41.5\\nentropy = 0.137\\nsamples = 156\\nvalue = [153, 3]'),\n",
       " Text(120.528, 13.590000000000003, 'entropy = 0.0\\nsamples = 55\\nvalue = [55, 0]'),\n",
       " Text(127.22400000000002, 13.590000000000003, 'entropy = 0.193\\nsamples = 101\\nvalue = [98, 3]'),\n",
       " Text(143.96400000000003, 67.94999999999999, 'X[4] <= 6.5\\nentropy = 0.218\\nsamples = 315\\nvalue = [304, 11]'),\n",
       " Text(137.268, 40.77000000000001, 'X[0] <= 48.5\\nentropy = 0.179\\nsamples = 296\\nvalue = [288, 8]'),\n",
       " Text(133.92000000000002, 13.590000000000003, 'entropy = 0.243\\nsamples = 199\\nvalue = [191, 8]'),\n",
       " Text(140.616, 13.590000000000003, 'entropy = 0.0\\nsamples = 97\\nvalue = [97, 0]'),\n",
       " Text(150.66000000000003, 40.77000000000001, 'X[5] <= 124.0\\nentropy = 0.629\\nsamples = 19\\nvalue = [16, 3]'),\n",
       " Text(147.312, 13.590000000000003, 'entropy = 0.845\\nsamples = 11\\nvalue = [8, 3]'),\n",
       " Text(154.008, 13.590000000000003, 'entropy = 0.0\\nsamples = 8\\nvalue = [8, 0]'),\n",
       " Text(223.68825, 176.67000000000002, 'X[7] <= 0.5\\nentropy = 0.99\\nsamples = 4908\\nvalue = [2164, 2744]'),\n",
       " Text(179.955, 149.49, 'X[2] <= 0.5\\nentropy = 0.749\\nsamples = 2420\\nvalue = [518, 1902]'),\n",
       " Text(160.704, 122.31, 'X[6] <= 16.5\\nentropy = 0.904\\nsamples = 535\\nvalue = [364, 171]'),\n",
       " Text(154.008, 95.13, 'X[5] <= 174.5\\nentropy = 0.685\\nsamples = 203\\nvalue = [37, 166]'),\n",
       " Text(150.66000000000003, 67.94999999999999, 'entropy = 0.0\\nsamples = 166\\nvalue = [0, 166]'),\n",
       " Text(157.35600000000002, 67.94999999999999, 'entropy = 0.0\\nsamples = 37\\nvalue = [37, 0]'),\n",
       " Text(167.4, 95.13, 'X[4] <= 2.5\\nentropy = 0.113\\nsamples = 332\\nvalue = [327, 5]'),\n",
       " Text(164.05200000000002, 67.94999999999999, 'entropy = 0.0\\nsamples = 125\\nvalue = [125, 0]'),\n",
       " Text(170.74800000000002, 67.94999999999999, 'X[5] <= 132.0\\nentropy = 0.164\\nsamples = 207\\nvalue = [202, 5]'),\n",
       " Text(164.05200000000002, 40.77000000000001, 'X[4] <= 3.5\\nentropy = 0.093\\nsamples = 168\\nvalue = [166, 2]'),\n",
       " Text(160.704, 13.590000000000003, 'entropy = 0.169\\nsamples = 80\\nvalue = [78, 2]'),\n",
       " Text(167.4, 13.590000000000003, 'entropy = 0.0\\nsamples = 88\\nvalue = [88, 0]'),\n",
       " Text(177.44400000000002, 40.77000000000001, 'X[5] <= 158.25\\nentropy = 0.391\\nsamples = 39\\nvalue = [36, 3]'),\n",
       " Text(174.096, 13.590000000000003, 'entropy = 0.672\\nsamples = 17\\nvalue = [14, 3]'),\n",
       " Text(180.79200000000003, 13.590000000000003, 'entropy = 0.0\\nsamples = 22\\nvalue = [22, 0]'),\n",
       " Text(199.20600000000002, 122.31, 'X[5] <= 174.5\\nentropy = 0.408\\nsamples = 1885\\nvalue = [154, 1731]'),\n",
       " Text(190.836, 95.13, 'X[0] <= 29.5\\nentropy = 0.024\\nsamples = 1670\\nvalue = [4, 1666]'),\n",
       " Text(187.48800000000003, 67.94999999999999, 'X[6] <= 16.0\\nentropy = 0.605\\nsamples = 27\\nvalue = [4, 23]'),\n",
       " Text(184.14000000000001, 40.77000000000001, 'entropy = 0.0\\nsamples = 18\\nvalue = [0, 18]'),\n",
       " Text(190.836, 40.77000000000001, 'X[6] <= 17.5\\nentropy = 0.991\\nsamples = 9\\nvalue = [4, 5]'),\n",
       " Text(187.48800000000003, 13.590000000000003, 'entropy = 0.0\\nsamples = 4\\nvalue = [4, 0]'),\n",
       " Text(194.18400000000003, 13.590000000000003, 'entropy = 0.0\\nsamples = 5\\nvalue = [0, 5]'),\n",
       " Text(194.18400000000003, 67.94999999999999, 'entropy = 0.0\\nsamples = 1643\\nvalue = [0, 1643]'),\n",
       " Text(207.57600000000002, 95.13, 'X[6] <= 17.0\\nentropy = 0.884\\nsamples = 215\\nvalue = [150, 65]'),\n",
       " Text(200.88000000000002, 67.94999999999999, 'X[4] <= 3.5\\nentropy = 0.169\\nsamples = 120\\nvalue = [117, 3]'),\n",
       " Text(197.532, 40.77000000000001, 'entropy = 0.0\\nsamples = 41\\nvalue = [41, 0]'),\n",
       " Text(204.228, 40.77000000000001, 'X[0] <= 30.5\\nentropy = 0.233\\nsamples = 79\\nvalue = [76, 3]'),\n",
       " Text(200.88000000000002, 13.590000000000003, 'entropy = 1.0\\nsamples = 2\\nvalue = [1, 1]'),\n",
       " Text(207.57600000000002, 13.590000000000003, 'entropy = 0.174\\nsamples = 77\\nvalue = [75, 2]'),\n",
       " Text(214.27200000000002, 67.94999999999999, 'X[5] <= 251.0\\nentropy = 0.932\\nsamples = 95\\nvalue = [33, 62]'),\n",
       " Text(210.924, 40.77000000000001, 'entropy = 0.0\\nsamples = 62\\nvalue = [0, 62]'),\n",
       " Text(217.62000000000003, 40.77000000000001, 'entropy = 0.0\\nsamples = 33\\nvalue = [33, 0]'),\n",
       " Text(267.42150000000004, 149.49, 'X[6] <= 16.5\\nentropy = 0.923\\nsamples = 2488\\nvalue = [1646, 842]'),\n",
       " Text(236.03400000000002, 122.31, 'X[5] <= 174.5\\nentropy = 0.649\\nsamples = 957\\nvalue = [159, 798]'),\n",
       " Text(232.68600000000004, 95.13, 'entropy = 0.0\\nsamples = 792\\nvalue = [0, 792]'),\n",
       " Text(239.38200000000003, 95.13, 'X[6] <= 13.5\\nentropy = 0.225\\nsamples = 165\\nvalue = [159, 6]'),\n",
       " Text(227.66400000000002, 67.94999999999999, 'X[4] <= 4.5\\nentropy = 0.65\\nsamples = 12\\nvalue = [10, 2]'),\n",
       " Text(224.31600000000003, 40.77000000000001, 'entropy = 0.0\\nsamples = 6\\nvalue = [6, 0]'),\n",
       " Text(231.01200000000003, 40.77000000000001, 'X[4] <= 5.5\\nentropy = 0.918\\nsamples = 6\\nvalue = [4, 2]'),\n",
       " Text(227.66400000000002, 13.590000000000003, 'entropy = 0.0\\nsamples = 1\\nvalue = [0, 1]'),\n",
       " Text(234.36, 13.590000000000003, 'entropy = 0.722\\nsamples = 5\\nvalue = [4, 1]'),\n",
       " Text(251.10000000000002, 67.94999999999999, 'X[6] <= 15.5\\nentropy = 0.175\\nsamples = 153\\nvalue = [149, 4]'),\n",
       " Text(244.40400000000002, 40.77000000000001, 'X[0] <= 35.5\\nentropy = 0.107\\nsamples = 141\\nvalue = [139, 2]'),\n",
       " Text(241.056, 13.590000000000003, 'entropy = 0.286\\nsamples = 40\\nvalue = [38, 2]'),\n",
       " Text(247.752, 13.590000000000003, 'entropy = 0.0\\nsamples = 101\\nvalue = [101, 0]'),\n",
       " Text(257.79600000000005, 40.77000000000001, 'X[3] <= 0.5\\nentropy = 0.65\\nsamples = 12\\nvalue = [10, 2]'),\n",
       " Text(254.44800000000004, 13.590000000000003, 'entropy = 0.0\\nsamples = 1\\nvalue = [0, 1]'),\n",
       " Text(261.144, 13.590000000000003, 'entropy = 0.439\\nsamples = 11\\nvalue = [10, 1]'),\n",
       " Text(298.809, 122.31, 'X[6] <= 19.0\\nentropy = 0.188\\nsamples = 1531\\nvalue = [1487, 44]'),\n",
       " Text(279.55800000000005, 95.13, 'X[0] <= 42.5\\nentropy = 0.23\\nsamples = 721\\nvalue = [694, 27]'),\n",
       " Text(267.84000000000003, 67.94999999999999, 'X[3] <= 0.5\\nentropy = 0.163\\nsamples = 333\\nvalue = [325, 8]'),\n",
       " Text(264.492, 40.77000000000001, 'entropy = 0.0\\nsamples = 93\\nvalue = [93, 0]'),\n",
       " Text(271.18800000000005, 40.77000000000001, 'X[5] <= 110.25\\nentropy = 0.211\\nsamples = 240\\nvalue = [232, 8]'),\n",
       " Text(267.84000000000003, 13.590000000000003, 'entropy = 0.299\\nsamples = 132\\nvalue = [125, 7]'),\n",
       " Text(274.536, 13.590000000000003, 'entropy = 0.076\\nsamples = 108\\nvalue = [107, 1]'),\n",
       " Text(291.276, 67.94999999999999, 'X[5] <= 96.75\\nentropy = 0.282\\nsamples = 388\\nvalue = [369, 19]'),\n",
       " Text(284.58000000000004, 40.77000000000001, 'X[0] <= 49.5\\nentropy = 0.184\\nsamples = 214\\nvalue = [208, 6]'),\n",
       " Text(281.232, 13.590000000000003, 'entropy = 0.276\\nsamples = 126\\nvalue = [120, 6]'),\n",
       " Text(287.92800000000005, 13.590000000000003, 'entropy = 0.0\\nsamples = 88\\nvalue = [88, 0]'),\n",
       " Text(297.97200000000004, 40.77000000000001, 'X[5] <= 107.25\\nentropy = 0.383\\nsamples = 174\\nvalue = [161, 13]'),\n",
       " Text(294.624, 13.590000000000003, 'entropy = 0.779\\nsamples = 26\\nvalue = [20, 6]'),\n",
       " Text(301.32000000000005, 13.590000000000003, 'entropy = 0.275\\nsamples = 148\\nvalue = [141, 7]'),\n",
       " Text(318.06, 95.13, 'X[4] <= 3.5\\nentropy = 0.147\\nsamples = 810\\nvalue = [793, 17]'),\n",
       " Text(308.016, 67.94999999999999, 'X[0] <= 51.5\\nentropy = 0.108\\nsamples = 559\\nvalue = [551, 8]'),\n",
       " Text(304.668, 40.77000000000001, 'entropy = 0.0\\nsamples = 152\\nvalue = [152, 0]'),\n",
       " Text(311.36400000000003, 40.77000000000001, 'X[5] <= 24.5\\nentropy = 0.14\\nsamples = 407\\nvalue = [399, 8]'),\n",
       " Text(308.016, 13.590000000000003, 'entropy = 0.323\\nsamples = 51\\nvalue = [48, 3]'),\n",
       " Text(314.71200000000005, 13.590000000000003, 'entropy = 0.107\\nsamples = 356\\nvalue = [351, 5]'),\n",
       " Text(328.10400000000004, 67.94999999999999, 'X[0] <= 64.5\\nentropy = 0.223\\nsamples = 251\\nvalue = [242, 9]'),\n",
       " Text(324.75600000000003, 40.77000000000001, 'X[0] <= 41.5\\nentropy = 0.248\\nsamples = 218\\nvalue = [209, 9]'),\n",
       " Text(321.408, 13.590000000000003, 'entropy = 0.811\\nsamples = 4\\nvalue = [3, 1]'),\n",
       " Text(328.10400000000004, 13.590000000000003, 'entropy = 0.23\\nsamples = 214\\nvalue = [206, 8]'),\n",
       " Text(331.45200000000006, 40.77000000000001, 'entropy = 0.0\\nsamples = 33\\nvalue = [33, 0]')]"
      ]
     },
     "execution_count": 11,
     "metadata": {},
     "output_type": "execute_result"
    },
    {
     "data": {
      "image/png": "[encoded data removed]",
      "text/plain": [
       "<Figure size 432x288 with 1 Axes>"
      ]
     },
     "metadata": {
      "needs_background": "light"
     },
     "output_type": "display_data"
    }
   ],
   "source": [
    "from sklearn import tree\n",
    "tree.plot_tree(clf_tree,filled=True, fontsize=8)"
   ]
  },
  {
   "cell_type": "code",
   "execution_count": 12,
   "id": "2bec9a1b",
   "metadata": {},
   "outputs": [
    {
     "data": {
      "text/plain": [
       "array([[4211,    0],\n",
       "       [  97, 2692]])"
      ]
     },
     "execution_count": 12,
     "metadata": {},
     "output_type": "execute_result"
    }
   ],
   "source": [
    "confusion_matrix(Y_train,tree_predict)"
   ]
  },
  {
   "cell_type": "code",
   "execution_count": 13,
   "id": "89088b74",
   "metadata": {},
   "outputs": [
    {
     "data": {
      "text/plain": [
       "<AxesSubplot:>"
      ]
     },
     "execution_count": 13,
     "metadata": {},
     "output_type": "execute_result"
    },
    {
     "data": {
      "image/png": "[encoded data removed]",
      "text/plain": [
       "<Figure size 432x288 with 2 Axes>"
      ]
     },
     "metadata": {
      "needs_background": "light"
     },
     "output_type": "display_data"
    }
   ],
   "source": [
    "cm=confusion_matrix(Y_train,tree_predict)\n",
    "sns.heatmap(cm,annot=True,cmap=\"Blues\",fmt=\".0f\")"
   ]
  },
  {
   "cell_type": "code",
   "execution_count": 14,
   "id": "d5651a95",
   "metadata": {},
   "outputs": [
    {
     "name": "stdout",
     "output_type": "stream",
     "text": [
      "              precision    recall  f1-score   support\n",
      "\n",
      "           0       0.98      1.00      0.99      4211\n",
      "           1       1.00      0.97      0.98      2789\n",
      "\n",
      "    accuracy                           0.99      7000\n",
      "   macro avg       0.99      0.98      0.99      7000\n",
      "weighted avg       0.99      0.99      0.99      7000\n",
      "\n"
     ]
    }
   ],
   "source": [
    "from sklearn.metrics import classification_report\n",
    "Report=classification_report(Y_train,tree_predict)\n",
    "print((Report))"
   ]
  },
  {
   "cell_type": "code",
   "execution_count": 15,
   "id": "a330205a",
   "metadata": {},
   "outputs": [
    {
     "data": {
      "text/html": [
       "<div>\n",
       "<style scoped>\n",
       "    .dataframe tbody tr th:only-of-type {\n",
       "        vertical-align: middle;\n",
       "    }\n",
       "\n",
       "    .dataframe tbody tr th {\n",
       "        vertical-align: top;\n",
       "    }\n",
       "\n",
       "    .dataframe thead th {\n",
       "        text-align: right;\n",
       "    }\n",
       "</style>\n",
       "<table border=\"1\" class=\"dataframe\">\n",
       "  <thead>\n",
       "    <tr style=\"text-align: right;\">\n",
       "      <th></th>\n",
       "      <th>Age</th>\n",
       "      <th>HomeOwner</th>\n",
       "      <th>Female</th>\n",
       "      <th>Married</th>\n",
       "      <th>HouseholdSize</th>\n",
       "      <th>Income</th>\n",
       "      <th>Education</th>\n",
       "      <th>Church</th>\n",
       "    </tr>\n",
       "  </thead>\n",
       "  <tbody>\n",
       "    <tr>\n",
       "      <th>0</th>\n",
       "      <td>0.010147</td>\n",
       "      <td>0.000689</td>\n",
       "      <td>0.090262</td>\n",
       "      <td>0.001087</td>\n",
       "      <td>0.004643</td>\n",
       "      <td>0.225275</td>\n",
       "      <td>0.547084</td>\n",
       "      <td>0.120812</td>\n",
       "    </tr>\n",
       "  </tbody>\n",
       "</table>\n",
       "</div>"
      ],
      "text/plain": [
       "        Age  HomeOwner    Female   Married  HouseholdSize    Income  \\\n",
       "0  0.010147   0.000689  0.090262  0.001087       0.004643  0.225275   \n",
       "\n",
       "   Education    Church  \n",
       "0   0.547084  0.120812  "
      ]
     },
     "execution_count": 15,
     "metadata": {},
     "output_type": "execute_result"
    }
   ],
   "source": [
    "importances=clf_tree.feature_importances_\n",
    "importances\n",
    "importances=pd.DataFrame(importances)\n",
    "Importance=importances.transpose()\n",
    "Importance.columns=[\"Age\",\"HomeOwner\",\"Female\",\"Married\",\"HouseholdSize\",\n",
    "                    \"Income\",\"Education\",\"Church\"]\n",
    "Importance"
   ]
  },
  {
   "cell_type": "code",
   "execution_count": 16,
   "id": "8d3e6369",
   "metadata": {},
   "outputs": [
    {
     "data": {
      "text/plain": [
       "GridSearchCV(cv=10, estimator=DecisionTreeClassifier(),\n",
       "             param_grid=[{'criterion': ['gini', 'entropy'],\n",
       "                          'max_depth': range(2, 10)}],\n",
       "             scoring='roc_auc')"
      ]
     },
     "execution_count": 16,
     "metadata": {},
     "output_type": "execute_result"
    }
   ],
   "source": [
    "from sklearn.model_selection import GridSearchCV\n",
    "tuned_parameters=[{\"criterion\":[\"gini\",\"entropy\"],\n",
    "                  \"max_depth\":range(2,10)}]\n",
    "clf_tree=DecisionTreeClassifier()\n",
    "clf=GridSearchCV(clf_tree,\n",
    "                tuned_parameters,\n",
    "                cv=10,\n",
    "                scoring=\"roc_auc\")\n",
    "clf.fit(X,Y)"
   ]
  },
  {
   "cell_type": "code",
   "execution_count": 17,
   "id": "c5efdcdf",
   "metadata": {},
   "outputs": [
    {
     "data": {
      "text/plain": [
       "0.9798993513989884"
      ]
     },
     "execution_count": 17,
     "metadata": {},
     "output_type": "execute_result"
    }
   ],
   "source": [
    "clf.best_score_"
   ]
  },
  {
   "cell_type": "code",
   "execution_count": 18,
   "id": "9cae0e9b",
   "metadata": {},
   "outputs": [
    {
     "data": {
      "text/plain": [
       "{'criterion': 'entropy', 'max_depth': 7}"
      ]
     },
     "execution_count": 18,
     "metadata": {},
     "output_type": "execute_result"
    }
   ],
   "source": [
    "clf.best_params_"
   ]
  },
  {
   "cell_type": "code",
   "execution_count": 19,
   "id": "f41dbce6",
   "metadata": {},
   "outputs": [],
   "source": [
    "prediction=tree_predict\n",
    "Prediction=pd.DataFrame(prediction)\n",
    "Prediction\n",
    "Prediction=Prediction.iloc[:,1:9]"
   ]
  },
  {
   "cell_type": "code",
   "execution_count": 20,
   "id": "ac849682",
   "metadata": {},
   "outputs": [],
   "source": [
    "pred_prob=pd.DataFrame(pred_prob)\n",
    "pred_prob\n",
    "pred_class=(pred_prob[1]>=0.5).astype(np.int)"
   ]
  },
  {
   "cell_type": "code",
   "execution_count": 21,
   "id": "0c43a0bf",
   "metadata": {},
   "outputs": [
    {
     "data": {
      "image/png": "[encoded data removed]",
      "text/plain": [
       "<Figure size 432x288 with 1 Axes>"
      ]
     },
     "metadata": {
      "needs_background": "light"
     },
     "output_type": "display_data"
    }
   ],
   "source": [
    "from sklearn.metrics import(roc_auc_score,roc_curve)\n",
    "Y_train.head()\n",
    "pred_class\n",
    "dt_auc=roc_auc_score(Y_train.astype(int),pred_class)\n",
    "fpr,tpr,thresholds=roc_curve(Y_train.astype(int),pred_prob[1])\n",
    "plt.figure()\n",
    "plt.plot(fpr,tpr, label=\"Decision Tree(area=%0.3f)\" % dt_auc,lw=4,color=\"red\")\n",
    "plt.plot([0,1],[0,1],\"r--\")\n",
    "plt.xlim([0,1])\n",
    "plt.ylim([0,1.05])\n",
    "plt.xlabel(\"False Positive\")\n",
    "plt.ylabel(\"True Positive\")\n",
    "plt.title(\"Receiver Operative Characteristics Curve\")\n",
    "plt.legend(loc=\"lower right\")\n",
    "plt.show()"
   ]
  }
 ],
 "metadata": {
  "kernelspec": {
   "display_name": "Python 3 (ipykernel)",
   "language": "python",
   "name": "python3"
  },
  "language_info": {
   "codemirror_mode": {
    "name": "ipython",
    "version": 3
   },
   "file_extension": ".py",
   "mimetype": "text/x-python",
   "name": "python",
   "nbconvert_exporter": "python",
   "pygments_lexer": "ipython3",
   "version": "3.9.7"
  }
 },
 "nbformat": 4,
 "nbformat_minor": 5
}
