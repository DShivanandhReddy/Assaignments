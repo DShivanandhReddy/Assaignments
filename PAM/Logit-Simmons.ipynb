{
 "cells": [
  {
   "cell_type": "code",
   "execution_count": null,
   "id": "536fa178",
   "metadata": {},
   "outputs": [],
   "source": [
    "#Logistic Regression the Crucial Six Steps - Example: Logit-Simmons"
   ]
  },
  {
   "cell_type": "code",
   "execution_count": 1,
   "id": "1a1ebca8",
   "metadata": {},
   "outputs": [],
   "source": [
    "import pandas as pd\n",
    "import numpy as np\n",
    "import matplotlib.pyplot as plt\n",
    "import seaborn as sn"
   ]
  },
  {
   "cell_type": "code",
   "execution_count": 2,
   "id": "8d8cd3d9",
   "metadata": {},
   "outputs": [],
   "source": [
    "#Suppress Warnings\n",
    "import warnings\n",
    "warnings.filterwarnings(\"ignore\")"
   ]
  },
  {
   "cell_type": "code",
   "execution_count": 47,
   "id": "c3c6e326",
   "metadata": {},
   "outputs": [],
   "source": [
    "#Reading the file\n",
    "from sklearn.model_selection import train_test_split\n",
    "mydata=pd.read_csv(\"examlogit.csv\")\n",
    "mydata=mydata.dropna()\n",
    "X=mydata.iloc[:,2:5]\n",
    "Y=mydata.iloc[:,1:2]\n",
    "X_train,X_test,Y_train,Y_test=train_test_split(X,Y,test_size=0.3,random_state=42)\n",
    "X_train,X_test=train_test_split(mydata,test_size=0.3,random_state=42)\n"
   ]
  },
  {
   "cell_type": "code",
   "execution_count": 48,
   "id": "0607afed",
   "metadata": {},
   "outputs": [
    {
     "name": "stdout",
     "output_type": "stream",
     "text": [
      "Optimization terminated successfully.\n",
      "         Current function value: 0.253897\n",
      "         Iterations 10\n",
      "                           Logit Regression Results                           \n",
      "==============================================================================\n",
      "Dep. Variable:                Loyalty   No. Observations:                   21\n",
      "Model:                          Logit   Df Residuals:                       17\n",
      "Method:                           MLE   Df Model:                            3\n",
      "Date:                Thu, 24 Mar 2022   Pseudo R-squ.:                  0.6282\n",
      "Time:                        14:20:08   Log-Likelihood:                -5.3318\n",
      "converged:                       True   LL-Null:                       -14.341\n",
      "Covariance Type:            nonrobust   LLR p-value:                 0.0004360\n",
      "==============================================================================\n",
      "                 coef    std err          z      P>|z|      [0.025      0.975]\n",
      "------------------------------------------------------------------------------\n",
      "Intercept    -21.9412     14.376     -1.526      0.127     -50.119       6.236\n",
      "Brand          2.9687      1.771      1.676      0.094      -0.503       6.440\n",
      "Product        0.8416      0.980      0.858      0.391      -1.080       2.763\n",
      "Shopping       1.8347      1.221      1.502      0.133      -0.559       4.228\n",
      "==============================================================================\n",
      "\n",
      "Possibly complete quasi-separation: A fraction 0.14 of observations can be\n",
      "perfectly predicted. This might indicate that there is complete\n",
      "quasi-separation. In this case some parameters will not be identified.\n"
     ]
    }
   ],
   "source": [
    "#Building the Model\n",
    "import statsmodels.api as sm\n",
    "import statsmodels.formula.api as smf\n",
    "logit = smf.logit(\"Loyalty~Brand+Product+Shopping\",data=X_train)\n",
    "lg=logit.fit() \n",
    "print(lg.summary())\n",
    "prediction=lg.predict()"
   ]
  },
  {
   "cell_type": "code",
   "execution_count": 49,
   "id": "6c14a5ef",
   "metadata": {},
   "outputs": [
    {
     "name": "stdout",
     "output_type": "stream",
     "text": [
      "LogLikelyhoodRatio= 0.000436\n"
     ]
    }
   ],
   "source": [
    "#Step1: Overall Validity of the Model:Loglikelyhood\n",
    "print(\"LogLikelyhoodRatio=\",format(lg.llr_pvalue,\"0.6f\"))"
   ]
  },
  {
   "cell_type": "code",
   "execution_count": 50,
   "id": "d7b42b5f",
   "metadata": {},
   "outputs": [],
   "source": [
    "#1. Overall, the logistic regression model in this example\n",
    "#is statistically significant (PValue=0.000436 is less than alpha(0.05))\n",
    "#Therefore, the model is robust."
   ]
  },
  {
   "cell_type": "code",
   "execution_count": 51,
   "id": "bec9b578",
   "metadata": {},
   "outputs": [
    {
     "name": "stdout",
     "output_type": "stream",
     "text": [
      "McFadden Rsq= 0.628212\n"
     ]
    }
   ],
   "source": [
    "#Step2\"McFadden R Square\n",
    "McFaddenR2 = 1-(lg.llf/lg.llnull)\n",
    "print(\"McFadden Rsq=\",format(McFaddenR2,\"0.6f\"))"
   ]
  },
  {
   "cell_type": "code",
   "execution_count": 52,
   "id": "527b1d60",
   "metadata": {},
   "outputs": [],
   "source": [
    "#2. About 62.82% of the uncertainty produced by the\n",
    "#intercept only model is calibrated or explained by the full model (Intercept +\n",
    "#slopes of spending and card)"
   ]
  },
  {
   "cell_type": "code",
   "execution_count": 66,
   "id": "a70ebdac",
   "metadata": {},
   "outputs": [
    {
     "data": {
      "text/html": [
       "<div>\n",
       "<style scoped>\n",
       "    .dataframe tbody tr th:only-of-type {\n",
       "        vertical-align: middle;\n",
       "    }\n",
       "\n",
       "    .dataframe tbody tr th {\n",
       "        vertical-align: top;\n",
       "    }\n",
       "\n",
       "    .dataframe thead th {\n",
       "        text-align: right;\n",
       "    }\n",
       "</style>\n",
       "<table border=\"1\" class=\"dataframe\">\n",
       "  <thead>\n",
       "    <tr style=\"text-align: right;\">\n",
       "      <th></th>\n",
       "      <th>coef</th>\n",
       "      <th>pval</th>\n",
       "    </tr>\n",
       "  </thead>\n",
       "  <tbody>\n",
       "    <tr>\n",
       "      <th>Intercept</th>\n",
       "      <td>-21.9412</td>\n",
       "      <td>0.1270</td>\n",
       "    </tr>\n",
       "    <tr>\n",
       "      <th>Brand</th>\n",
       "      <td>2.9687</td>\n",
       "      <td>0.0937</td>\n",
       "    </tr>\n",
       "    <tr>\n",
       "      <th>Product</th>\n",
       "      <td>0.8416</td>\n",
       "      <td>0.3907</td>\n",
       "    </tr>\n",
       "    <tr>\n",
       "      <th>Shopping</th>\n",
       "      <td>1.8347</td>\n",
       "      <td>0.1330</td>\n",
       "    </tr>\n",
       "  </tbody>\n",
       "</table>\n",
       "</div>"
      ],
      "text/plain": [
       "              coef   pval\n",
       "Intercept -21.9412 0.1270\n",
       "Brand       2.9687 0.0937\n",
       "Product     0.8416 0.3907\n",
       "Shopping    1.8347 0.1330"
      ]
     },
     "execution_count": 66,
     "metadata": {},
     "output_type": "execute_result"
    }
   ],
   "source": [
    "# Step3:Test for Significance of Individual coef\n",
    "lgcoef = pd.DataFrame(lg.params, columns=['coef'])\n",
    "lgcoef['pval']=lg.pvalues\n",
    "pd.options.display.float_format = \"{:0.4f}\".format \n",
    "lgcoef"
   ]
  },
  {
   "cell_type": "code",
   "execution_count": 72,
   "id": "c6e0b605",
   "metadata": {},
   "outputs": [],
   "source": [
    "#All betas including in this case intercept are not highly significant.\n",
    "#Therefore some betas should be removed original population model."
   ]
  },
  {
   "cell_type": "code",
   "execution_count": 73,
   "id": "2aa09630",
   "metadata": {},
   "outputs": [
    {
     "data": {
      "text/html": [
       "<div>\n",
       "<style scoped>\n",
       "    .dataframe tbody tr th:only-of-type {\n",
       "        vertical-align: middle;\n",
       "    }\n",
       "\n",
       "    .dataframe tbody tr th {\n",
       "        vertical-align: top;\n",
       "    }\n",
       "\n",
       "    .dataframe thead th {\n",
       "        text-align: right;\n",
       "    }\n",
       "</style>\n",
       "<table border=\"1\" class=\"dataframe\">\n",
       "  <thead>\n",
       "    <tr style=\"text-align: right;\">\n",
       "      <th></th>\n",
       "      <th>coef</th>\n",
       "      <th>pval</th>\n",
       "      <th>Odds_ratio</th>\n",
       "      <th>probability</th>\n",
       "    </tr>\n",
       "  </thead>\n",
       "  <tbody>\n",
       "    <tr>\n",
       "      <th>Brand</th>\n",
       "      <td>2.9687</td>\n",
       "      <td>0.0937</td>\n",
       "      <td>19.4674</td>\n",
       "      <td>0.9511</td>\n",
       "    </tr>\n",
       "    <tr>\n",
       "      <th>Shopping</th>\n",
       "      <td>1.8347</td>\n",
       "      <td>0.1330</td>\n",
       "      <td>6.2632</td>\n",
       "      <td>0.8623</td>\n",
       "    </tr>\n",
       "    <tr>\n",
       "      <th>Product</th>\n",
       "      <td>0.8416</td>\n",
       "      <td>0.3907</td>\n",
       "      <td>2.3202</td>\n",
       "      <td>0.6988</td>\n",
       "    </tr>\n",
       "    <tr>\n",
       "      <th>Intercept</th>\n",
       "      <td>-21.9412</td>\n",
       "      <td>0.1270</td>\n",
       "      <td>0.0000</td>\n",
       "      <td>0.0000</td>\n",
       "    </tr>\n",
       "  </tbody>\n",
       "</table>\n",
       "</div>"
      ],
      "text/plain": [
       "              coef   pval  Odds_ratio  probability\n",
       "Brand       2.9687 0.0937     19.4674       0.9511\n",
       "Shopping    1.8347 0.1330      6.2632       0.8623\n",
       "Product     0.8416 0.3907      2.3202       0.6988\n",
       "Intercept -21.9412 0.1270      0.0000       0.0000"
      ]
     },
     "execution_count": 73,
     "metadata": {},
     "output_type": "execute_result"
    }
   ],
   "source": [
    "#Step4: Odds and Probability \n",
    "#Exponential of coef to get odds ratio\n",
    "lgcoef.loc[:, \"Odds_ratio\"] = np.exp(lgcoef.coef)\n",
    "\n",
    "#Probability from Odds ratio\n",
    "lgcoef['probability'] = lgcoef['Odds_ratio']/(1+lgcoef['Odds_ratio'])\n",
    "\n",
    "#Sort dataframe by decreasing Odds ratio\n",
    "lgcoef = lgcoef.sort_values(by=\"Odds_ratio\", ascending=False)\n",
    "lgcoef"
   ]
  },
  {
   "cell_type": "code",
   "execution_count": 74,
   "id": "e1b1eb89",
   "metadata": {},
   "outputs": [
    {
     "name": "stdout",
     "output_type": "stream",
     "text": [
      "[[ 8  1]\n",
      " [ 2 10]]\n",
      "  \n",
      "accuracy:  0.86\n",
      "recall:  0.83\n",
      "precision:  0.91\n"
     ]
    }
   ],
   "source": [
    "#Step5: Creating the confusion matrix\n",
    "#Predict probability\n",
    "Y=X_train[\"Loyalty\"]\n",
    "pred_prob = lg.predict()\n",
    "#Compute class from predicted probability\n",
    "pred_class = (pred_prob>0.5).astype(np.int)\n",
    "from sklearn.metrics import accuracy_score, confusion_matrix, recall_score, precision_score\n",
    "#Confusion matrix\n",
    "print(confusion_matrix(Y.astype(float), pred_class))\n",
    "print(\"  \")\n",
    "#Accuracy, recall, precision\n",
    "accuracy = round(accuracy_score(Y.astype(float), pred_class),2)\n",
    "recall = round(recall_score(Y.astype(float), pred_class),2)\n",
    "precision = round(precision_score(Y.astype(float), pred_class),2)\n",
    "print(\"accuracy: \",accuracy)\n",
    "print(\"recall: \",recall)\n",
    "print(\"precision: \",precision)"
   ]
  },
  {
   "cell_type": "code",
   "execution_count": 75,
   "id": "80f30131",
   "metadata": {},
   "outputs": [
    {
     "data": {
      "image/png": "[encoded data removed]",
      "text/plain": [
       "<Figure size 432x288 with 2 Axes>"
      ]
     },
     "metadata": {
      "needs_background": "light"
     },
     "output_type": "display_data"
    }
   ],
   "source": [
    "#Better Display of Confusion Matrix\n",
    "Confusion=confusion_matrix(Y.astype(float), pred_class)\n",
    "Confusion=sn.heatmap(Confusion,annot=True,cmap=(\"Oranges\"),\n",
    "                     annot_kws={\"size\":20},\n",
    "                    xticklabels=[\"Not Loyal\",\"Loyal\"],\n",
    "                    yticklabels=[\"Not Loyal\",\"Loyal\"])\n",
    "plt.xlabel(\"Predicted\")\n",
    "plt.ylabel(\"Actual\")\n",
    "plt.show()"
   ]
  },
  {
   "cell_type": "code",
   "execution_count": 76,
   "id": "e31b1a16",
   "metadata": {},
   "outputs": [
    {
     "data": {
      "image/png": "[encoded data removed]",
      "text/plain": [
       "<Figure size 432x288 with 1 Axes>"
      ]
     },
     "metadata": {
      "needs_background": "light"
     },
     "output_type": "display_data"
    }
   ],
   "source": [
    "#Step6:ROC Curve\n",
    "from sklearn.metrics import roc_auc_score\n",
    "from sklearn.metrics import roc_curve\n",
    "logit_roc_auc = roc_auc_score(Y.astype(float), pred_class)\n",
    "fpr, tpr, thresholds = roc_curve(Y.astype(float), pred_prob)\n",
    "plt.figure()\n",
    "plt.plot(fpr, tpr, label='Logistic Regression (area = %0.3f)' % logit_roc_auc)\n",
    "plt.plot([0, 1], [0, 1],'r--')\n",
    "plt.xlim([0.0, 1.0])\n",
    "plt.ylim([0.0, 1.05])\n",
    "plt.xlabel('False Positive Rate')\n",
    "plt.ylabel('True Positive Rate')\n",
    "plt.title('Receiver operating characteristic')\n",
    "plt.legend(loc=\"lower right\")\n",
    "plt.savefig('Log_ROC')\n",
    "plt.show()"
   ]
  },
  {
   "cell_type": "code",
   "execution_count": 77,
   "id": "9031fb53",
   "metadata": {},
   "outputs": [],
   "source": [
    "#The ROc Curve is fairly steep and covers are(73%) and appears to separate in a satisfactory manner the \n",
    "#true positive from false positive cases.\n",
    "#**The Model based on training data set appears satisfactory \n",
    "#using the six steps approach of the Logistic Regression."
   ]
  },
  {
   "cell_type": "code",
   "execution_count": 79,
   "id": "a7c75ca3",
   "metadata": {},
   "outputs": [
    {
     "name": "stdout",
     "output_type": "stream",
     "text": [
      "accuracy:  0.78\n",
      "recall:  1.0\n",
      "precision:  0.6\n"
     ]
    },
    {
     "data": {
      "image/png": "[encoded data removed]",
      "text/plain": [
       "<Figure size 432x288 with 2 Axes>"
      ]
     },
     "metadata": {
      "needs_background": "light"
     },
     "output_type": "display_data"
    }
   ],
   "source": [
    "#Compute class from predicted probability\n",
    "import seaborn as sns\n",
    "pred_prob=lg.predict(X_test)\n",
    "pred_class = (pred_prob>0.5).astype(np.int)\n",
    "pred_class\n",
    "#Accuracy, recall, precision\n",
    "accuracy = round(accuracy_score(Y_test.astype(float), pred_class),2)\n",
    "recall = round(recall_score(Y_test.astype(float), pred_class),2)\n",
    "precision = round(precision_score(Y_test.astype(float), pred_class),2)\n",
    "\n",
    "print(\"accuracy: \",accuracy)\n",
    "print(\"recall: \",recall)\n",
    "print(\"precision: \",precision)\n",
    "\n",
    "#Confusion matrix\n",
    "confusion=confusion_matrix(Y_test.astype(float), pred_class)\n",
    "sns.heatmap(confusion,annot=True,cmap=(\"Oranges\"),\n",
    "           xticklabels=[\"Not Loyal\",\"Loyal\"],\n",
    "           yticklabels=[\"Not Loyal\",\"Loyal\"],fmt=\"0.0f\")\n",
    "plt.ylabel(\"Actual\")\n",
    "plt.xlabel(\"Predicted\")\n",
    "plt.show()"
   ]
  },
  {
   "cell_type": "code",
   "execution_count": null,
   "id": "27254cbc",
   "metadata": {},
   "outputs": [],
   "source": []
  }
 ],
 "metadata": {
  "kernelspec": {
   "display_name": "Python 3 (ipykernel)",
   "language": "python",
   "name": "python3"
  },
  "language_info": {
   "codemirror_mode": {
    "name": "ipython",
    "version": 3
   },
   "file_extension": ".py",
   "mimetype": "text/x-python",
   "name": "python",
   "nbconvert_exporter": "python",
   "pygments_lexer": "ipython3",
   "version": "3.9.7"
  }
 },
 "nbformat": 4,
 "nbformat_minor": 5
}
