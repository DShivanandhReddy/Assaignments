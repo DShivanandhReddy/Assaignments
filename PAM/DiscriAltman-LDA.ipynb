{
 "cells": [
  {
   "cell_type": "code",
   "execution_count": null,
   "id": "fa576f9d",
   "metadata": {},
   "outputs": [],
   "source": [
    "# Fisher's Linear Discriminant Analysis-Altman"
   ]
  },
  {
   "cell_type": "code",
   "execution_count": 1,
   "id": "f9b12512",
   "metadata": {},
   "outputs": [],
   "source": [
    "#Import Core Libraries\n",
    "import pandas as pd\n",
    "import numpy as np\n",
    "from matplotlib import pyplot as plt\n",
    "np.set_printoptions(precision=4)\n",
    "import seaborn as sns\n",
    "sns.set() \n",
    "from sklearn.model_selection import train_test_split\n",
    "from sklearn.metrics import confusion_matrix\n",
    "from sklearn.metrics import accuracy_score,recall_score,precision_score\n",
    "from sklearn.metrics import roc_auc_score,roc_curve\n",
    "import warnings\n",
    "warnings.filterwarnings('ignore')"
   ]
  },
  {
   "cell_type": "code",
   "execution_count": 2,
   "id": "b945d30d",
   "metadata": {},
   "outputs": [
    {
     "data": {
      "text/html": [
       "<div>\n",
       "<style scoped>\n",
       "    .dataframe tbody tr th:only-of-type {\n",
       "        vertical-align: middle;\n",
       "    }\n",
       "\n",
       "    .dataframe tbody tr th {\n",
       "        vertical-align: top;\n",
       "    }\n",
       "\n",
       "    .dataframe thead th {\n",
       "        text-align: right;\n",
       "    }\n",
       "</style>\n",
       "<table border=\"1\" class=\"dataframe\">\n",
       "  <thead>\n",
       "    <tr style=\"text-align: right;\">\n",
       "      <th></th>\n",
       "      <th>no</th>\n",
       "      <th>Loyalty</th>\n",
       "      <th>Brand</th>\n",
       "      <th>Product</th>\n",
       "      <th>Shopping</th>\n",
       "    </tr>\n",
       "  </thead>\n",
       "  <tbody>\n",
       "    <tr>\n",
       "      <th>0</th>\n",
       "      <td>1</td>\n",
       "      <td>1</td>\n",
       "      <td>4</td>\n",
       "      <td>3</td>\n",
       "      <td>5</td>\n",
       "    </tr>\n",
       "    <tr>\n",
       "      <th>1</th>\n",
       "      <td>2</td>\n",
       "      <td>1</td>\n",
       "      <td>6</td>\n",
       "      <td>4</td>\n",
       "      <td>4</td>\n",
       "    </tr>\n",
       "    <tr>\n",
       "      <th>2</th>\n",
       "      <td>3</td>\n",
       "      <td>1</td>\n",
       "      <td>5</td>\n",
       "      <td>2</td>\n",
       "      <td>4</td>\n",
       "    </tr>\n",
       "    <tr>\n",
       "      <th>3</th>\n",
       "      <td>4</td>\n",
       "      <td>1</td>\n",
       "      <td>7</td>\n",
       "      <td>5</td>\n",
       "      <td>5</td>\n",
       "    </tr>\n",
       "    <tr>\n",
       "      <th>4</th>\n",
       "      <td>5</td>\n",
       "      <td>1</td>\n",
       "      <td>6</td>\n",
       "      <td>3</td>\n",
       "      <td>4</td>\n",
       "    </tr>\n",
       "  </tbody>\n",
       "</table>\n",
       "</div>"
      ],
      "text/plain": [
       "   no  Loyalty  Brand  Product  Shopping\n",
       "0   1        1      4        3         5\n",
       "1   2        1      6        4         4\n",
       "2   3        1      5        2         4\n",
       "3   4        1      7        5         5\n",
       "4   5        1      6        3         4"
      ]
     },
     "execution_count": 2,
     "metadata": {},
     "output_type": "execute_result"
    }
   ],
   "source": [
    "#Read file\n",
    "mydata=pd.read_csv(\"examlogit.csv\")\n",
    "mydata.head()"
   ]
  },
  {
   "cell_type": "code",
   "execution_count": 3,
   "id": "33d3b69c",
   "metadata": {},
   "outputs": [
    {
     "data": {
      "text/plain": [
       "1    15\n",
       "0    15\n",
       "Name: Loyalty, dtype: int64"
      ]
     },
     "execution_count": 3,
     "metadata": {},
     "output_type": "execute_result"
    }
   ],
   "source": [
    "#Count How many are Bankrupt and Solvent\n",
    "mydata[\"Loyalty\"].value_counts()"
   ]
  },
  {
   "cell_type": "code",
   "execution_count": 4,
   "id": "4ad5644a",
   "metadata": {},
   "outputs": [
    {
     "data": {
      "text/plain": [
       "(30, 3)"
      ]
     },
     "execution_count": 4,
     "metadata": {},
     "output_type": "execute_result"
    }
   ],
   "source": [
    "#Define Predictor Variables\n",
    "X=mydata.iloc[:,2:5]\n",
    "X.shape"
   ]
  },
  {
   "cell_type": "code",
   "execution_count": 5,
   "id": "f88e69f0",
   "metadata": {},
   "outputs": [
    {
     "data": {
      "text/html": [
       "<div>\n",
       "<style scoped>\n",
       "    .dataframe tbody tr th:only-of-type {\n",
       "        vertical-align: middle;\n",
       "    }\n",
       "\n",
       "    .dataframe tbody tr th {\n",
       "        vertical-align: top;\n",
       "    }\n",
       "\n",
       "    .dataframe thead th {\n",
       "        text-align: right;\n",
       "    }\n",
       "</style>\n",
       "<table border=\"1\" class=\"dataframe\">\n",
       "  <thead>\n",
       "    <tr style=\"text-align: right;\">\n",
       "      <th></th>\n",
       "      <th>Brand</th>\n",
       "      <th>Product</th>\n",
       "      <th>Shopping</th>\n",
       "    </tr>\n",
       "  </thead>\n",
       "  <tbody>\n",
       "    <tr>\n",
       "      <th>0</th>\n",
       "      <td>4</td>\n",
       "      <td>3</td>\n",
       "      <td>5</td>\n",
       "    </tr>\n",
       "    <tr>\n",
       "      <th>1</th>\n",
       "      <td>6</td>\n",
       "      <td>4</td>\n",
       "      <td>4</td>\n",
       "    </tr>\n",
       "    <tr>\n",
       "      <th>2</th>\n",
       "      <td>5</td>\n",
       "      <td>2</td>\n",
       "      <td>4</td>\n",
       "    </tr>\n",
       "    <tr>\n",
       "      <th>3</th>\n",
       "      <td>7</td>\n",
       "      <td>5</td>\n",
       "      <td>5</td>\n",
       "    </tr>\n",
       "    <tr>\n",
       "      <th>4</th>\n",
       "      <td>6</td>\n",
       "      <td>3</td>\n",
       "      <td>4</td>\n",
       "    </tr>\n",
       "  </tbody>\n",
       "</table>\n",
       "</div>"
      ],
      "text/plain": [
       "   Brand  Product  Shopping\n",
       "0      4        3         5\n",
       "1      6        4         4\n",
       "2      5        2         4\n",
       "3      7        5         5\n",
       "4      6        3         4"
      ]
     },
     "execution_count": 5,
     "metadata": {},
     "output_type": "execute_result"
    }
   ],
   "source": [
    "X.head()"
   ]
  },
  {
   "cell_type": "code",
   "execution_count": 6,
   "id": "c711208a",
   "metadata": {},
   "outputs": [],
   "source": [
    "#Define Group Variable Y after Numerical Coding\n",
    "Y=mydata[\"Loyalty\"]"
   ]
  },
  {
   "cell_type": "code",
   "execution_count": 10,
   "id": "fcf72c9b",
   "metadata": {},
   "outputs": [
    {
     "name": "stdout",
     "output_type": "stream",
     "text": [
      "            Brand  Product  Shopping     Status\n",
      "Loyalty                                        \n",
      "0        3.533333      3.8  3.066667  Not Loyal\n",
      "1        5.666667      4.2  4.000000      Loyal\n"
     ]
    },
    {
     "data": {
      "image/png": "[encoded data removed]",
      "text/plain": [
       "<Figure size 432x288 with 1 Axes>"
      ]
     },
     "metadata": {},
     "output_type": "display_data"
    },
    {
     "data": {
      "image/png": "[encoded data removed]",
      "text/plain": [
       "<Figure size 432x288 with 1 Axes>"
      ]
     },
     "metadata": {},
     "output_type": "display_data"
    },
    {
     "data": {
      "image/png": "[encoded data removed]",
      "text/plain": [
       "<Figure size 432x288 with 1 Axes>"
      ]
     },
     "metadata": {},
     "output_type": "display_data"
    }
   ],
   "source": [
    "#Descriptive Profiling and Differentiation\n",
    "Profile=pd.pivot_table(mydata,values=[\"Brand\",\"Product\",\"Shopping\"],index=[\"Loyalty\"])\n",
    "Profile=pd.DataFrame(Profile)\n",
    "Profile.head()\n",
    "Profile[\"Status\"]=[\"Not Loyal\",\"Loyal\"]\n",
    "print(Profile)\n",
    "\n",
    "\n",
    "sns.barplot(x=mydata.Loyalty,y=mydata.Brand)\n",
    "plt.show()\n",
    "sns.barplot(x=mydata.Loyalty,y=mydata.Product)\n",
    "plt.show()\n",
    "sns.barplot(x=mydata.Loyalty,y=mydata.Shopping)\n",
    "plt.show()"
   ]
  },
  {
   "cell_type": "code",
   "execution_count": 11,
   "id": "7c7a54ad",
   "metadata": {},
   "outputs": [
    {
     "name": "stdout",
     "output_type": "stream",
     "text": [
      "[1.]\n"
     ]
    }
   ],
   "source": [
    "#Building the Model\n",
    "from sklearn.discriminant_analysis import LinearDiscriminantAnalysis\n",
    "lda=LinearDiscriminantAnalysis()\n",
    "X_lda=lda.fit_transform(X,Y)\n",
    "VarExplained=lda.explained_variance_ratio_\n",
    "print(VarExplained)\n",
    "Model=lda.fit(X,Y)"
   ]
  },
  {
   "cell_type": "code",
   "execution_count": 12,
   "id": "409deea9",
   "metadata": {},
   "outputs": [
    {
     "data": {
      "text/plain": [
       "{'covariance_estimator': None,\n",
       " 'n_components': None,\n",
       " 'priors': None,\n",
       " 'shrinkage': None,\n",
       " 'solver': 'svd',\n",
       " 'store_covariance': False,\n",
       " 'tol': 0.0001}"
      ]
     },
     "execution_count": 12,
     "metadata": {},
     "output_type": "execute_result"
    }
   ],
   "source": [
    "#Model Attributes\n",
    "Model.get_params(deep=True)"
   ]
  },
  {
   "cell_type": "code",
   "execution_count": 14,
   "id": "68863e50",
   "metadata": {},
   "outputs": [
    {
     "name": "stdout",
     "output_type": "stream",
     "text": [
      "              Brand   Product  Shopping\n",
      "Fisher Z=  1.282047  0.141878  0.517929\n"
     ]
    }
   ],
   "source": [
    "#Getting Fisher's LDA Model with Coefficients\n",
    "Coef=Model.coef_\n",
    "Coef=pd.DataFrame(Coef).transpose()\n",
    "Coef.columns=[\"Fisher Z=\"]\n",
    "Result=Coef.transpose()\n",
    "Result.columns=[\"Brand\",\"Product\",\"Shopping\"]\n",
    "print(Result)"
   ]
  },
  {
   "cell_type": "code",
   "execution_count": 12,
   "id": "23e16ed1",
   "metadata": {},
   "outputs": [
    {
     "name": "stdout",
     "output_type": "stream",
     "text": [
      "      ZScore\n",
      "0  -4.749900\n",
      "1  -1.148397\n",
      "2  -7.114795\n",
      "3  -2.863518\n",
      "4  -3.534630\n",
      "..       ...\n",
      "61  2.686624\n",
      "62  2.319269\n",
      "63  3.587997\n",
      "64  0.521819\n",
      "65  0.398335\n",
      "\n",
      "[66 rows x 1 columns]\n"
     ]
    }
   ],
   "source": [
    "#Getting Scores for Classification\n",
    "Scores=Model.decision_function(X)\n",
    "Scores=pd.DataFrame(Scores)\n",
    "Scores.columns=[\"ZScore\"]\n",
    "print(Scores)\n",
    "Scores.to_csv(\"Zscores.csv\",index=False)"
   ]
  },
  {
   "cell_type": "code",
   "execution_count": 15,
   "id": "73f9e187",
   "metadata": {},
   "outputs": [
    {
     "name": "stdout",
     "output_type": "stream",
     "text": [
      "          0         1\n",
      "0  0.537797  0.462203\n",
      "1  0.115417  0.884583\n",
      "2  0.384436  0.615564\n",
      "3  0.018371  0.981629\n",
      "4  0.130711  0.869289\n"
     ]
    },
    {
     "data": {
      "image/png": "[encoded data removed]",
      "text/plain": [
       "<Figure size 432x288 with 2 Axes>"
      ]
     },
     "metadata": {},
     "output_type": "display_data"
    }
   ],
   "source": [
    "#Probability and Confusion Matrix\n",
    "Posterior=Model.predict_proba(X)\n",
    "Posterior=pd.DataFrame(Posterior)\n",
    "print(Posterior.head())\n",
    "pred_class=(Posterior[1]>0.5).astype(np.int) \n",
    "confusion=confusion_matrix(Y.astype(float),pred_class) \n",
    "sns.heatmap(confusion, annot=True,cmap=\"Oranges\",annot_kws={\"size\":20},\n",
    "           xticklabels=[\"Not Loyal\",\"Loyal\"],\n",
    "           yticklabels=[\"Not Loyal\",\"Loyal\"])\n",
    "plt.ylabel(\"Actual\")\n",
    "plt.xlabel(\"Predicted\")\n",
    "plt.show()"
   ]
  },
  {
   "cell_type": "code",
   "execution_count": 16,
   "id": "3130f139",
   "metadata": {},
   "outputs": [
    {
     "name": "stdout",
     "output_type": "stream",
     "text": [
      "Accuracy= 0.8000\n",
      "Recall= 0.8000\n",
      "Precision= 0.8000\n"
     ]
    }
   ],
   "source": [
    "#Getting Accuracy,Recall, and Precision\n",
    "print(\"Accuracy=\",\"{0:.4f}\".format(accuracy_score(Y.astype(np.int),pred_class)))\n",
    "print(\"Recall=\",\"{0:.4f}\".format(recall_score(Y.astype(np.int),pred_class)))\n",
    "print(\"Precision=\",\"{0:.4f}\".format(precision_score(Y.astype(np.int),pred_class)))"
   ]
  },
  {
   "cell_type": "code",
   "execution_count": 18,
   "id": "780648cf",
   "metadata": {},
   "outputs": [
    {
     "data": {
      "image/png": "[encoded data removed]",
      "text/plain": [
       "<Figure size 432x288 with 1 Axes>"
      ]
     },
     "metadata": {},
     "output_type": "display_data"
    }
   ],
   "source": [
    "#Getting the ROC Curve\n",
    "disroc=roc_auc_score(Y.astype(float),pred_class)\n",
    "fpr,tpr,thresholds=roc_curve(Y.astype(float),Posterior[1])\n",
    "plt.figure()\n",
    "plt.plot(fpr,tpr,color=\"red\",lw=3,label=\"Fisher's Discriminant Model(area=%0.3f)\" %disroc)\n",
    "plt.plot([0,1],[0,1],\"r--\")\n",
    "plt.xlim([0,1])\n",
    "plt.ylim([0,1.05])\n",
    "plt.xlabel(\"False Positive\")\n",
    "plt.ylabel(\"True Positive\")\n",
    "plt.title(\"Receiver Operating Characteristic Curve\")\n",
    "plt.legend(loc=\"lower right\")\n",
    "plt.show()"
   ]
  },
  {
   "cell_type": "code",
   "execution_count": null,
   "id": "c2004c08",
   "metadata": {},
   "outputs": [],
   "source": []
  }
 ],
 "metadata": {
  "kernelspec": {
   "display_name": "Python 3 (ipykernel)",
   "language": "python",
   "name": "python3"
  },
  "language_info": {
   "codemirror_mode": {
    "name": "ipython",
    "version": 3
   },
   "file_extension": ".py",
   "mimetype": "text/x-python",
   "name": "python",
   "nbconvert_exporter": "python",
   "pygments_lexer": "ipython3",
   "version": "3.9.7"
  }
 },
 "nbformat": 4,
 "nbformat_minor": 5
}
